{
  "nbformat": 4,
  "nbformat_minor": 0,
  "metadata": {
    "colab": {
      "provenance": [],
      "collapsed_sections": [],
      "toc_visible": true,
      "mount_file_id": "11PtfRXOcoCF5OZfBv4Q1LcKO75U8z2Rv",
      "authorship_tag": "ABX9TyNfQChMVq+9lGHPKrpRaVlt",
      "include_colab_link": true
    },
    "kernelspec": {
      "name": "python3",
      "display_name": "Python 3"
    },
    "language_info": {
      "name": "python"
    }
  },
  "cells": [
    {
      "cell_type": "markdown",
      "metadata": {
        "id": "view-in-github",
        "colab_type": "text"
      },
      "source": [
        "<a href=\"https://colab.research.google.com/github/guilhembr/P7_Scoring/blob/main/POList_01_Cleaning_EDA.ipynb\" target=\"_parent\"><img src=\"https://colab.research.google.com/assets/colab-badge.svg\" alt=\"Open In Colab\"/></a>"
      ]
    },
    {
      "cell_type": "markdown",
      "metadata": {
        "id": "LC-1GddsSB53"
      },
      "source": [
        "Our objective is to explore the dataset from Olist. This EDA will be oriented in order to encourage better pre-processing for Unsupervized Machine Learning modeling. This model aims to find the best number and composition of Customer clusters within the dataset. "
      ]
    },
    {
      "cell_type": "markdown",
      "metadata": {
        "id": "gI7bjL8YbAgu"
      },
      "source": [
        "#Import Data"
      ]
    },
    {
      "cell_type": "code",
      "metadata": {
        "id": "BdZB5Ctjahd9"
      },
      "source": [
        "import pandas as pd\n",
        "import matplotlib.pyplot as plt\n",
        "import seaborn as sns\n",
        "import numpy as np\n",
        "from scipy import stats"
      ],
      "execution_count": null,
      "outputs": []
    },
    {
      "cell_type": "code",
      "metadata": {
        "colab": {
          "base_uri": "https://localhost:8080/"
        },
        "id": "e_J5eF7ZaxGx",
        "outputId": "0d586a0c-f7ca-408c-e9a9-29d980a922c4"
      },
      "source": [
        "from google.colab import drive\n",
        "drive.mount('/content/drive')"
      ],
      "execution_count": null,
      "outputs": [
        {
          "output_type": "stream",
          "name": "stdout",
          "text": [
            "Drive already mounted at /content/drive; to attempt to forcibly remount, call drive.mount(\"/content/drive\", force_remount=True).\n"
          ]
        }
      ]
    },
    {
      "cell_type": "markdown",
      "metadata": {
        "id": "8zk1ziQT22h4"
      },
      "source": [
        "When importing the data we make sure to change the data type for date columns : "
      ]
    },
    {
      "cell_type": "code",
      "metadata": {
        "id": "5TGJodUqaytb"
      },
      "source": [
        "# root_dir = '/home/pag/Documents/suivi_OC/intros/DS/P5/clustering_olist/'\n",
        "\n",
        "root_dir = '/content/drive/MyDrive/Colab Notebooks/3_Projets OC/Projet 5/raw data/'\n",
        "\n",
        "# Orders\n",
        "orders_raw = pd.read_csv(root_dir + 'olist_orders_dataset.csv',\n",
        "                         parse_dates=['order_purchase_timestamp',\n",
        "                                      'order_approved_at',\n",
        "                                      'order_delivered_carrier_date',\n",
        "                                      'order_delivered_customer_date',\n",
        "                                      'order_estimated_delivery_date'])\n",
        "\n",
        "# Order details\n",
        "order_items_raw = pd.read_csv(root_dir + 'olist_order_items_dataset.csv',\n",
        "                              parse_dates=['shipping_limit_date'],\n",
        "                              dtype={'order_item_id': float})\n",
        "# Customers\n",
        "customers_raw = pd.read_csv(root_dir + 'olist_customers_dataset.csv',\n",
        "                            dtype={'customer_zip_code_prefix': str})\n",
        "\n",
        "# Product description\n",
        "products_portuguese_raw = pd.read_csv(root_dir + 'olist_products_dataset.csv')\n",
        "\n",
        "\n",
        "# Product category\n",
        "categ_prod_file = root_dir + 'product_category_name_translation.csv'\n",
        "product_category_translate = pd.read_csv(categ_prod_file)\n",
        "\n",
        "# Payments\n",
        "payments_raw = pd.read_csv(root_dir + 'olist_order_payments_dataset.csv')\n",
        "\n",
        "\n",
        "# Comments\n",
        "reviews_raw = pd.read_csv(root_dir + 'olist_order_reviews_dataset.csv',\n",
        "                          parse_dates=['review_creation_date',\n",
        "                                       'review_answer_timestamp'])\n",
        "\n",
        "# Sellers\n",
        "sellers_raw = pd.read_csv(root_dir + 'olist_sellers_dataset.csv')\n",
        "\n",
        "# Geoloc\n",
        "geolocation_raw = pd.read_csv(root_dir + 'olist_geolocation_dataset.csv',\n",
        "                              dtype={'geolocation_zip_code_prefix': str})"
      ],
      "execution_count": null,
      "outputs": []
    },
    {
      "cell_type": "markdown",
      "metadata": {
        "id": "QqDeeBc7a9Xe"
      },
      "source": [
        "#Dataset Overview"
      ]
    },
    {
      "cell_type": "code",
      "metadata": {
        "id": "5wyy9VjfVNqc"
      },
      "source": [
        "# dataset_list.pop(1)"
      ],
      "execution_count": null,
      "outputs": []
    },
    {
      "cell_type": "code",
      "metadata": {
        "colab": {
          "base_uri": "https://localhost:8080/"
        },
        "id": "aH30WlB7a7Q7",
        "outputId": "fcd0486e-95a4-421f-a200-7c043b2b59f6"
      },
      "source": [
        "#Data shape\n",
        "\n",
        "dataset = { \n",
        "    'Orders' : orders_raw,\n",
        "    'Order Items' : order_items_raw,\n",
        "\n",
        "    'Customers' : customers_raw,\n",
        "\n",
        "    'Products Items' : products_portuguese_raw,\n",
        "    'Product Catagory Translation' : product_category_translate,\n",
        "  \n",
        "    'Payments' : payments_raw, \n",
        "\n",
        "    'Review': reviews_raw,\n",
        "\n",
        "    'Geolocation' : geolocation_raw,\n",
        "\n",
        "    'Sellers' : sellers_raw\n",
        "}\n",
        "\n",
        "for x, y in dataset.items():\n",
        "  print(f'{x}', (list(y.shape)))"
      ],
      "execution_count": null,
      "outputs": [
        {
          "output_type": "stream",
          "name": "stdout",
          "text": [
            "Orders [99441, 8]\n",
            "Order Items [112650, 7]\n",
            "Customers [99441, 5]\n",
            "Products Items [32951, 9]\n",
            "Product Catagory Translation [71, 2]\n",
            "Payments [103886, 5]\n",
            "Review [100000, 7]\n",
            "Geolocation [1000163, 5]\n",
            "Sellers [3095, 4]\n"
          ]
        }
      ]
    },
    {
      "cell_type": "code",
      "metadata": {
        "colab": {
          "base_uri": "https://localhost:8080/"
        },
        "id": "T_hRGCijbE0c",
        "outputId": "d6c78108-1204-464d-da35-3cda0aa7c675"
      },
      "source": [
        "#Column names\n",
        "\n",
        "for x, y in dataset.items():\n",
        "  print(f'{x}', f'{list(y.columns)}\\n')"
      ],
      "execution_count": null,
      "outputs": [
        {
          "output_type": "stream",
          "name": "stdout",
          "text": [
            "Orders ['order_id', 'customer_id', 'order_status', 'order_purchase_timestamp', 'order_approved_at', 'order_delivered_carrier_date', 'order_delivered_customer_date', 'order_estimated_delivery_date']\n",
            "\n",
            "Order Items ['order_id', 'order_item_id', 'product_id', 'seller_id', 'shipping_limit_date', 'price', 'freight_value']\n",
            "\n",
            "Customers ['customer_id', 'customer_unique_id', 'customer_zip_code_prefix', 'customer_city', 'customer_state']\n",
            "\n",
            "Products Items ['product_id', 'product_category_name', 'product_name_lenght', 'product_description_lenght', 'product_photos_qty', 'product_weight_g', 'product_length_cm', 'product_height_cm', 'product_width_cm']\n",
            "\n",
            "Product Catagory Translation ['product_category_name', 'product_category_name_english']\n",
            "\n",
            "Payments ['order_id', 'payment_sequential', 'payment_type', 'payment_installments', 'payment_value']\n",
            "\n",
            "Review ['review_id', 'order_id', 'review_score', 'review_comment_title', 'review_comment_message', 'review_creation_date', 'review_answer_timestamp']\n",
            "\n",
            "Geolocation ['geolocation_zip_code_prefix', 'geolocation_lat', 'geolocation_lng', 'geolocation_city', 'geolocation_state']\n",
            "\n",
            "Sellers ['seller_id', 'seller_zip_code_prefix', 'seller_city', 'seller_state']\n",
            "\n"
          ]
        }
      ]
    },
    {
      "cell_type": "code",
      "metadata": {
        "colab": {
          "base_uri": "https://localhost:8080/"
        },
        "id": "xtZFeDDKlRwv",
        "outputId": "bc5e4ee8-9839-44ca-ab9a-8eb6e4094569"
      },
      "source": [
        "#counting missing values\n",
        "for x, y in dataset.items():\n",
        "    if y.isnull().any().any():\n",
        "        print(f'{x}', (list(y.shape)),'\\n')\n",
        "        print(f'{y.isnull().sum()}\\n')"
      ],
      "execution_count": null,
      "outputs": [
        {
          "output_type": "stream",
          "name": "stdout",
          "text": [
            "Orders [99441, 8] \n",
            "\n",
            "order_id                            0\n",
            "customer_id                         0\n",
            "order_status                        0\n",
            "order_purchase_timestamp            0\n",
            "order_approved_at                 160\n",
            "order_delivered_carrier_date     1783\n",
            "order_delivered_customer_date    2965\n",
            "order_estimated_delivery_date       0\n",
            "dtype: int64\n",
            "\n",
            "Products Items [32951, 9] \n",
            "\n",
            "product_id                      0\n",
            "product_category_name         610\n",
            "product_name_lenght           610\n",
            "product_description_lenght    610\n",
            "product_photos_qty            610\n",
            "product_weight_g                2\n",
            "product_length_cm               2\n",
            "product_height_cm               2\n",
            "product_width_cm                2\n",
            "dtype: int64\n",
            "\n",
            "Review [100000, 7] \n",
            "\n",
            "review_id                      0\n",
            "order_id                       0\n",
            "review_score                   0\n",
            "review_comment_title       88285\n",
            "review_comment_message     58247\n",
            "review_creation_date           0\n",
            "review_answer_timestamp        0\n",
            "dtype: int64\n",
            "\n"
          ]
        }
      ]
    },
    {
      "cell_type": "code",
      "metadata": {
        "id": "fH0LFNW1VGDr"
      },
      "source": [
        "dataset_list = [orders_raw, \n",
        "                order_items_raw, \n",
        "                customers_raw, \n",
        "                products_portuguese_raw, \n",
        "                categ_prod_file, \n",
        "                product_category_translate, \n",
        "                payments_raw, \n",
        "                reviews_raw,\n",
        "                sellers_raw]"
      ],
      "execution_count": null,
      "outputs": []
    },
    {
      "cell_type": "code",
      "metadata": {
        "id": "G4HU6tOsXDIs"
      },
      "source": [
        "def get_df_name(df):\n",
        "    name =[x for x in globals() if globals()[x] is df][0]\n",
        "    return name"
      ],
      "execution_count": null,
      "outputs": []
    },
    {
      "cell_type": "code",
      "metadata": {
        "id": "yf4tIaKcTn8W"
      },
      "source": [
        "# for dataset in dataset_list:\n",
        "#   plt.figure(figsize=(20,10), dpi=100)\n",
        "#   plt.title(f'Taux de remplissage du dataset étudié : {get_df_name(dataset)}]')\n",
        "#   sns.heatmap(dataset.isna(), cbar=False)"
      ],
      "execution_count": null,
      "outputs": []
    },
    {
      "cell_type": "markdown",
      "metadata": {
        "id": "c1s8lMjF5QAU"
      },
      "source": [
        "To conclude on this overview : we don't have much missing data (it mainly concerns `review_comment`). \n",
        "\n",
        "We will now explore the datasets individually and clean them as we go. "
      ]
    },
    {
      "cell_type": "markdown",
      "metadata": {
        "id": "7Q62x45FgP7a"
      },
      "source": [
        "#Exploration"
      ]
    },
    {
      "cell_type": "markdown",
      "metadata": {
        "id": "Y6lhq88ZgSjv"
      },
      "source": [
        "##Orders"
      ]
    },
    {
      "cell_type": "markdown",
      "metadata": {
        "id": "c2vwIhmNiMEn"
      },
      "source": [
        "Looking at the dataset columns, we can see orders with different `order_status` : "
      ]
    },
    {
      "cell_type": "code",
      "metadata": {
        "colab": {
          "base_uri": "https://localhost:8080/"
        },
        "id": "Y2vG7Vhcq4bQ",
        "outputId": "e778bf07-5f70-4385-bd84-195cc835a644"
      },
      "source": [
        "#Check wether order_id have duplicates\n",
        "orders_raw.duplicated(subset='order_id').any()"
      ],
      "execution_count": null,
      "outputs": [
        {
          "output_type": "execute_result",
          "data": {
            "text/plain": [
              "False"
            ]
          },
          "metadata": {},
          "execution_count": 13
        }
      ]
    },
    {
      "cell_type": "markdown",
      "metadata": {
        "id": "vR3IJcrP2Xls"
      },
      "source": [
        "Each `order_id` is unique in the dataset. "
      ]
    },
    {
      "cell_type": "code",
      "metadata": {
        "colab": {
          "base_uri": "https://localhost:8080/",
          "height": 340
        },
        "id": "rkLl3r-6l3nf",
        "outputId": "82a85c0e-68b3-4ae0-c2eb-f3db5dceb1e0"
      },
      "source": [
        "fig, ax = plt.subplots(figsize=(10,4),dpi=80)\n",
        "\n",
        "sns.countplot(y = 'order_status', data = orders_raw)\n",
        "\n",
        "ax.set_title(\"Orders' status overview\")"
      ],
      "execution_count": null,
      "outputs": [
        {
          "output_type": "execute_result",
          "data": {
            "text/plain": [
              "Text(0.5, 1.0, \"Orders' status overview\")"
            ]
          },
          "metadata": {},
          "execution_count": 14
        },
        {
          "output_type": "display_data",
          "data": {
            "image/png": "[encoded data removed]",
            "text/plain": [
              "<Figure size 800x320 with 1 Axes>"
            ]
          },
          "metadata": {
            "needs_background": "light"
          }
        }
      ]
    },
    {
      "cell_type": "markdown",
      "metadata": {
        "id": "FchG9IYHxtvg"
      },
      "source": [
        "Most of the orders of the dataset have been delivered by the time this dataset was created. \n",
        "\n",
        "We will base our clustering analysis only on delivered orders and therefore will delete undelivered/canceled ones : "
      ]
    },
    {
      "cell_type": "code",
      "metadata": {
        "colab": {
          "base_uri": "https://localhost:8080/"
        },
        "id": "enh1OQNJvkiz",
        "outputId": "d943213b-d4ed-4f98-a5a0-0c5c70ff7bc2"
      },
      "source": [
        "#Create a un-delivered orders filter\n",
        "filter = orders_raw['order_status'] != 'delivered'\n",
        "\n",
        "#Get un-delivered orders count\n",
        "undel_order_count = orders_raw[filter]['order_id'].shape[0]\n",
        "\n",
        "#As percentage of total\n",
        "percentage = round(undel_order_count/orders_raw.shape[0],4)*100\n",
        "\n",
        "#Print results\n",
        "print(f'Only {percentage} % of total orders have not been delivered.')\n",
        "\n",
        "print(f'We will remove the {undel_order_count} corresponding undelivered orders from the dataset.')"
      ],
      "execution_count": null,
      "outputs": [
        {
          "output_type": "stream",
          "name": "stdout",
          "text": [
            "Only 2.98 % of total orders have not been delivered.\n",
            "We will remove the 2963 corresponding undelivered orders from the dataset.\n"
          ]
        }
      ]
    },
    {
      "cell_type": "code",
      "metadata": {
        "colab": {
          "base_uri": "https://localhost:8080/"
        },
        "id": "1gJeH8oeyM_-",
        "outputId": "71959f16-db47-40bf-e41a-4b4f85014df5"
      },
      "source": [
        "#Drop corresponding entries\n",
        "orders_clean = orders_raw.drop(orders_raw[filter].index, axis=0)\n",
        "\n",
        "#Check\n",
        "size_old = orders_raw.shape\n",
        "size_new = orders_clean.shape\n",
        "\n",
        "print(f'Raw : {size_old}')\n",
        "print(f'Clean : {size_new}')"
      ],
      "execution_count": null,
      "outputs": [
        {
          "output_type": "stream",
          "name": "stdout",
          "text": [
            "Raw : (99441, 8)\n",
            "Clean : (96478, 8)\n"
          ]
        }
      ]
    },
    {
      "cell_type": "code",
      "metadata": {
        "colab": {
          "base_uri": "https://localhost:8080/",
          "height": 226
        },
        "id": "i-LR-BG91qCz",
        "outputId": "97331615-6b43-4fba-ff0f-aac97750ee8d"
      },
      "source": [
        "orders_clean.head()"
      ],
      "execution_count": null,
      "outputs": [
        {
          "output_type": "execute_result",
          "data": {
            "text/html": [
              "<div>\n",
              "<style scoped>\n",
              "    .dataframe tbody tr th:only-of-type {\n",
              "        vertical-align: middle;\n",
              "    }\n",
              "\n",
              "    .dataframe tbody tr th {\n",
              "        vertical-align: top;\n",
              "    }\n",
              "\n",
              "    .dataframe thead th {\n",
              "        text-align: right;\n",
              "    }\n",
              "</style>\n",
              "<table border=\"1\" class=\"dataframe\">\n",
              "  <thead>\n",
              "    <tr style=\"text-align: right;\">\n",
              "      <th></th>\n",
              "      <th>order_id</th>\n",
              "      <th>customer_id</th>\n",
              "      <th>order_status</th>\n",
              "      <th>order_purchase_timestamp</th>\n",
              "      <th>order_approved_at</th>\n",
              "      <th>order_delivered_carrier_date</th>\n",
              "      <th>order_delivered_customer_date</th>\n",
              "      <th>order_estimated_delivery_date</th>\n",
              "    </tr>\n",
              "  </thead>\n",
              "  <tbody>\n",
              "    <tr>\n",
              "      <th>0</th>\n",
              "      <td>e481f51cbdc54678b7cc49136f2d6af7</td>\n",
              "      <td>9ef432eb6251297304e76186b10a928d</td>\n",
              "      <td>delivered</td>\n",
              "      <td>2017-10-02 10:56:33</td>\n",
              "      <td>2017-10-02 11:07:15</td>\n",
              "      <td>2017-10-04 19:55:00</td>\n",
              "      <td>2017-10-10 21:25:13</td>\n",
              "      <td>2017-10-18</td>\n",
              "    </tr>\n",
              "    <tr>\n",
              "      <th>1</th>\n",
              "      <td>53cdb2fc8bc7dce0b6741e2150273451</td>\n",
              "      <td>b0830fb4747a6c6d20dea0b8c802d7ef</td>\n",
              "      <td>delivered</td>\n",
              "      <td>2018-07-24 20:41:37</td>\n",
              "      <td>2018-07-26 03:24:27</td>\n",
              "      <td>2018-07-26 14:31:00</td>\n",
              "      <td>2018-08-07 15:27:45</td>\n",
              "      <td>2018-08-13</td>\n",
              "    </tr>\n",
              "    <tr>\n",
              "      <th>2</th>\n",
              "      <td>47770eb9100c2d0c44946d9cf07ec65d</td>\n",
              "      <td>41ce2a54c0b03bf3443c3d931a367089</td>\n",
              "      <td>delivered</td>\n",
              "      <td>2018-08-08 08:38:49</td>\n",
              "      <td>2018-08-08 08:55:23</td>\n",
              "      <td>2018-08-08 13:50:00</td>\n",
              "      <td>2018-08-17 18:06:29</td>\n",
              "      <td>2018-09-04</td>\n",
              "    </tr>\n",
              "    <tr>\n",
              "      <th>3</th>\n",
              "      <td>949d5b44dbf5de918fe9c16f97b45f8a</td>\n",
              "      <td>f88197465ea7920adcdbec7375364d82</td>\n",
              "      <td>delivered</td>\n",
              "      <td>2017-11-18 19:28:06</td>\n",
              "      <td>2017-11-18 19:45:59</td>\n",
              "      <td>2017-11-22 13:39:59</td>\n",
              "      <td>2017-12-02 00:28:42</td>\n",
              "      <td>2017-12-15</td>\n",
              "    </tr>\n",
              "    <tr>\n",
              "      <th>4</th>\n",
              "      <td>ad21c59c0840e6cb83a9ceb5573f8159</td>\n",
              "      <td>8ab97904e6daea8866dbdbc4fb7aad2c</td>\n",
              "      <td>delivered</td>\n",
              "      <td>2018-02-13 21:18:39</td>\n",
              "      <td>2018-02-13 22:20:29</td>\n",
              "      <td>2018-02-14 19:46:34</td>\n",
              "      <td>2018-02-16 18:17:02</td>\n",
              "      <td>2018-02-26</td>\n",
              "    </tr>\n",
              "  </tbody>\n",
              "</table>\n",
              "</div>"
            ],
            "text/plain": [
              "                           order_id  ... order_estimated_delivery_date\n",
              "0  e481f51cbdc54678b7cc49136f2d6af7  ...                    2017-10-18\n",
              "1  53cdb2fc8bc7dce0b6741e2150273451  ...                    2018-08-13\n",
              "2  47770eb9100c2d0c44946d9cf07ec65d  ...                    2018-09-04\n",
              "3  949d5b44dbf5de918fe9c16f97b45f8a  ...                    2017-12-15\n",
              "4  ad21c59c0840e6cb83a9ceb5573f8159  ...                    2018-02-26\n",
              "\n",
              "[5 rows x 8 columns]"
            ]
          },
          "metadata": {},
          "execution_count": 17
        }
      ]
    },
    {
      "cell_type": "markdown",
      "metadata": {
        "id": "lMw28d6k3HEz"
      },
      "source": [
        "Let's now analyze dates : "
      ]
    },
    {
      "cell_type": "code",
      "metadata": {
        "id": "3AeSHvfA2usP"
      },
      "source": [
        "#Extracting infos from purchase date \n",
        "orders_clean['order_purchase_year'] = orders_clean['order_purchase_timestamp'].apply(lambda x: x.year)\n",
        "orders_clean['order_purchase_month'] = orders_clean['order_purchase_timestamp'].apply(lambda x: x.month)\n",
        "\n",
        "orders_clean['order_purchase_month_name'] = orders_clean['order_purchase_timestamp'].apply(lambda x: x.strftime('%b'))\n",
        "orders_clean['order_purchase_year_month'] = orders_clean['order_purchase_timestamp'].apply(lambda x: x.strftime('%Y%m'))\n",
        "orders_clean['order_purchase_date'] = orders_clean['order_purchase_timestamp'].apply(lambda x: x.strftime('%Y%m%d'))\n",
        "\n",
        "orders_clean['order_purchase_day'] = orders_clean['order_purchase_timestamp'].apply(lambda x: x.day)\n",
        "orders_clean['order_purchase_day_of_week'] = orders_clean['order_purchase_timestamp'].apply(lambda x: x.dayofweek)\n",
        "orders_clean['order_purchase_day_of_week_name'] = orders_clean['order_purchase_timestamp'].apply(lambda x: x.strftime('%a'))"
      ],
      "execution_count": null,
      "outputs": []
    },
    {
      "cell_type": "code",
      "metadata": {
        "colab": {
          "base_uri": "https://localhost:8080/",
          "height": 226
        },
        "id": "hVE5Otxw7QaI",
        "outputId": "55ff3475-f73f-4035-9a64-31b178857aff"
      },
      "source": [
        "orders_clean.head()"
      ],
      "execution_count": null,
      "outputs": [
        {
          "output_type": "execute_result",
          "data": {
            "text/html": [
              "<div>\n",
              "<style scoped>\n",
              "    .dataframe tbody tr th:only-of-type {\n",
              "        vertical-align: middle;\n",
              "    }\n",
              "\n",
              "    .dataframe tbody tr th {\n",
              "        vertical-align: top;\n",
              "    }\n",
              "\n",
              "    .dataframe thead th {\n",
              "        text-align: right;\n",
              "    }\n",
              "</style>\n",
              "<table border=\"1\" class=\"dataframe\">\n",
              "  <thead>\n",
              "    <tr style=\"text-align: right;\">\n",
              "      <th></th>\n",
              "      <th>order_id</th>\n",
              "      <th>customer_id</th>\n",
              "      <th>order_status</th>\n",
              "      <th>order_purchase_timestamp</th>\n",
              "      <th>order_approved_at</th>\n",
              "      <th>order_delivered_carrier_date</th>\n",
              "      <th>order_delivered_customer_date</th>\n",
              "      <th>order_estimated_delivery_date</th>\n",
              "      <th>order_purchase_year</th>\n",
              "      <th>order_purchase_month</th>\n",
              "      <th>order_purchase_month_name</th>\n",
              "      <th>order_purchase_year_month</th>\n",
              "      <th>order_purchase_date</th>\n",
              "      <th>order_purchase_day</th>\n",
              "      <th>order_purchase_day_of_week</th>\n",
              "      <th>order_purchase_day_of_week_name</th>\n",
              "    </tr>\n",
              "  </thead>\n",
              "  <tbody>\n",
              "    <tr>\n",
              "      <th>0</th>\n",
              "      <td>e481f51cbdc54678b7cc49136f2d6af7</td>\n",
              "      <td>9ef432eb6251297304e76186b10a928d</td>\n",
              "      <td>delivered</td>\n",
              "      <td>2017-10-02 10:56:33</td>\n",
              "      <td>2017-10-02 11:07:15</td>\n",
              "      <td>2017-10-04 19:55:00</td>\n",
              "      <td>2017-10-10 21:25:13</td>\n",
              "      <td>2017-10-18</td>\n",
              "      <td>2017</td>\n",
              "      <td>10</td>\n",
              "      <td>Oct</td>\n",
              "      <td>201710</td>\n",
              "      <td>20171002</td>\n",
              "      <td>2</td>\n",
              "      <td>0</td>\n",
              "      <td>Mon</td>\n",
              "    </tr>\n",
              "    <tr>\n",
              "      <th>1</th>\n",
              "      <td>53cdb2fc8bc7dce0b6741e2150273451</td>\n",
              "      <td>b0830fb4747a6c6d20dea0b8c802d7ef</td>\n",
              "      <td>delivered</td>\n",
              "      <td>2018-07-24 20:41:37</td>\n",
              "      <td>2018-07-26 03:24:27</td>\n",
              "      <td>2018-07-26 14:31:00</td>\n",
              "      <td>2018-08-07 15:27:45</td>\n",
              "      <td>2018-08-13</td>\n",
              "      <td>2018</td>\n",
              "      <td>7</td>\n",
              "      <td>Jul</td>\n",
              "      <td>201807</td>\n",
              "      <td>20180724</td>\n",
              "      <td>24</td>\n",
              "      <td>1</td>\n",
              "      <td>Tue</td>\n",
              "    </tr>\n",
              "    <tr>\n",
              "      <th>2</th>\n",
              "      <td>47770eb9100c2d0c44946d9cf07ec65d</td>\n",
              "      <td>41ce2a54c0b03bf3443c3d931a367089</td>\n",
              "      <td>delivered</td>\n",
              "      <td>2018-08-08 08:38:49</td>\n",
              "      <td>2018-08-08 08:55:23</td>\n",
              "      <td>2018-08-08 13:50:00</td>\n",
              "      <td>2018-08-17 18:06:29</td>\n",
              "      <td>2018-09-04</td>\n",
              "      <td>2018</td>\n",
              "      <td>8</td>\n",
              "      <td>Aug</td>\n",
              "      <td>201808</td>\n",
              "      <td>20180808</td>\n",
              "      <td>8</td>\n",
              "      <td>2</td>\n",
              "      <td>Wed</td>\n",
              "    </tr>\n",
              "    <tr>\n",
              "      <th>3</th>\n",
              "      <td>949d5b44dbf5de918fe9c16f97b45f8a</td>\n",
              "      <td>f88197465ea7920adcdbec7375364d82</td>\n",
              "      <td>delivered</td>\n",
              "      <td>2017-11-18 19:28:06</td>\n",
              "      <td>2017-11-18 19:45:59</td>\n",
              "      <td>2017-11-22 13:39:59</td>\n",
              "      <td>2017-12-02 00:28:42</td>\n",
              "      <td>2017-12-15</td>\n",
              "      <td>2017</td>\n",
              "      <td>11</td>\n",
              "      <td>Nov</td>\n",
              "      <td>201711</td>\n",
              "      <td>20171118</td>\n",
              "      <td>18</td>\n",
              "      <td>5</td>\n",
              "      <td>Sat</td>\n",
              "    </tr>\n",
              "    <tr>\n",
              "      <th>4</th>\n",
              "      <td>ad21c59c0840e6cb83a9ceb5573f8159</td>\n",
              "      <td>8ab97904e6daea8866dbdbc4fb7aad2c</td>\n",
              "      <td>delivered</td>\n",
              "      <td>2018-02-13 21:18:39</td>\n",
              "      <td>2018-02-13 22:20:29</td>\n",
              "      <td>2018-02-14 19:46:34</td>\n",
              "      <td>2018-02-16 18:17:02</td>\n",
              "      <td>2018-02-26</td>\n",
              "      <td>2018</td>\n",
              "      <td>2</td>\n",
              "      <td>Feb</td>\n",
              "      <td>201802</td>\n",
              "      <td>20180213</td>\n",
              "      <td>13</td>\n",
              "      <td>1</td>\n",
              "      <td>Tue</td>\n",
              "    </tr>\n",
              "  </tbody>\n",
              "</table>\n",
              "</div>"
            ],
            "text/plain": [
              "                           order_id  ... order_purchase_day_of_week_name\n",
              "0  e481f51cbdc54678b7cc49136f2d6af7  ...                             Mon\n",
              "1  53cdb2fc8bc7dce0b6741e2150273451  ...                             Tue\n",
              "2  47770eb9100c2d0c44946d9cf07ec65d  ...                             Wed\n",
              "3  949d5b44dbf5de918fe9c16f97b45f8a  ...                             Sat\n",
              "4  ad21c59c0840e6cb83a9ceb5573f8159  ...                             Tue\n",
              "\n",
              "[5 rows x 16 columns]"
            ]
          },
          "metadata": {},
          "execution_count": 19
        }
      ]
    },
    {
      "cell_type": "markdown",
      "metadata": {
        "id": "xzMON_8B7xOr"
      },
      "source": [
        "It will be interesting to analyse orders regarding the time the order have been made. \n",
        "Classes we create are : \n",
        "* 0-6am : Night\n",
        "* 6-12am : Morning\n",
        "* 12-6pm : Afternoon\n",
        "* 6-12pm : Evening\n"
      ]
    },
    {
      "cell_type": "code",
      "metadata": {
        "id": "N6x0i_nc7ajJ"
      },
      "source": [
        "#Creating Categories based on hours of the day\n",
        "orders_clean['order_purchase_hours'] = orders_clean['order_purchase_timestamp'].apply(lambda x: x.hour)\n",
        "\n",
        "#Checking the amplitude\n",
        "#orders_clean['order_purchase_hours'].describe()\n",
        "\n",
        "#Bins label definition\n",
        "hours_labels = ['Night', 'Morning', 'Afternoon', 'Evening']\n",
        "\n",
        "#Cutting bins\n",
        "orders_clean['order_purchase_hours'] = pd.cut(\n",
        "                                              orders_clean['order_purchase_hours'], \n",
        "                                              bins = 4,\n",
        "                                              labels=hours_labels)"
      ],
      "execution_count": null,
      "outputs": []
    },
    {
      "cell_type": "code",
      "metadata": {
        "colab": {
          "base_uri": "https://localhost:8080/",
          "height": 226
        },
        "id": "x036Gmnp8ctn",
        "outputId": "03b8f354-e770-4b8d-d901-2d38a8293fc4"
      },
      "source": [
        "orders_clean.head()"
      ],
      "execution_count": null,
      "outputs": [
        {
          "output_type": "execute_result",
          "data": {
            "text/html": [
              "<div>\n",
              "<style scoped>\n",
              "    .dataframe tbody tr th:only-of-type {\n",
              "        vertical-align: middle;\n",
              "    }\n",
              "\n",
              "    .dataframe tbody tr th {\n",
              "        vertical-align: top;\n",
              "    }\n",
              "\n",
              "    .dataframe thead th {\n",
              "        text-align: right;\n",
              "    }\n",
              "</style>\n",
              "<table border=\"1\" class=\"dataframe\">\n",
              "  <thead>\n",
              "    <tr style=\"text-align: right;\">\n",
              "      <th></th>\n",
              "      <th>order_id</th>\n",
              "      <th>customer_id</th>\n",
              "      <th>order_status</th>\n",
              "      <th>order_purchase_timestamp</th>\n",
              "      <th>order_approved_at</th>\n",
              "      <th>order_delivered_carrier_date</th>\n",
              "      <th>order_delivered_customer_date</th>\n",
              "      <th>order_estimated_delivery_date</th>\n",
              "      <th>order_purchase_year</th>\n",
              "      <th>order_purchase_month</th>\n",
              "      <th>order_purchase_month_name</th>\n",
              "      <th>order_purchase_year_month</th>\n",
              "      <th>order_purchase_date</th>\n",
              "      <th>order_purchase_day</th>\n",
              "      <th>order_purchase_day_of_week</th>\n",
              "      <th>order_purchase_day_of_week_name</th>\n",
              "      <th>order_purchase_hours</th>\n",
              "    </tr>\n",
              "  </thead>\n",
              "  <tbody>\n",
              "    <tr>\n",
              "      <th>0</th>\n",
              "      <td>e481f51cbdc54678b7cc49136f2d6af7</td>\n",
              "      <td>9ef432eb6251297304e76186b10a928d</td>\n",
              "      <td>delivered</td>\n",
              "      <td>2017-10-02 10:56:33</td>\n",
              "      <td>2017-10-02 11:07:15</td>\n",
              "      <td>2017-10-04 19:55:00</td>\n",
              "      <td>2017-10-10 21:25:13</td>\n",
              "      <td>2017-10-18</td>\n",
              "      <td>2017</td>\n",
              "      <td>10</td>\n",
              "      <td>Oct</td>\n",
              "      <td>201710</td>\n",
              "      <td>20171002</td>\n",
              "      <td>2</td>\n",
              "      <td>0</td>\n",
              "      <td>Mon</td>\n",
              "      <td>Morning</td>\n",
              "    </tr>\n",
              "    <tr>\n",
              "      <th>1</th>\n",
              "      <td>53cdb2fc8bc7dce0b6741e2150273451</td>\n",
              "      <td>b0830fb4747a6c6d20dea0b8c802d7ef</td>\n",
              "      <td>delivered</td>\n",
              "      <td>2018-07-24 20:41:37</td>\n",
              "      <td>2018-07-26 03:24:27</td>\n",
              "      <td>2018-07-26 14:31:00</td>\n",
              "      <td>2018-08-07 15:27:45</td>\n",
              "      <td>2018-08-13</td>\n",
              "      <td>2018</td>\n",
              "      <td>7</td>\n",
              "      <td>Jul</td>\n",
              "      <td>201807</td>\n",
              "      <td>20180724</td>\n",
              "      <td>24</td>\n",
              "      <td>1</td>\n",
              "      <td>Tue</td>\n",
              "      <td>Evening</td>\n",
              "    </tr>\n",
              "    <tr>\n",
              "      <th>2</th>\n",
              "      <td>47770eb9100c2d0c44946d9cf07ec65d</td>\n",
              "      <td>41ce2a54c0b03bf3443c3d931a367089</td>\n",
              "      <td>delivered</td>\n",
              "      <td>2018-08-08 08:38:49</td>\n",
              "      <td>2018-08-08 08:55:23</td>\n",
              "      <td>2018-08-08 13:50:00</td>\n",
              "      <td>2018-08-17 18:06:29</td>\n",
              "      <td>2018-09-04</td>\n",
              "      <td>2018</td>\n",
              "      <td>8</td>\n",
              "      <td>Aug</td>\n",
              "      <td>201808</td>\n",
              "      <td>20180808</td>\n",
              "      <td>8</td>\n",
              "      <td>2</td>\n",
              "      <td>Wed</td>\n",
              "      <td>Morning</td>\n",
              "    </tr>\n",
              "    <tr>\n",
              "      <th>3</th>\n",
              "      <td>949d5b44dbf5de918fe9c16f97b45f8a</td>\n",
              "      <td>f88197465ea7920adcdbec7375364d82</td>\n",
              "      <td>delivered</td>\n",
              "      <td>2017-11-18 19:28:06</td>\n",
              "      <td>2017-11-18 19:45:59</td>\n",
              "      <td>2017-11-22 13:39:59</td>\n",
              "      <td>2017-12-02 00:28:42</td>\n",
              "      <td>2017-12-15</td>\n",
              "      <td>2017</td>\n",
              "      <td>11</td>\n",
              "      <td>Nov</td>\n",
              "      <td>201711</td>\n",
              "      <td>20171118</td>\n",
              "      <td>18</td>\n",
              "      <td>5</td>\n",
              "      <td>Sat</td>\n",
              "      <td>Evening</td>\n",
              "    </tr>\n",
              "    <tr>\n",
              "      <th>4</th>\n",
              "      <td>ad21c59c0840e6cb83a9ceb5573f8159</td>\n",
              "      <td>8ab97904e6daea8866dbdbc4fb7aad2c</td>\n",
              "      <td>delivered</td>\n",
              "      <td>2018-02-13 21:18:39</td>\n",
              "      <td>2018-02-13 22:20:29</td>\n",
              "      <td>2018-02-14 19:46:34</td>\n",
              "      <td>2018-02-16 18:17:02</td>\n",
              "      <td>2018-02-26</td>\n",
              "      <td>2018</td>\n",
              "      <td>2</td>\n",
              "      <td>Feb</td>\n",
              "      <td>201802</td>\n",
              "      <td>20180213</td>\n",
              "      <td>13</td>\n",
              "      <td>1</td>\n",
              "      <td>Tue</td>\n",
              "      <td>Evening</td>\n",
              "    </tr>\n",
              "  </tbody>\n",
              "</table>\n",
              "</div>"
            ],
            "text/plain": [
              "                           order_id  ... order_purchase_hours\n",
              "0  e481f51cbdc54678b7cc49136f2d6af7  ...              Morning\n",
              "1  53cdb2fc8bc7dce0b6741e2150273451  ...              Evening\n",
              "2  47770eb9100c2d0c44946d9cf07ec65d  ...              Morning\n",
              "3  949d5b44dbf5de918fe9c16f97b45f8a  ...              Evening\n",
              "4  ad21c59c0840e6cb83a9ceb5573f8159  ...              Evening\n",
              "\n",
              "[5 rows x 17 columns]"
            ]
          },
          "metadata": {},
          "execution_count": 21
        }
      ]
    },
    {
      "cell_type": "markdown",
      "metadata": {
        "id": "tWXHZDBlnoj2"
      },
      "source": [
        "###Orders per month"
      ]
    },
    {
      "cell_type": "code",
      "metadata": {
        "colab": {
          "base_uri": "https://localhost:8080/",
          "height": 771
        },
        "id": "ar9yR9tWM2dP",
        "outputId": "6bf01499-64f3-4a31-8806-95bd5c235a25"
      },
      "source": [
        "#Prepare data for viz\n",
        "part_df = orders_clean[['order_id','order_purchase_year','order_purchase_month']]\n",
        "part_df = part_df.groupby(by=['order_purchase_year','order_purchase_month']).count()\n",
        "part_df.reset_index(inplace=True)\n",
        "\n",
        "part_df"
      ],
      "execution_count": null,
      "outputs": [
        {
          "output_type": "execute_result",
          "data": {
            "text/html": [
              "<div>\n",
              "<style scoped>\n",
              "    .dataframe tbody tr th:only-of-type {\n",
              "        vertical-align: middle;\n",
              "    }\n",
              "\n",
              "    .dataframe tbody tr th {\n",
              "        vertical-align: top;\n",
              "    }\n",
              "\n",
              "    .dataframe thead th {\n",
              "        text-align: right;\n",
              "    }\n",
              "</style>\n",
              "<table border=\"1\" class=\"dataframe\">\n",
              "  <thead>\n",
              "    <tr style=\"text-align: right;\">\n",
              "      <th></th>\n",
              "      <th>order_purchase_year</th>\n",
              "      <th>order_purchase_month</th>\n",
              "      <th>order_id</th>\n",
              "    </tr>\n",
              "  </thead>\n",
              "  <tbody>\n",
              "    <tr>\n",
              "      <th>0</th>\n",
              "      <td>2016</td>\n",
              "      <td>9</td>\n",
              "      <td>1</td>\n",
              "    </tr>\n",
              "    <tr>\n",
              "      <th>1</th>\n",
              "      <td>2016</td>\n",
              "      <td>10</td>\n",
              "      <td>265</td>\n",
              "    </tr>\n",
              "    <tr>\n",
              "      <th>2</th>\n",
              "      <td>2016</td>\n",
              "      <td>12</td>\n",
              "      <td>1</td>\n",
              "    </tr>\n",
              "    <tr>\n",
              "      <th>3</th>\n",
              "      <td>2017</td>\n",
              "      <td>1</td>\n",
              "      <td>750</td>\n",
              "    </tr>\n",
              "    <tr>\n",
              "      <th>4</th>\n",
              "      <td>2017</td>\n",
              "      <td>2</td>\n",
              "      <td>1653</td>\n",
              "    </tr>\n",
              "    <tr>\n",
              "      <th>5</th>\n",
              "      <td>2017</td>\n",
              "      <td>3</td>\n",
              "      <td>2546</td>\n",
              "    </tr>\n",
              "    <tr>\n",
              "      <th>6</th>\n",
              "      <td>2017</td>\n",
              "      <td>4</td>\n",
              "      <td>2303</td>\n",
              "    </tr>\n",
              "    <tr>\n",
              "      <th>7</th>\n",
              "      <td>2017</td>\n",
              "      <td>5</td>\n",
              "      <td>3546</td>\n",
              "    </tr>\n",
              "    <tr>\n",
              "      <th>8</th>\n",
              "      <td>2017</td>\n",
              "      <td>6</td>\n",
              "      <td>3135</td>\n",
              "    </tr>\n",
              "    <tr>\n",
              "      <th>9</th>\n",
              "      <td>2017</td>\n",
              "      <td>7</td>\n",
              "      <td>3872</td>\n",
              "    </tr>\n",
              "    <tr>\n",
              "      <th>10</th>\n",
              "      <td>2017</td>\n",
              "      <td>8</td>\n",
              "      <td>4193</td>\n",
              "    </tr>\n",
              "    <tr>\n",
              "      <th>11</th>\n",
              "      <td>2017</td>\n",
              "      <td>9</td>\n",
              "      <td>4150</td>\n",
              "    </tr>\n",
              "    <tr>\n",
              "      <th>12</th>\n",
              "      <td>2017</td>\n",
              "      <td>10</td>\n",
              "      <td>4478</td>\n",
              "    </tr>\n",
              "    <tr>\n",
              "      <th>13</th>\n",
              "      <td>2017</td>\n",
              "      <td>11</td>\n",
              "      <td>7289</td>\n",
              "    </tr>\n",
              "    <tr>\n",
              "      <th>14</th>\n",
              "      <td>2017</td>\n",
              "      <td>12</td>\n",
              "      <td>5513</td>\n",
              "    </tr>\n",
              "    <tr>\n",
              "      <th>15</th>\n",
              "      <td>2018</td>\n",
              "      <td>1</td>\n",
              "      <td>7069</td>\n",
              "    </tr>\n",
              "    <tr>\n",
              "      <th>16</th>\n",
              "      <td>2018</td>\n",
              "      <td>2</td>\n",
              "      <td>6555</td>\n",
              "    </tr>\n",
              "    <tr>\n",
              "      <th>17</th>\n",
              "      <td>2018</td>\n",
              "      <td>3</td>\n",
              "      <td>7003</td>\n",
              "    </tr>\n",
              "    <tr>\n",
              "      <th>18</th>\n",
              "      <td>2018</td>\n",
              "      <td>4</td>\n",
              "      <td>6798</td>\n",
              "    </tr>\n",
              "    <tr>\n",
              "      <th>19</th>\n",
              "      <td>2018</td>\n",
              "      <td>5</td>\n",
              "      <td>6749</td>\n",
              "    </tr>\n",
              "    <tr>\n",
              "      <th>20</th>\n",
              "      <td>2018</td>\n",
              "      <td>6</td>\n",
              "      <td>6099</td>\n",
              "    </tr>\n",
              "    <tr>\n",
              "      <th>21</th>\n",
              "      <td>2018</td>\n",
              "      <td>7</td>\n",
              "      <td>6159</td>\n",
              "    </tr>\n",
              "    <tr>\n",
              "      <th>22</th>\n",
              "      <td>2018</td>\n",
              "      <td>8</td>\n",
              "      <td>6351</td>\n",
              "    </tr>\n",
              "  </tbody>\n",
              "</table>\n",
              "</div>"
            ],
            "text/plain": [
              "    order_purchase_year  order_purchase_month  order_id\n",
              "0                  2016                     9         1\n",
              "1                  2016                    10       265\n",
              "2                  2016                    12         1\n",
              "3                  2017                     1       750\n",
              "4                  2017                     2      1653\n",
              "5                  2017                     3      2546\n",
              "6                  2017                     4      2303\n",
              "7                  2017                     5      3546\n",
              "8                  2017                     6      3135\n",
              "9                  2017                     7      3872\n",
              "10                 2017                     8      4193\n",
              "11                 2017                     9      4150\n",
              "12                 2017                    10      4478\n",
              "13                 2017                    11      7289\n",
              "14                 2017                    12      5513\n",
              "15                 2018                     1      7069\n",
              "16                 2018                     2      6555\n",
              "17                 2018                     3      7003\n",
              "18                 2018                     4      6798\n",
              "19                 2018                     5      6749\n",
              "20                 2018                     6      6099\n",
              "21                 2018                     7      6159\n",
              "22                 2018                     8      6351"
            ]
          },
          "metadata": {},
          "execution_count": 22
        }
      ]
    },
    {
      "cell_type": "markdown",
      "metadata": {
        "id": "bJIGjdhFE8ng"
      },
      "source": [
        "https://seaborn.pydata.org/generated/seaborn.lineplot.html"
      ]
    },
    {
      "cell_type": "code",
      "metadata": {
        "colab": {
          "base_uri": "https://localhost:8080/",
          "height": 486
        },
        "id": "K0Y2-1z1_iEL",
        "outputId": "0d744f2d-447b-4edf-cc0c-a2b0c3624673"
      },
      "source": [
        "plt.figure(figsize=(15,7)) # Figure size\n",
        "sns.lineplot(x='order_purchase_month',\n",
        "             y='order_id',\n",
        "             hue='order_purchase_year',\n",
        "             data=part_df, \n",
        "             marker='o') # Specify markers with marker argument\n",
        "plt.title('Orders monthly trends over 2016-17-2018 \\n', fontsize=20) # Title\n",
        "plt.xticks(ticks=np.arange(0, 12, step=1)) # All values in x-axis\n",
        "plt.show()"
      ],
      "execution_count": null,
      "outputs": [
        {
          "output_type": "display_data",
          "data": {
            "image/png": "[encoded data removed]",
            "text/plain": [
              "<Figure size 1080x504 with 1 Axes>"
            ]
          },
          "metadata": {
            "needs_background": "light"
          }
        }
      ]
    },
    {
      "cell_type": "markdown",
      "metadata": {
        "id": "EEUyi1y1QqVE"
      },
      "source": [
        "The data gathered is not consistent over the years. Therefore it is not relevant to compare the years in order to try to indentify seasonality. \n",
        "\n",
        "So we will visualize the data over the period : "
      ]
    },
    {
      "cell_type": "code",
      "metadata": {
        "colab": {
          "base_uri": "https://localhost:8080/",
          "height": 771
        },
        "id": "LhGEh-c6Rh18",
        "outputId": "bfd90202-3a9c-4d35-cd61-14be3fa6f328"
      },
      "source": [
        "#Prepare data for viz\n",
        "part_df = orders_clean[['order_id','order_purchase_year_month']]\n",
        "part_df = part_df.groupby(by=['order_purchase_year_month']).count()\n",
        "part_df.reset_index(inplace=True)\n",
        "\n",
        "part_df"
      ],
      "execution_count": null,
      "outputs": [
        {
          "output_type": "execute_result",
          "data": {
            "text/html": [
              "<div>\n",
              "<style scoped>\n",
              "    .dataframe tbody tr th:only-of-type {\n",
              "        vertical-align: middle;\n",
              "    }\n",
              "\n",
              "    .dataframe tbody tr th {\n",
              "        vertical-align: top;\n",
              "    }\n",
              "\n",
              "    .dataframe thead th {\n",
              "        text-align: right;\n",
              "    }\n",
              "</style>\n",
              "<table border=\"1\" class=\"dataframe\">\n",
              "  <thead>\n",
              "    <tr style=\"text-align: right;\">\n",
              "      <th></th>\n",
              "      <th>order_purchase_year_month</th>\n",
              "      <th>order_id</th>\n",
              "    </tr>\n",
              "  </thead>\n",
              "  <tbody>\n",
              "    <tr>\n",
              "      <th>0</th>\n",
              "      <td>201609</td>\n",
              "      <td>1</td>\n",
              "    </tr>\n",
              "    <tr>\n",
              "      <th>1</th>\n",
              "      <td>201610</td>\n",
              "      <td>265</td>\n",
              "    </tr>\n",
              "    <tr>\n",
              "      <th>2</th>\n",
              "      <td>201612</td>\n",
              "      <td>1</td>\n",
              "    </tr>\n",
              "    <tr>\n",
              "      <th>3</th>\n",
              "      <td>201701</td>\n",
              "      <td>750</td>\n",
              "    </tr>\n",
              "    <tr>\n",
              "      <th>4</th>\n",
              "      <td>201702</td>\n",
              "      <td>1653</td>\n",
              "    </tr>\n",
              "    <tr>\n",
              "      <th>5</th>\n",
              "      <td>201703</td>\n",
              "      <td>2546</td>\n",
              "    </tr>\n",
              "    <tr>\n",
              "      <th>6</th>\n",
              "      <td>201704</td>\n",
              "      <td>2303</td>\n",
              "    </tr>\n",
              "    <tr>\n",
              "      <th>7</th>\n",
              "      <td>201705</td>\n",
              "      <td>3546</td>\n",
              "    </tr>\n",
              "    <tr>\n",
              "      <th>8</th>\n",
              "      <td>201706</td>\n",
              "      <td>3135</td>\n",
              "    </tr>\n",
              "    <tr>\n",
              "      <th>9</th>\n",
              "      <td>201707</td>\n",
              "      <td>3872</td>\n",
              "    </tr>\n",
              "    <tr>\n",
              "      <th>10</th>\n",
              "      <td>201708</td>\n",
              "      <td>4193</td>\n",
              "    </tr>\n",
              "    <tr>\n",
              "      <th>11</th>\n",
              "      <td>201709</td>\n",
              "      <td>4150</td>\n",
              "    </tr>\n",
              "    <tr>\n",
              "      <th>12</th>\n",
              "      <td>201710</td>\n",
              "      <td>4478</td>\n",
              "    </tr>\n",
              "    <tr>\n",
              "      <th>13</th>\n",
              "      <td>201711</td>\n",
              "      <td>7289</td>\n",
              "    </tr>\n",
              "    <tr>\n",
              "      <th>14</th>\n",
              "      <td>201712</td>\n",
              "      <td>5513</td>\n",
              "    </tr>\n",
              "    <tr>\n",
              "      <th>15</th>\n",
              "      <td>201801</td>\n",
              "      <td>7069</td>\n",
              "    </tr>\n",
              "    <tr>\n",
              "      <th>16</th>\n",
              "      <td>201802</td>\n",
              "      <td>6555</td>\n",
              "    </tr>\n",
              "    <tr>\n",
              "      <th>17</th>\n",
              "      <td>201803</td>\n",
              "      <td>7003</td>\n",
              "    </tr>\n",
              "    <tr>\n",
              "      <th>18</th>\n",
              "      <td>201804</td>\n",
              "      <td>6798</td>\n",
              "    </tr>\n",
              "    <tr>\n",
              "      <th>19</th>\n",
              "      <td>201805</td>\n",
              "      <td>6749</td>\n",
              "    </tr>\n",
              "    <tr>\n",
              "      <th>20</th>\n",
              "      <td>201806</td>\n",
              "      <td>6099</td>\n",
              "    </tr>\n",
              "    <tr>\n",
              "      <th>21</th>\n",
              "      <td>201807</td>\n",
              "      <td>6159</td>\n",
              "    </tr>\n",
              "    <tr>\n",
              "      <th>22</th>\n",
              "      <td>201808</td>\n",
              "      <td>6351</td>\n",
              "    </tr>\n",
              "  </tbody>\n",
              "</table>\n",
              "</div>"
            ],
            "text/plain": [
              "   order_purchase_year_month  order_id\n",
              "0                     201609         1\n",
              "1                     201610       265\n",
              "2                     201612         1\n",
              "3                     201701       750\n",
              "4                     201702      1653\n",
              "5                     201703      2546\n",
              "6                     201704      2303\n",
              "7                     201705      3546\n",
              "8                     201706      3135\n",
              "9                     201707      3872\n",
              "10                    201708      4193\n",
              "11                    201709      4150\n",
              "12                    201710      4478\n",
              "13                    201711      7289\n",
              "14                    201712      5513\n",
              "15                    201801      7069\n",
              "16                    201802      6555\n",
              "17                    201803      7003\n",
              "18                    201804      6798\n",
              "19                    201805      6749\n",
              "20                    201806      6099\n",
              "21                    201807      6159\n",
              "22                    201808      6351"
            ]
          },
          "metadata": {},
          "execution_count": 24
        }
      ]
    },
    {
      "cell_type": "code",
      "metadata": {
        "colab": {
          "base_uri": "https://localhost:8080/"
        },
        "id": "vaMENjQHRyoU",
        "outputId": "0c7e0e5f-1543-48a9-ebed-5b3f856dabf4"
      },
      "source": [
        "part_df.shape"
      ],
      "execution_count": null,
      "outputs": [
        {
          "output_type": "execute_result",
          "data": {
            "text/plain": [
              "(23, 2)"
            ]
          },
          "metadata": {},
          "execution_count": 25
        }
      ]
    },
    {
      "cell_type": "code",
      "metadata": {
        "colab": {
          "base_uri": "https://localhost:8080/",
          "height": 516
        },
        "id": "s5-8ig7_RKx5",
        "outputId": "2d996908-07fd-49c6-e708-7771f6d7fcc0"
      },
      "source": [
        "plt.figure(figsize=(15,7)) # Figure size\n",
        "sns.lineplot(x='order_purchase_year_month',\n",
        "             y='order_id',\n",
        "             data=part_df, \n",
        "             marker='o') # Specify markers with marker argument\n",
        "plt.title('Orders monthly trends over the period \\n', fontsize=20) # Title\n",
        "plt.xticks(ticks=np.arange(0, 23, step=1), rotation=70) # All values in x-axis\n",
        "plt.show()"
      ],
      "execution_count": null,
      "outputs": [
        {
          "output_type": "display_data",
          "data": {
            "image/png": "[encoded data removed]",
            "text/plain": [
              "<Figure size 1080x504 with 1 Axes>"
            ]
          },
          "metadata": {
            "needs_background": "light"
          }
        }
      ]
    },
    {
      "cell_type": "markdown",
      "metadata": {
        "id": "Z2evUTaaSGFf"
      },
      "source": [
        "We will remove the beginning and the end of the perid : \n",
        "* The year `2016` of data as it is not complete\n",
        "\n"
      ]
    },
    {
      "cell_type": "code",
      "metadata": {
        "colab": {
          "base_uri": "https://localhost:8080/",
          "height": 516
        },
        "id": "IgsB94W5SFNP",
        "outputId": "d7f0af65-9148-42d8-fdae-28bc36648cac"
      },
      "source": [
        "plt.figure(figsize=(15,7)) # Figure size\n",
        "sns.lineplot(x='order_purchase_year_month',\n",
        "             y='order_id',\n",
        "             data=part_df, \n",
        "             marker='o') # Specify markers with marker argument\n",
        "plt.axvspan(0, 2, facecolor='r', alpha=0.5) #Vertical constant plotting\n",
        "# plt.axvspan(20, 22, facecolor='r', alpha=0.5)\n",
        "plt.title('Orders monthly trends over the period \\n', fontsize=20) # Title\n",
        "plt.xticks(ticks=np.arange(0, 23, step=1), rotation=70) # All values in x-axis\n",
        "plt.show()"
      ],
      "execution_count": null,
      "outputs": [
        {
          "output_type": "display_data",
          "data": {
            "image/png": "[encoded data removed]",
            "text/plain": [
              "<Figure size 1080x504 with 1 Axes>"
            ]
          },
          "metadata": {
            "needs_background": "light"
          }
        }
      ]
    },
    {
      "cell_type": "markdown",
      "metadata": {
        "id": "k2WxgFDmxZnx"
      },
      "source": [
        "Let's compare monthly order trends from the comparable months over 2017 and 2018 : "
      ]
    },
    {
      "cell_type": "code",
      "metadata": {
        "colab": {
          "base_uri": "https://localhost:8080/",
          "height": 677
        },
        "id": "UQdZVDguxYEV",
        "outputId": "14b858cb-7966-48e3-ac1c-0a8ca681ffcd"
      },
      "source": [
        "#Prepare data for viz\n",
        "part_df = orders_clean[['order_id','order_purchase_year','order_purchase_month', 'order_purchase_year_month']]\n",
        "part_df = part_df.groupby(by=['order_purchase_year','order_purchase_month','order_purchase_year_month']).count()\n",
        "part_df.reset_index(inplace=True)\n",
        "\n",
        "filter1 = part_df['order_purchase_year_month'].astype(int).between(201701, 201808, inclusive='both')\n",
        "# part_df['order_purchase_year_month'].astype(int)\n",
        "\n",
        "#list of month to remove\n",
        "# list_of_month = ['201709','201710', '201711', '201712', '201801', '201802']\n",
        "\n",
        "# filter2 = ~part_df['order_purchase_year_month'].isin(list_of_month) #Tilde : ALT+N\n",
        "\n",
        "#Apply filters\n",
        "part_df = part_df[filter1]\n",
        "# part_df = part_df[filter2]\n",
        "\n",
        "part_df"
      ],
      "execution_count": null,
      "outputs": [
        {
          "output_type": "execute_result",
          "data": {
            "text/html": [
              "<div>\n",
              "<style scoped>\n",
              "    .dataframe tbody tr th:only-of-type {\n",
              "        vertical-align: middle;\n",
              "    }\n",
              "\n",
              "    .dataframe tbody tr th {\n",
              "        vertical-align: top;\n",
              "    }\n",
              "\n",
              "    .dataframe thead th {\n",
              "        text-align: right;\n",
              "    }\n",
              "</style>\n",
              "<table border=\"1\" class=\"dataframe\">\n",
              "  <thead>\n",
              "    <tr style=\"text-align: right;\">\n",
              "      <th></th>\n",
              "      <th>order_purchase_year</th>\n",
              "      <th>order_purchase_month</th>\n",
              "      <th>order_purchase_year_month</th>\n",
              "      <th>order_id</th>\n",
              "    </tr>\n",
              "  </thead>\n",
              "  <tbody>\n",
              "    <tr>\n",
              "      <th>3</th>\n",
              "      <td>2017</td>\n",
              "      <td>1</td>\n",
              "      <td>201701</td>\n",
              "      <td>750</td>\n",
              "    </tr>\n",
              "    <tr>\n",
              "      <th>4</th>\n",
              "      <td>2017</td>\n",
              "      <td>2</td>\n",
              "      <td>201702</td>\n",
              "      <td>1653</td>\n",
              "    </tr>\n",
              "    <tr>\n",
              "      <th>5</th>\n",
              "      <td>2017</td>\n",
              "      <td>3</td>\n",
              "      <td>201703</td>\n",
              "      <td>2546</td>\n",
              "    </tr>\n",
              "    <tr>\n",
              "      <th>6</th>\n",
              "      <td>2017</td>\n",
              "      <td>4</td>\n",
              "      <td>201704</td>\n",
              "      <td>2303</td>\n",
              "    </tr>\n",
              "    <tr>\n",
              "      <th>7</th>\n",
              "      <td>2017</td>\n",
              "      <td>5</td>\n",
              "      <td>201705</td>\n",
              "      <td>3546</td>\n",
              "    </tr>\n",
              "    <tr>\n",
              "      <th>8</th>\n",
              "      <td>2017</td>\n",
              "      <td>6</td>\n",
              "      <td>201706</td>\n",
              "      <td>3135</td>\n",
              "    </tr>\n",
              "    <tr>\n",
              "      <th>9</th>\n",
              "      <td>2017</td>\n",
              "      <td>7</td>\n",
              "      <td>201707</td>\n",
              "      <td>3872</td>\n",
              "    </tr>\n",
              "    <tr>\n",
              "      <th>10</th>\n",
              "      <td>2017</td>\n",
              "      <td>8</td>\n",
              "      <td>201708</td>\n",
              "      <td>4193</td>\n",
              "    </tr>\n",
              "    <tr>\n",
              "      <th>11</th>\n",
              "      <td>2017</td>\n",
              "      <td>9</td>\n",
              "      <td>201709</td>\n",
              "      <td>4150</td>\n",
              "    </tr>\n",
              "    <tr>\n",
              "      <th>12</th>\n",
              "      <td>2017</td>\n",
              "      <td>10</td>\n",
              "      <td>201710</td>\n",
              "      <td>4478</td>\n",
              "    </tr>\n",
              "    <tr>\n",
              "      <th>13</th>\n",
              "      <td>2017</td>\n",
              "      <td>11</td>\n",
              "      <td>201711</td>\n",
              "      <td>7289</td>\n",
              "    </tr>\n",
              "    <tr>\n",
              "      <th>14</th>\n",
              "      <td>2017</td>\n",
              "      <td>12</td>\n",
              "      <td>201712</td>\n",
              "      <td>5513</td>\n",
              "    </tr>\n",
              "    <tr>\n",
              "      <th>15</th>\n",
              "      <td>2018</td>\n",
              "      <td>1</td>\n",
              "      <td>201801</td>\n",
              "      <td>7069</td>\n",
              "    </tr>\n",
              "    <tr>\n",
              "      <th>16</th>\n",
              "      <td>2018</td>\n",
              "      <td>2</td>\n",
              "      <td>201802</td>\n",
              "      <td>6555</td>\n",
              "    </tr>\n",
              "    <tr>\n",
              "      <th>17</th>\n",
              "      <td>2018</td>\n",
              "      <td>3</td>\n",
              "      <td>201803</td>\n",
              "      <td>7003</td>\n",
              "    </tr>\n",
              "    <tr>\n",
              "      <th>18</th>\n",
              "      <td>2018</td>\n",
              "      <td>4</td>\n",
              "      <td>201804</td>\n",
              "      <td>6798</td>\n",
              "    </tr>\n",
              "    <tr>\n",
              "      <th>19</th>\n",
              "      <td>2018</td>\n",
              "      <td>5</td>\n",
              "      <td>201805</td>\n",
              "      <td>6749</td>\n",
              "    </tr>\n",
              "    <tr>\n",
              "      <th>20</th>\n",
              "      <td>2018</td>\n",
              "      <td>6</td>\n",
              "      <td>201806</td>\n",
              "      <td>6099</td>\n",
              "    </tr>\n",
              "    <tr>\n",
              "      <th>21</th>\n",
              "      <td>2018</td>\n",
              "      <td>7</td>\n",
              "      <td>201807</td>\n",
              "      <td>6159</td>\n",
              "    </tr>\n",
              "    <tr>\n",
              "      <th>22</th>\n",
              "      <td>2018</td>\n",
              "      <td>8</td>\n",
              "      <td>201808</td>\n",
              "      <td>6351</td>\n",
              "    </tr>\n",
              "  </tbody>\n",
              "</table>\n",
              "</div>"
            ],
            "text/plain": [
              "    order_purchase_year  ...  order_id\n",
              "3                  2017  ...       750\n",
              "4                  2017  ...      1653\n",
              "5                  2017  ...      2546\n",
              "6                  2017  ...      2303\n",
              "7                  2017  ...      3546\n",
              "8                  2017  ...      3135\n",
              "9                  2017  ...      3872\n",
              "10                 2017  ...      4193\n",
              "11                 2017  ...      4150\n",
              "12                 2017  ...      4478\n",
              "13                 2017  ...      7289\n",
              "14                 2017  ...      5513\n",
              "15                 2018  ...      7069\n",
              "16                 2018  ...      6555\n",
              "17                 2018  ...      7003\n",
              "18                 2018  ...      6798\n",
              "19                 2018  ...      6749\n",
              "20                 2018  ...      6099\n",
              "21                 2018  ...      6159\n",
              "22                 2018  ...      6351\n",
              "\n",
              "[20 rows x 4 columns]"
            ]
          },
          "metadata": {},
          "execution_count": 28
        }
      ]
    },
    {
      "cell_type": "code",
      "metadata": {
        "colab": {
          "base_uri": "https://localhost:8080/"
        },
        "id": "w6JnUCNK-MuP",
        "outputId": "ae0e4597-a131-451b-c312-5f43298b4070"
      },
      "source": [
        "orders_clean['order_purchase_year_month'].value_counts().sort_index(ascending=True)"
      ],
      "execution_count": null,
      "outputs": [
        {
          "output_type": "execute_result",
          "data": {
            "text/plain": [
              "201609       1\n",
              "201610     265\n",
              "201612       1\n",
              "201701     750\n",
              "201702    1653\n",
              "201703    2546\n",
              "201704    2303\n",
              "201705    3546\n",
              "201706    3135\n",
              "201707    3872\n",
              "201708    4193\n",
              "201709    4150\n",
              "201710    4478\n",
              "201711    7289\n",
              "201712    5513\n",
              "201801    7069\n",
              "201802    6555\n",
              "201803    7003\n",
              "201804    6798\n",
              "201805    6749\n",
              "201806    6099\n",
              "201807    6159\n",
              "201808    6351\n",
              "Name: order_purchase_year_month, dtype: int64"
            ]
          },
          "metadata": {},
          "execution_count": 29
        }
      ]
    },
    {
      "cell_type": "code",
      "metadata": {
        "colab": {
          "base_uri": "https://localhost:8080/",
          "height": 534
        },
        "id": "W5KgQcpdxl0_",
        "outputId": "f2592b75-4262-4892-e167-5c440399c1bb"
      },
      "source": [
        "plt.figure(figsize=(15,7), dpi=80) # Figure size\n",
        "sns.lineplot(x='order_purchase_month',\n",
        "             y='order_id',\n",
        "             hue='order_purchase_year',\n",
        "             data=part_df, \n",
        "             marker='o') # Specify markers with marker argument\n",
        "plt.title('Orders monthly trends over common months from 2017-2018 \\n', fontsize=20) # Title\n",
        "plt.xticks(ticks=np.arange(3, 8, step=1)) # All values in x-axis\n",
        "plt.show()"
      ],
      "execution_count": null,
      "outputs": [
        {
          "output_type": "display_data",
          "data": {
            "image/png": "[encoded data removed]",
            "text/plain": [
              "<Figure size 1200x560 with 1 Axes>"
            ]
          },
          "metadata": {
            "needs_background": "light"
          }
        }
      ]
    },
    {
      "cell_type": "markdown",
      "metadata": {
        "id": "SUcCc754xow_"
      },
      "source": [
        "We notice an overall growth over the year for the comparable months. "
      ]
    },
    {
      "cell_type": "code",
      "metadata": {
        "colab": {
          "base_uri": "https://localhost:8080/",
          "height": 444
        },
        "id": "xeIL0LOM6N1l",
        "outputId": "085cf558-d3c6-4b69-c672-a154647d8d98"
      },
      "source": [
        "#Removing the extreme periods\n",
        "month_to_remove = ['201609', '201610', '201612'] #, '201701', '201806', '201807', '201808']\n",
        "filter = ~orders_clean['order_purchase_year_month'].isin(month_to_remove)\n",
        "\n",
        "orders_clean = orders_clean[filter]\n",
        "orders_clean"
      ],
      "execution_count": null,
      "outputs": [
        {
          "output_type": "execute_result",
          "data": {
            "text/html": [
              "<div>\n",
              "<style scoped>\n",
              "    .dataframe tbody tr th:only-of-type {\n",
              "        vertical-align: middle;\n",
              "    }\n",
              "\n",
              "    .dataframe tbody tr th {\n",
              "        vertical-align: top;\n",
              "    }\n",
              "\n",
              "    .dataframe thead th {\n",
              "        text-align: right;\n",
              "    }\n",
              "</style>\n",
              "<table border=\"1\" class=\"dataframe\">\n",
              "  <thead>\n",
              "    <tr style=\"text-align: right;\">\n",
              "      <th></th>\n",
              "      <th>order_id</th>\n",
              "      <th>customer_id</th>\n",
              "      <th>order_status</th>\n",
              "      <th>order_purchase_timestamp</th>\n",
              "      <th>order_approved_at</th>\n",
              "      <th>order_delivered_carrier_date</th>\n",
              "      <th>order_delivered_customer_date</th>\n",
              "      <th>order_estimated_delivery_date</th>\n",
              "      <th>order_purchase_year</th>\n",
              "      <th>order_purchase_month</th>\n",
              "      <th>order_purchase_month_name</th>\n",
              "      <th>order_purchase_year_month</th>\n",
              "      <th>order_purchase_date</th>\n",
              "      <th>order_purchase_day</th>\n",
              "      <th>order_purchase_day_of_week</th>\n",
              "      <th>order_purchase_day_of_week_name</th>\n",
              "      <th>order_purchase_hours</th>\n",
              "    </tr>\n",
              "  </thead>\n",
              "  <tbody>\n",
              "    <tr>\n",
              "      <th>0</th>\n",
              "      <td>e481f51cbdc54678b7cc49136f2d6af7</td>\n",
              "      <td>9ef432eb6251297304e76186b10a928d</td>\n",
              "      <td>delivered</td>\n",
              "      <td>2017-10-02 10:56:33</td>\n",
              "      <td>2017-10-02 11:07:15</td>\n",
              "      <td>2017-10-04 19:55:00</td>\n",
              "      <td>2017-10-10 21:25:13</td>\n",
              "      <td>2017-10-18</td>\n",
              "      <td>2017</td>\n",
              "      <td>10</td>\n",
              "      <td>Oct</td>\n",
              "      <td>201710</td>\n",
              "      <td>20171002</td>\n",
              "      <td>2</td>\n",
              "      <td>0</td>\n",
              "      <td>Mon</td>\n",
              "      <td>Morning</td>\n",
              "    </tr>\n",
              "    <tr>\n",
              "      <th>1</th>\n",
              "      <td>53cdb2fc8bc7dce0b6741e2150273451</td>\n",
              "      <td>b0830fb4747a6c6d20dea0b8c802d7ef</td>\n",
              "      <td>delivered</td>\n",
              "      <td>2018-07-24 20:41:37</td>\n",
              "      <td>2018-07-26 03:24:27</td>\n",
              "      <td>2018-07-26 14:31:00</td>\n",
              "      <td>2018-08-07 15:27:45</td>\n",
              "      <td>2018-08-13</td>\n",
              "      <td>2018</td>\n",
              "      <td>7</td>\n",
              "      <td>Jul</td>\n",
              "      <td>201807</td>\n",
              "      <td>20180724</td>\n",
              "      <td>24</td>\n",
              "      <td>1</td>\n",
              "      <td>Tue</td>\n",
              "      <td>Evening</td>\n",
              "    </tr>\n",
              "    <tr>\n",
              "      <th>2</th>\n",
              "      <td>47770eb9100c2d0c44946d9cf07ec65d</td>\n",
              "      <td>41ce2a54c0b03bf3443c3d931a367089</td>\n",
              "      <td>delivered</td>\n",
              "      <td>2018-08-08 08:38:49</td>\n",
              "      <td>2018-08-08 08:55:23</td>\n",
              "      <td>2018-08-08 13:50:00</td>\n",
              "      <td>2018-08-17 18:06:29</td>\n",
              "      <td>2018-09-04</td>\n",
              "      <td>2018</td>\n",
              "      <td>8</td>\n",
              "      <td>Aug</td>\n",
              "      <td>201808</td>\n",
              "      <td>20180808</td>\n",
              "      <td>8</td>\n",
              "      <td>2</td>\n",
              "      <td>Wed</td>\n",
              "      <td>Morning</td>\n",
              "    </tr>\n",
              "    <tr>\n",
              "      <th>3</th>\n",
              "      <td>949d5b44dbf5de918fe9c16f97b45f8a</td>\n",
              "      <td>f88197465ea7920adcdbec7375364d82</td>\n",
              "      <td>delivered</td>\n",
              "      <td>2017-11-18 19:28:06</td>\n",
              "      <td>2017-11-18 19:45:59</td>\n",
              "      <td>2017-11-22 13:39:59</td>\n",
              "      <td>2017-12-02 00:28:42</td>\n",
              "      <td>2017-12-15</td>\n",
              "      <td>2017</td>\n",
              "      <td>11</td>\n",
              "      <td>Nov</td>\n",
              "      <td>201711</td>\n",
              "      <td>20171118</td>\n",
              "      <td>18</td>\n",
              "      <td>5</td>\n",
              "      <td>Sat</td>\n",
              "      <td>Evening</td>\n",
              "    </tr>\n",
              "    <tr>\n",
              "      <th>4</th>\n",
              "      <td>ad21c59c0840e6cb83a9ceb5573f8159</td>\n",
              "      <td>8ab97904e6daea8866dbdbc4fb7aad2c</td>\n",
              "      <td>delivered</td>\n",
              "      <td>2018-02-13 21:18:39</td>\n",
              "      <td>2018-02-13 22:20:29</td>\n",
              "      <td>2018-02-14 19:46:34</td>\n",
              "      <td>2018-02-16 18:17:02</td>\n",
              "      <td>2018-02-26</td>\n",
              "      <td>2018</td>\n",
              "      <td>2</td>\n",
              "      <td>Feb</td>\n",
              "      <td>201802</td>\n",
              "      <td>20180213</td>\n",
              "      <td>13</td>\n",
              "      <td>1</td>\n",
              "      <td>Tue</td>\n",
              "      <td>Evening</td>\n",
              "    </tr>\n",
              "    <tr>\n",
              "      <th>...</th>\n",
              "      <td>...</td>\n",
              "      <td>...</td>\n",
              "      <td>...</td>\n",
              "      <td>...</td>\n",
              "      <td>...</td>\n",
              "      <td>...</td>\n",
              "      <td>...</td>\n",
              "      <td>...</td>\n",
              "      <td>...</td>\n",
              "      <td>...</td>\n",
              "      <td>...</td>\n",
              "      <td>...</td>\n",
              "      <td>...</td>\n",
              "      <td>...</td>\n",
              "      <td>...</td>\n",
              "      <td>...</td>\n",
              "      <td>...</td>\n",
              "    </tr>\n",
              "    <tr>\n",
              "      <th>99436</th>\n",
              "      <td>9c5dedf39a927c1b2549525ed64a053c</td>\n",
              "      <td>39bd1228ee8140590ac3aca26f2dfe00</td>\n",
              "      <td>delivered</td>\n",
              "      <td>2017-03-09 09:54:05</td>\n",
              "      <td>2017-03-09 09:54:05</td>\n",
              "      <td>2017-03-10 11:18:03</td>\n",
              "      <td>2017-03-17 15:08:01</td>\n",
              "      <td>2017-03-28</td>\n",
              "      <td>2017</td>\n",
              "      <td>3</td>\n",
              "      <td>Mar</td>\n",
              "      <td>201703</td>\n",
              "      <td>20170309</td>\n",
              "      <td>9</td>\n",
              "      <td>3</td>\n",
              "      <td>Thu</td>\n",
              "      <td>Morning</td>\n",
              "    </tr>\n",
              "    <tr>\n",
              "      <th>99437</th>\n",
              "      <td>63943bddc261676b46f01ca7ac2f7bd8</td>\n",
              "      <td>1fca14ff2861355f6e5f14306ff977a7</td>\n",
              "      <td>delivered</td>\n",
              "      <td>2018-02-06 12:58:58</td>\n",
              "      <td>2018-02-06 13:10:37</td>\n",
              "      <td>2018-02-07 23:22:42</td>\n",
              "      <td>2018-02-28 17:37:56</td>\n",
              "      <td>2018-03-02</td>\n",
              "      <td>2018</td>\n",
              "      <td>2</td>\n",
              "      <td>Feb</td>\n",
              "      <td>201802</td>\n",
              "      <td>20180206</td>\n",
              "      <td>6</td>\n",
              "      <td>1</td>\n",
              "      <td>Tue</td>\n",
              "      <td>Afternoon</td>\n",
              "    </tr>\n",
              "    <tr>\n",
              "      <th>99438</th>\n",
              "      <td>83c1379a015df1e13d02aae0204711ab</td>\n",
              "      <td>1aa71eb042121263aafbe80c1b562c9c</td>\n",
              "      <td>delivered</td>\n",
              "      <td>2017-08-27 14:46:43</td>\n",
              "      <td>2017-08-27 15:04:16</td>\n",
              "      <td>2017-08-28 20:52:26</td>\n",
              "      <td>2017-09-21 11:24:17</td>\n",
              "      <td>2017-09-27</td>\n",
              "      <td>2017</td>\n",
              "      <td>8</td>\n",
              "      <td>Aug</td>\n",
              "      <td>201708</td>\n",
              "      <td>20170827</td>\n",
              "      <td>27</td>\n",
              "      <td>6</td>\n",
              "      <td>Sun</td>\n",
              "      <td>Afternoon</td>\n",
              "    </tr>\n",
              "    <tr>\n",
              "      <th>99439</th>\n",
              "      <td>11c177c8e97725db2631073c19f07b62</td>\n",
              "      <td>b331b74b18dc79bcdf6532d51e1637c1</td>\n",
              "      <td>delivered</td>\n",
              "      <td>2018-01-08 21:28:27</td>\n",
              "      <td>2018-01-08 21:36:21</td>\n",
              "      <td>2018-01-12 15:35:03</td>\n",
              "      <td>2018-01-25 23:32:54</td>\n",
              "      <td>2018-02-15</td>\n",
              "      <td>2018</td>\n",
              "      <td>1</td>\n",
              "      <td>Jan</td>\n",
              "      <td>201801</td>\n",
              "      <td>20180108</td>\n",
              "      <td>8</td>\n",
              "      <td>0</td>\n",
              "      <td>Mon</td>\n",
              "      <td>Evening</td>\n",
              "    </tr>\n",
              "    <tr>\n",
              "      <th>99440</th>\n",
              "      <td>66dea50a8b16d9b4dee7af250b4be1a5</td>\n",
              "      <td>edb027a75a1449115f6b43211ae02a24</td>\n",
              "      <td>delivered</td>\n",
              "      <td>2018-03-08 20:57:30</td>\n",
              "      <td>2018-03-09 11:20:28</td>\n",
              "      <td>2018-03-09 22:11:59</td>\n",
              "      <td>2018-03-16 13:08:30</td>\n",
              "      <td>2018-04-03</td>\n",
              "      <td>2018</td>\n",
              "      <td>3</td>\n",
              "      <td>Mar</td>\n",
              "      <td>201803</td>\n",
              "      <td>20180308</td>\n",
              "      <td>8</td>\n",
              "      <td>3</td>\n",
              "      <td>Thu</td>\n",
              "      <td>Evening</td>\n",
              "    </tr>\n",
              "  </tbody>\n",
              "</table>\n",
              "<p>96211 rows × 17 columns</p>\n",
              "</div>"
            ],
            "text/plain": [
              "                               order_id  ... order_purchase_hours\n",
              "0      e481f51cbdc54678b7cc49136f2d6af7  ...              Morning\n",
              "1      53cdb2fc8bc7dce0b6741e2150273451  ...              Evening\n",
              "2      47770eb9100c2d0c44946d9cf07ec65d  ...              Morning\n",
              "3      949d5b44dbf5de918fe9c16f97b45f8a  ...              Evening\n",
              "4      ad21c59c0840e6cb83a9ceb5573f8159  ...              Evening\n",
              "...                                 ...  ...                  ...\n",
              "99436  9c5dedf39a927c1b2549525ed64a053c  ...              Morning\n",
              "99437  63943bddc261676b46f01ca7ac2f7bd8  ...            Afternoon\n",
              "99438  83c1379a015df1e13d02aae0204711ab  ...            Afternoon\n",
              "99439  11c177c8e97725db2631073c19f07b62  ...              Evening\n",
              "99440  66dea50a8b16d9b4dee7af250b4be1a5  ...              Evening\n",
              "\n",
              "[96211 rows x 17 columns]"
            ]
          },
          "metadata": {},
          "execution_count": 31
        }
      ]
    },
    {
      "cell_type": "markdown",
      "metadata": {
        "id": "gd6qBkcun1cm"
      },
      "source": [
        "###Orders per dayweek"
      ]
    },
    {
      "cell_type": "code",
      "metadata": {
        "colab": {
          "base_uri": "https://localhost:8080/",
          "height": 226
        },
        "id": "WZg3YOfH0TKU",
        "outputId": "97889921-8651-4367-d670-82b4444d7d64"
      },
      "source": [
        "orders_clean.head()"
      ],
      "execution_count": null,
      "outputs": [
        {
          "output_type": "execute_result",
          "data": {
            "text/html": [
              "<div>\n",
              "<style scoped>\n",
              "    .dataframe tbody tr th:only-of-type {\n",
              "        vertical-align: middle;\n",
              "    }\n",
              "\n",
              "    .dataframe tbody tr th {\n",
              "        vertical-align: top;\n",
              "    }\n",
              "\n",
              "    .dataframe thead th {\n",
              "        text-align: right;\n",
              "    }\n",
              "</style>\n",
              "<table border=\"1\" class=\"dataframe\">\n",
              "  <thead>\n",
              "    <tr style=\"text-align: right;\">\n",
              "      <th></th>\n",
              "      <th>order_id</th>\n",
              "      <th>customer_id</th>\n",
              "      <th>order_status</th>\n",
              "      <th>order_purchase_timestamp</th>\n",
              "      <th>order_approved_at</th>\n",
              "      <th>order_delivered_carrier_date</th>\n",
              "      <th>order_delivered_customer_date</th>\n",
              "      <th>order_estimated_delivery_date</th>\n",
              "      <th>order_purchase_year</th>\n",
              "      <th>order_purchase_month</th>\n",
              "      <th>order_purchase_month_name</th>\n",
              "      <th>order_purchase_year_month</th>\n",
              "      <th>order_purchase_date</th>\n",
              "      <th>order_purchase_day</th>\n",
              "      <th>order_purchase_day_of_week</th>\n",
              "      <th>order_purchase_day_of_week_name</th>\n",
              "      <th>order_purchase_hours</th>\n",
              "    </tr>\n",
              "  </thead>\n",
              "  <tbody>\n",
              "    <tr>\n",
              "      <th>0</th>\n",
              "      <td>e481f51cbdc54678b7cc49136f2d6af7</td>\n",
              "      <td>9ef432eb6251297304e76186b10a928d</td>\n",
              "      <td>delivered</td>\n",
              "      <td>2017-10-02 10:56:33</td>\n",
              "      <td>2017-10-02 11:07:15</td>\n",
              "      <td>2017-10-04 19:55:00</td>\n",
              "      <td>2017-10-10 21:25:13</td>\n",
              "      <td>2017-10-18</td>\n",
              "      <td>2017</td>\n",
              "      <td>10</td>\n",
              "      <td>Oct</td>\n",
              "      <td>201710</td>\n",
              "      <td>20171002</td>\n",
              "      <td>2</td>\n",
              "      <td>0</td>\n",
              "      <td>Mon</td>\n",
              "      <td>Morning</td>\n",
              "    </tr>\n",
              "    <tr>\n",
              "      <th>1</th>\n",
              "      <td>53cdb2fc8bc7dce0b6741e2150273451</td>\n",
              "      <td>b0830fb4747a6c6d20dea0b8c802d7ef</td>\n",
              "      <td>delivered</td>\n",
              "      <td>2018-07-24 20:41:37</td>\n",
              "      <td>2018-07-26 03:24:27</td>\n",
              "      <td>2018-07-26 14:31:00</td>\n",
              "      <td>2018-08-07 15:27:45</td>\n",
              "      <td>2018-08-13</td>\n",
              "      <td>2018</td>\n",
              "      <td>7</td>\n",
              "      <td>Jul</td>\n",
              "      <td>201807</td>\n",
              "      <td>20180724</td>\n",
              "      <td>24</td>\n",
              "      <td>1</td>\n",
              "      <td>Tue</td>\n",
              "      <td>Evening</td>\n",
              "    </tr>\n",
              "    <tr>\n",
              "      <th>2</th>\n",
              "      <td>47770eb9100c2d0c44946d9cf07ec65d</td>\n",
              "      <td>41ce2a54c0b03bf3443c3d931a367089</td>\n",
              "      <td>delivered</td>\n",
              "      <td>2018-08-08 08:38:49</td>\n",
              "      <td>2018-08-08 08:55:23</td>\n",
              "      <td>2018-08-08 13:50:00</td>\n",
              "      <td>2018-08-17 18:06:29</td>\n",
              "      <td>2018-09-04</td>\n",
              "      <td>2018</td>\n",
              "      <td>8</td>\n",
              "      <td>Aug</td>\n",
              "      <td>201808</td>\n",
              "      <td>20180808</td>\n",
              "      <td>8</td>\n",
              "      <td>2</td>\n",
              "      <td>Wed</td>\n",
              "      <td>Morning</td>\n",
              "    </tr>\n",
              "    <tr>\n",
              "      <th>3</th>\n",
              "      <td>949d5b44dbf5de918fe9c16f97b45f8a</td>\n",
              "      <td>f88197465ea7920adcdbec7375364d82</td>\n",
              "      <td>delivered</td>\n",
              "      <td>2017-11-18 19:28:06</td>\n",
              "      <td>2017-11-18 19:45:59</td>\n",
              "      <td>2017-11-22 13:39:59</td>\n",
              "      <td>2017-12-02 00:28:42</td>\n",
              "      <td>2017-12-15</td>\n",
              "      <td>2017</td>\n",
              "      <td>11</td>\n",
              "      <td>Nov</td>\n",
              "      <td>201711</td>\n",
              "      <td>20171118</td>\n",
              "      <td>18</td>\n",
              "      <td>5</td>\n",
              "      <td>Sat</td>\n",
              "      <td>Evening</td>\n",
              "    </tr>\n",
              "    <tr>\n",
              "      <th>4</th>\n",
              "      <td>ad21c59c0840e6cb83a9ceb5573f8159</td>\n",
              "      <td>8ab97904e6daea8866dbdbc4fb7aad2c</td>\n",
              "      <td>delivered</td>\n",
              "      <td>2018-02-13 21:18:39</td>\n",
              "      <td>2018-02-13 22:20:29</td>\n",
              "      <td>2018-02-14 19:46:34</td>\n",
              "      <td>2018-02-16 18:17:02</td>\n",
              "      <td>2018-02-26</td>\n",
              "      <td>2018</td>\n",
              "      <td>2</td>\n",
              "      <td>Feb</td>\n",
              "      <td>201802</td>\n",
              "      <td>20180213</td>\n",
              "      <td>13</td>\n",
              "      <td>1</td>\n",
              "      <td>Tue</td>\n",
              "      <td>Evening</td>\n",
              "    </tr>\n",
              "  </tbody>\n",
              "</table>\n",
              "</div>"
            ],
            "text/plain": [
              "                           order_id  ... order_purchase_hours\n",
              "0  e481f51cbdc54678b7cc49136f2d6af7  ...              Morning\n",
              "1  53cdb2fc8bc7dce0b6741e2150273451  ...              Evening\n",
              "2  47770eb9100c2d0c44946d9cf07ec65d  ...              Morning\n",
              "3  949d5b44dbf5de918fe9c16f97b45f8a  ...              Evening\n",
              "4  ad21c59c0840e6cb83a9ceb5573f8159  ...              Evening\n",
              "\n",
              "[5 rows x 17 columns]"
            ]
          },
          "metadata": {},
          "execution_count": 32
        }
      ]
    },
    {
      "cell_type": "code",
      "metadata": {
        "colab": {
          "base_uri": "https://localhost:8080/"
        },
        "id": "9ydmY1eX4VPS",
        "outputId": "bc89190f-3eaa-4a3b-9aec-4725010465ad"
      },
      "source": [
        "orders_clean['order_purchase_day_of_week_name'].value_counts() / orders_clean['order_purchase_day_of_week_name'].shape[0]*100"
      ],
      "execution_count": null,
      "outputs": [
        {
          "output_type": "execute_result",
          "data": {
            "text/plain": [
              "Mon    16.276725\n",
              "Tue    16.057415\n",
              "Wed    15.633348\n",
              "Thu    14.843417\n",
              "Fri    14.183409\n",
              "Sun    12.072424\n",
              "Sat    10.933261\n",
              "Name: order_purchase_day_of_week_name, dtype: float64"
            ]
          },
          "metadata": {},
          "execution_count": 33
        }
      ]
    },
    {
      "cell_type": "code",
      "metadata": {
        "colab": {
          "base_uri": "https://localhost:8080/"
        },
        "id": "Kckt-RZ47JDA",
        "outputId": "1b321423-d1d5-4d87-a82b-b9fb96ce4ae9"
      },
      "source": [
        "orders_clean['order_purchase_day_of_week_name'].value_counts().index"
      ],
      "execution_count": null,
      "outputs": [
        {
          "output_type": "execute_result",
          "data": {
            "text/plain": [
              "Index(['Mon', 'Tue', 'Wed', 'Thu', 'Fri', 'Sun', 'Sat'], dtype='object')"
            ]
          },
          "metadata": {},
          "execution_count": 34
        }
      ]
    },
    {
      "cell_type": "code",
      "metadata": {
        "colab": {
          "base_uri": "https://localhost:8080/",
          "height": 486
        },
        "id": "EbpPJKQ61IwP",
        "outputId": "42e73062-f169-4fc0-ee82-c58ff490cfe8"
      },
      "source": [
        "#Percentage labels\n",
        "count_order_per_day_of_week = orders_clean['order_purchase_day_of_week_name'].value_counts()\n",
        "total_orders = orders_clean['order_purchase_day_of_week_name'].shape[0]\n",
        "percentage = count_order_per_day_of_week / total_orders *100\n",
        "\n",
        "#Countplot\n",
        "plt.figure(figsize=(15,7))\n",
        "\n",
        "#Reindex to keep the correct order\n",
        "day_of_week = ['Mon', 'Tue', 'Wed', 'Thu', 'Fri', 'Sat', 'Sun']\n",
        "percentage.reindex(day_of_week)\n",
        "\n",
        "ax = sns.countplot(x='order_purchase_day_of_week_name', \n",
        "                   order=day_of_week,\n",
        "                   data=orders_clean, \n",
        "                   palette='PuBuGn_r')\n",
        "\n",
        "#Use patches location and annotate function to add label on topof the bar\n",
        "patches = ax.patches\n",
        "for i in range(len(patches)):\n",
        "  x = patches[i].get_x() + patches[i].get_width() / 2\n",
        "  y = patches[i].get_height() + 100\n",
        "  ax.annotate('{:.1f}%'.format(percentage[i]), (x,y), ha='center')\n",
        "\n",
        "plt.title('Orders per day of the week \\n', fontsize=20) # Title\n",
        "plt.show()"
      ],
      "execution_count": null,
      "outputs": [
        {
          "output_type": "display_data",
          "data": {
            "image/png": "[encoded data removed]",
            "text/plain": [
              "<Figure size 1080x504 with 1 Axes>"
            ]
          },
          "metadata": {
            "needs_background": "light"
          }
        }
      ]
    },
    {
      "cell_type": "code",
      "metadata": {
        "colab": {
          "base_uri": "https://localhost:8080/"
        },
        "id": "8fE7_Roa4oXh",
        "outputId": "3c0a1054-07f2-4177-94d9-7421d68235ae"
      },
      "source": [
        "orders_clean['order_purchase_day_of_week_name'].describe()"
      ],
      "execution_count": null,
      "outputs": [
        {
          "output_type": "execute_result",
          "data": {
            "text/plain": [
              "count     96211\n",
              "unique        7\n",
              "top         Mon\n",
              "freq      15660\n",
              "Name: order_purchase_day_of_week_name, dtype: object"
            ]
          },
          "metadata": {},
          "execution_count": 36
        }
      ]
    },
    {
      "cell_type": "code",
      "metadata": {
        "id": "JiOrXrHZ40u7"
      },
      "source": [
        "top_day = orders_clean['order_purchase_day_of_week_name'].describe()['top']\n",
        "top_freq = orders_clean['order_purchase_day_of_week_name'].describe()['freq']\n",
        "average_order_per_dayofweek = round(orders_clean['order_purchase_day_of_week_name'].value_counts().mean(),2)"
      ],
      "execution_count": null,
      "outputs": []
    },
    {
      "cell_type": "code",
      "metadata": {
        "colab": {
          "base_uri": "https://localhost:8080/"
        },
        "id": "YveNENny5ApL",
        "outputId": "f1d38ab4-93f0-4bd9-ec5a-86e2dfc3838e"
      },
      "source": [
        "print(f'An average of {average_order_per_dayofweek} orders have been placed each day. {top_day} is the best day with a frequence of {top_freq}.')"
      ],
      "execution_count": null,
      "outputs": [
        {
          "output_type": "stream",
          "name": "stdout",
          "text": [
            "An average of 13744.43 orders have been placed each day. Mon is the best day with a frequence of 15660.\n"
          ]
        }
      ]
    },
    {
      "cell_type": "code",
      "metadata": {
        "colab": {
          "base_uri": "https://localhost:8080/",
          "height": 226
        },
        "id": "NjDe4GVmxtTn",
        "outputId": "1c3ef800-93db-4c8f-eab6-6408d3aec975"
      },
      "source": [
        "orders_clean.head()"
      ],
      "execution_count": null,
      "outputs": [
        {
          "output_type": "execute_result",
          "data": {
            "text/html": [
              "<div>\n",
              "<style scoped>\n",
              "    .dataframe tbody tr th:only-of-type {\n",
              "        vertical-align: middle;\n",
              "    }\n",
              "\n",
              "    .dataframe tbody tr th {\n",
              "        vertical-align: top;\n",
              "    }\n",
              "\n",
              "    .dataframe thead th {\n",
              "        text-align: right;\n",
              "    }\n",
              "</style>\n",
              "<table border=\"1\" class=\"dataframe\">\n",
              "  <thead>\n",
              "    <tr style=\"text-align: right;\">\n",
              "      <th></th>\n",
              "      <th>order_id</th>\n",
              "      <th>customer_id</th>\n",
              "      <th>order_status</th>\n",
              "      <th>order_purchase_timestamp</th>\n",
              "      <th>order_approved_at</th>\n",
              "      <th>order_delivered_carrier_date</th>\n",
              "      <th>order_delivered_customer_date</th>\n",
              "      <th>order_estimated_delivery_date</th>\n",
              "      <th>order_purchase_year</th>\n",
              "      <th>order_purchase_month</th>\n",
              "      <th>order_purchase_month_name</th>\n",
              "      <th>order_purchase_year_month</th>\n",
              "      <th>order_purchase_date</th>\n",
              "      <th>order_purchase_day</th>\n",
              "      <th>order_purchase_day_of_week</th>\n",
              "      <th>order_purchase_day_of_week_name</th>\n",
              "      <th>order_purchase_hours</th>\n",
              "    </tr>\n",
              "  </thead>\n",
              "  <tbody>\n",
              "    <tr>\n",
              "      <th>0</th>\n",
              "      <td>e481f51cbdc54678b7cc49136f2d6af7</td>\n",
              "      <td>9ef432eb6251297304e76186b10a928d</td>\n",
              "      <td>delivered</td>\n",
              "      <td>2017-10-02 10:56:33</td>\n",
              "      <td>2017-10-02 11:07:15</td>\n",
              "      <td>2017-10-04 19:55:00</td>\n",
              "      <td>2017-10-10 21:25:13</td>\n",
              "      <td>2017-10-18</td>\n",
              "      <td>2017</td>\n",
              "      <td>10</td>\n",
              "      <td>Oct</td>\n",
              "      <td>201710</td>\n",
              "      <td>20171002</td>\n",
              "      <td>2</td>\n",
              "      <td>0</td>\n",
              "      <td>Mon</td>\n",
              "      <td>Morning</td>\n",
              "    </tr>\n",
              "    <tr>\n",
              "      <th>1</th>\n",
              "      <td>53cdb2fc8bc7dce0b6741e2150273451</td>\n",
              "      <td>b0830fb4747a6c6d20dea0b8c802d7ef</td>\n",
              "      <td>delivered</td>\n",
              "      <td>2018-07-24 20:41:37</td>\n",
              "      <td>2018-07-26 03:24:27</td>\n",
              "      <td>2018-07-26 14:31:00</td>\n",
              "      <td>2018-08-07 15:27:45</td>\n",
              "      <td>2018-08-13</td>\n",
              "      <td>2018</td>\n",
              "      <td>7</td>\n",
              "      <td>Jul</td>\n",
              "      <td>201807</td>\n",
              "      <td>20180724</td>\n",
              "      <td>24</td>\n",
              "      <td>1</td>\n",
              "      <td>Tue</td>\n",
              "      <td>Evening</td>\n",
              "    </tr>\n",
              "    <tr>\n",
              "      <th>2</th>\n",
              "      <td>47770eb9100c2d0c44946d9cf07ec65d</td>\n",
              "      <td>41ce2a54c0b03bf3443c3d931a367089</td>\n",
              "      <td>delivered</td>\n",
              "      <td>2018-08-08 08:38:49</td>\n",
              "      <td>2018-08-08 08:55:23</td>\n",
              "      <td>2018-08-08 13:50:00</td>\n",
              "      <td>2018-08-17 18:06:29</td>\n",
              "      <td>2018-09-04</td>\n",
              "      <td>2018</td>\n",
              "      <td>8</td>\n",
              "      <td>Aug</td>\n",
              "      <td>201808</td>\n",
              "      <td>20180808</td>\n",
              "      <td>8</td>\n",
              "      <td>2</td>\n",
              "      <td>Wed</td>\n",
              "      <td>Morning</td>\n",
              "    </tr>\n",
              "    <tr>\n",
              "      <th>3</th>\n",
              "      <td>949d5b44dbf5de918fe9c16f97b45f8a</td>\n",
              "      <td>f88197465ea7920adcdbec7375364d82</td>\n",
              "      <td>delivered</td>\n",
              "      <td>2017-11-18 19:28:06</td>\n",
              "      <td>2017-11-18 19:45:59</td>\n",
              "      <td>2017-11-22 13:39:59</td>\n",
              "      <td>2017-12-02 00:28:42</td>\n",
              "      <td>2017-12-15</td>\n",
              "      <td>2017</td>\n",
              "      <td>11</td>\n",
              "      <td>Nov</td>\n",
              "      <td>201711</td>\n",
              "      <td>20171118</td>\n",
              "      <td>18</td>\n",
              "      <td>5</td>\n",
              "      <td>Sat</td>\n",
              "      <td>Evening</td>\n",
              "    </tr>\n",
              "    <tr>\n",
              "      <th>4</th>\n",
              "      <td>ad21c59c0840e6cb83a9ceb5573f8159</td>\n",
              "      <td>8ab97904e6daea8866dbdbc4fb7aad2c</td>\n",
              "      <td>delivered</td>\n",
              "      <td>2018-02-13 21:18:39</td>\n",
              "      <td>2018-02-13 22:20:29</td>\n",
              "      <td>2018-02-14 19:46:34</td>\n",
              "      <td>2018-02-16 18:17:02</td>\n",
              "      <td>2018-02-26</td>\n",
              "      <td>2018</td>\n",
              "      <td>2</td>\n",
              "      <td>Feb</td>\n",
              "      <td>201802</td>\n",
              "      <td>20180213</td>\n",
              "      <td>13</td>\n",
              "      <td>1</td>\n",
              "      <td>Tue</td>\n",
              "      <td>Evening</td>\n",
              "    </tr>\n",
              "  </tbody>\n",
              "</table>\n",
              "</div>"
            ],
            "text/plain": [
              "                           order_id  ... order_purchase_hours\n",
              "0  e481f51cbdc54678b7cc49136f2d6af7  ...              Morning\n",
              "1  53cdb2fc8bc7dce0b6741e2150273451  ...              Evening\n",
              "2  47770eb9100c2d0c44946d9cf07ec65d  ...              Morning\n",
              "3  949d5b44dbf5de918fe9c16f97b45f8a  ...              Evening\n",
              "4  ad21c59c0840e6cb83a9ceb5573f8159  ...              Evening\n",
              "\n",
              "[5 rows x 17 columns]"
            ]
          },
          "metadata": {},
          "execution_count": 39
        }
      ]
    },
    {
      "cell_type": "code",
      "metadata": {
        "colab": {
          "base_uri": "https://localhost:8080/",
          "height": 486
        },
        "id": "hLVa-Rim52CK",
        "outputId": "ae097a2b-d45e-4e4a-fa45-e9cacab534b5"
      },
      "source": [
        "#Countplot\n",
        "plt.figure(figsize=(15,7))\n",
        "\n",
        "ax = sns.countplot(x='order_purchase_day_of_week_name', \n",
        "                   data=orders_clean, \n",
        "                   order=day_of_week,\n",
        "                   hue='order_purchase_year', \n",
        "                   palette='PuBuGn_r')\n",
        "\n",
        "plt.title('Orders per day of the week \\n', fontsize=20) # Title\n",
        "plt.show()"
      ],
      "execution_count": null,
      "outputs": [
        {
          "output_type": "display_data",
          "data": {
            "image/png": "[encoded data removed]",
            "text/plain": [
              "<Figure size 1080x504 with 1 Axes>"
            ]
          },
          "metadata": {
            "needs_background": "light"
          }
        }
      ]
    },
    {
      "cell_type": "markdown",
      "metadata": {
        "id": "WlC_d0XC-f-x"
      },
      "source": [
        "Surprisingly, most of the purchases have been done during the calendar week rather than during week-ends.  "
      ]
    },
    {
      "cell_type": "markdown",
      "metadata": {
        "id": "tfZQ_2Gsn7A2"
      },
      "source": [
        "###Orders per time of day"
      ]
    },
    {
      "cell_type": "code",
      "metadata": {
        "colab": {
          "base_uri": "https://localhost:8080/"
        },
        "id": "4FoLoZtU81ZN",
        "outputId": "3e19a4c1-1efa-4afb-8d2e-325ab4b0747e"
      },
      "source": [
        "orders_clean['order_purchase_hours'].value_counts().index"
      ],
      "execution_count": null,
      "outputs": [
        {
          "output_type": "execute_result",
          "data": {
            "text/plain": [
              "CategoricalIndex(['Afternoon', 'Evening', 'Morning', 'Night'], categories=['Night', 'Morning', 'Afternoon', 'Evening'], ordered=True, dtype='category')"
            ]
          },
          "metadata": {},
          "execution_count": 41
        }
      ]
    },
    {
      "cell_type": "code",
      "metadata": {
        "colab": {
          "base_uri": "https://localhost:8080/",
          "height": 486
        },
        "id": "iHjwBcv6nZsX",
        "outputId": "e7aba007-77bb-478c-be33-09c1ce980eeb"
      },
      "source": [
        "#Countplot\n",
        "plt.figure(figsize=(15,7))\n",
        "\n",
        "time_of_day = ['Night', 'Morning', 'Afternoon', 'Evening']\n",
        "\n",
        "ax = sns.countplot(x='order_purchase_hours', \n",
        "                   data=orders_clean, \n",
        "                   order=time_of_day,\n",
        "                   hue='order_purchase_year', \n",
        "                   palette='PuBuGn_r')\n",
        "\n",
        "plt.title('Orders per time of the day over 2017-2018\\n', fontsize=20) # Title\n",
        "plt.show()"
      ],
      "execution_count": null,
      "outputs": [
        {
          "output_type": "display_data",
          "data": {
            "image/png": "[encoded data removed]",
            "text/plain": [
              "<Figure size 1080x504 with 1 Axes>"
            ]
          },
          "metadata": {
            "needs_background": "light"
          }
        }
      ]
    },
    {
      "cell_type": "markdown",
      "metadata": {
        "id": "GMekKcQ5-Sly"
      },
      "source": [
        "Most of the purchases have been done during afternoon or evening. "
      ]
    },
    {
      "cell_type": "markdown",
      "metadata": {
        "id": "iZyAKeww4UxT"
      },
      "source": [
        "###Daylag"
      ]
    },
    {
      "cell_type": "markdown",
      "metadata": {
        "id": "U651xE0Z43se"
      },
      "source": [
        "From an e-commerce client point of view, the swiftness of order placing and delivery can be a key for satisfaction. \n",
        "\n",
        "We will therefore analyse the following daylag : \n",
        "* Placing Daylag : Purchase vs approval\n",
        "* Shipping Daylag : Approval vs Carrier delivery\n",
        "* Estimation Daylag : Effective delivery vs Estimated delivery\n",
        "* Carrier Daylag : Carrier delivery date vs Customer delivery date"
      ]
    },
    {
      "cell_type": "code",
      "metadata": {
        "colab": {
          "base_uri": "https://localhost:8080/",
          "height": 226
        },
        "id": "_opdSd8U_XNK",
        "outputId": "7afe5fbd-5e21-40b0-f38c-68a3e5f466fa"
      },
      "source": [
        "orders_clean.head()"
      ],
      "execution_count": null,
      "outputs": [
        {
          "output_type": "execute_result",
          "data": {
            "text/html": [
              "<div>\n",
              "<style scoped>\n",
              "    .dataframe tbody tr th:only-of-type {\n",
              "        vertical-align: middle;\n",
              "    }\n",
              "\n",
              "    .dataframe tbody tr th {\n",
              "        vertical-align: top;\n",
              "    }\n",
              "\n",
              "    .dataframe thead th {\n",
              "        text-align: right;\n",
              "    }\n",
              "</style>\n",
              "<table border=\"1\" class=\"dataframe\">\n",
              "  <thead>\n",
              "    <tr style=\"text-align: right;\">\n",
              "      <th></th>\n",
              "      <th>order_id</th>\n",
              "      <th>customer_id</th>\n",
              "      <th>order_status</th>\n",
              "      <th>order_purchase_timestamp</th>\n",
              "      <th>order_approved_at</th>\n",
              "      <th>order_delivered_carrier_date</th>\n",
              "      <th>order_delivered_customer_date</th>\n",
              "      <th>order_estimated_delivery_date</th>\n",
              "      <th>order_purchase_year</th>\n",
              "      <th>order_purchase_month</th>\n",
              "      <th>order_purchase_month_name</th>\n",
              "      <th>order_purchase_year_month</th>\n",
              "      <th>order_purchase_date</th>\n",
              "      <th>order_purchase_day</th>\n",
              "      <th>order_purchase_day_of_week</th>\n",
              "      <th>order_purchase_day_of_week_name</th>\n",
              "      <th>order_purchase_hours</th>\n",
              "    </tr>\n",
              "  </thead>\n",
              "  <tbody>\n",
              "    <tr>\n",
              "      <th>0</th>\n",
              "      <td>e481f51cbdc54678b7cc49136f2d6af7</td>\n",
              "      <td>9ef432eb6251297304e76186b10a928d</td>\n",
              "      <td>delivered</td>\n",
              "      <td>2017-10-02 10:56:33</td>\n",
              "      <td>2017-10-02 11:07:15</td>\n",
              "      <td>2017-10-04 19:55:00</td>\n",
              "      <td>2017-10-10 21:25:13</td>\n",
              "      <td>2017-10-18</td>\n",
              "      <td>2017</td>\n",
              "      <td>10</td>\n",
              "      <td>Oct</td>\n",
              "      <td>201710</td>\n",
              "      <td>20171002</td>\n",
              "      <td>2</td>\n",
              "      <td>0</td>\n",
              "      <td>Mon</td>\n",
              "      <td>Morning</td>\n",
              "    </tr>\n",
              "    <tr>\n",
              "      <th>1</th>\n",
              "      <td>53cdb2fc8bc7dce0b6741e2150273451</td>\n",
              "      <td>b0830fb4747a6c6d20dea0b8c802d7ef</td>\n",
              "      <td>delivered</td>\n",
              "      <td>2018-07-24 20:41:37</td>\n",
              "      <td>2018-07-26 03:24:27</td>\n",
              "      <td>2018-07-26 14:31:00</td>\n",
              "      <td>2018-08-07 15:27:45</td>\n",
              "      <td>2018-08-13</td>\n",
              "      <td>2018</td>\n",
              "      <td>7</td>\n",
              "      <td>Jul</td>\n",
              "      <td>201807</td>\n",
              "      <td>20180724</td>\n",
              "      <td>24</td>\n",
              "      <td>1</td>\n",
              "      <td>Tue</td>\n",
              "      <td>Evening</td>\n",
              "    </tr>\n",
              "    <tr>\n",
              "      <th>2</th>\n",
              "      <td>47770eb9100c2d0c44946d9cf07ec65d</td>\n",
              "      <td>41ce2a54c0b03bf3443c3d931a367089</td>\n",
              "      <td>delivered</td>\n",
              "      <td>2018-08-08 08:38:49</td>\n",
              "      <td>2018-08-08 08:55:23</td>\n",
              "      <td>2018-08-08 13:50:00</td>\n",
              "      <td>2018-08-17 18:06:29</td>\n",
              "      <td>2018-09-04</td>\n",
              "      <td>2018</td>\n",
              "      <td>8</td>\n",
              "      <td>Aug</td>\n",
              "      <td>201808</td>\n",
              "      <td>20180808</td>\n",
              "      <td>8</td>\n",
              "      <td>2</td>\n",
              "      <td>Wed</td>\n",
              "      <td>Morning</td>\n",
              "    </tr>\n",
              "    <tr>\n",
              "      <th>3</th>\n",
              "      <td>949d5b44dbf5de918fe9c16f97b45f8a</td>\n",
              "      <td>f88197465ea7920adcdbec7375364d82</td>\n",
              "      <td>delivered</td>\n",
              "      <td>2017-11-18 19:28:06</td>\n",
              "      <td>2017-11-18 19:45:59</td>\n",
              "      <td>2017-11-22 13:39:59</td>\n",
              "      <td>2017-12-02 00:28:42</td>\n",
              "      <td>2017-12-15</td>\n",
              "      <td>2017</td>\n",
              "      <td>11</td>\n",
              "      <td>Nov</td>\n",
              "      <td>201711</td>\n",
              "      <td>20171118</td>\n",
              "      <td>18</td>\n",
              "      <td>5</td>\n",
              "      <td>Sat</td>\n",
              "      <td>Evening</td>\n",
              "    </tr>\n",
              "    <tr>\n",
              "      <th>4</th>\n",
              "      <td>ad21c59c0840e6cb83a9ceb5573f8159</td>\n",
              "      <td>8ab97904e6daea8866dbdbc4fb7aad2c</td>\n",
              "      <td>delivered</td>\n",
              "      <td>2018-02-13 21:18:39</td>\n",
              "      <td>2018-02-13 22:20:29</td>\n",
              "      <td>2018-02-14 19:46:34</td>\n",
              "      <td>2018-02-16 18:17:02</td>\n",
              "      <td>2018-02-26</td>\n",
              "      <td>2018</td>\n",
              "      <td>2</td>\n",
              "      <td>Feb</td>\n",
              "      <td>201802</td>\n",
              "      <td>20180213</td>\n",
              "      <td>13</td>\n",
              "      <td>1</td>\n",
              "      <td>Tue</td>\n",
              "      <td>Evening</td>\n",
              "    </tr>\n",
              "  </tbody>\n",
              "</table>\n",
              "</div>"
            ],
            "text/plain": [
              "                           order_id  ... order_purchase_hours\n",
              "0  e481f51cbdc54678b7cc49136f2d6af7  ...              Morning\n",
              "1  53cdb2fc8bc7dce0b6741e2150273451  ...              Evening\n",
              "2  47770eb9100c2d0c44946d9cf07ec65d  ...              Morning\n",
              "3  949d5b44dbf5de918fe9c16f97b45f8a  ...              Evening\n",
              "4  ad21c59c0840e6cb83a9ceb5573f8159  ...              Evening\n",
              "\n",
              "[5 rows x 17 columns]"
            ]
          },
          "metadata": {},
          "execution_count": 43
        }
      ]
    },
    {
      "cell_type": "code",
      "metadata": {
        "colab": {
          "base_uri": "https://localhost:8080/"
        },
        "id": "Xrjfy7E07QtL",
        "outputId": "6a9e90d7-0102-44eb-c46b-90d7e05e5d23"
      },
      "source": [
        "orders_raw.info()"
      ],
      "execution_count": null,
      "outputs": [
        {
          "output_type": "stream",
          "name": "stdout",
          "text": [
            "<class 'pandas.core.frame.DataFrame'>\n",
            "RangeIndex: 99441 entries, 0 to 99440\n",
            "Data columns (total 8 columns):\n",
            " #   Column                         Non-Null Count  Dtype         \n",
            "---  ------                         --------------  -----         \n",
            " 0   order_id                       99441 non-null  object        \n",
            " 1   customer_id                    99441 non-null  object        \n",
            " 2   order_status                   99441 non-null  object        \n",
            " 3   order_purchase_timestamp       99441 non-null  datetime64[ns]\n",
            " 4   order_approved_at              99281 non-null  datetime64[ns]\n",
            " 5   order_delivered_carrier_date   97658 non-null  datetime64[ns]\n",
            " 6   order_delivered_customer_date  96476 non-null  datetime64[ns]\n",
            " 7   order_estimated_delivery_date  99441 non-null  datetime64[ns]\n",
            "dtypes: datetime64[ns](5), object(3)\n",
            "memory usage: 6.1+ MB\n"
          ]
        }
      ]
    },
    {
      "cell_type": "code",
      "metadata": {
        "colab": {
          "base_uri": "https://localhost:8080/"
        },
        "id": "WAhaOJtM7n-Q",
        "outputId": "21b2940a-69dc-4281-ffe9-663fd11dbd3c"
      },
      "source": [
        "#Removing Missing values\n",
        "orders_clean.dropna(subset=['order_approved_at', 'order_delivered_carrier_date', 'order_delivered_customer_date', 'order_estimated_delivery_date']\n",
        "                    , inplace=True)\n",
        "\n",
        "#Checking result\n",
        "orders_clean.info()"
      ],
      "execution_count": null,
      "outputs": [
        {
          "output_type": "stream",
          "name": "stdout",
          "text": [
            "<class 'pandas.core.frame.DataFrame'>\n",
            "Int64Index: 96188 entries, 0 to 99440\n",
            "Data columns (total 17 columns):\n",
            " #   Column                           Non-Null Count  Dtype         \n",
            "---  ------                           --------------  -----         \n",
            " 0   order_id                         96188 non-null  object        \n",
            " 1   customer_id                      96188 non-null  object        \n",
            " 2   order_status                     96188 non-null  object        \n",
            " 3   order_purchase_timestamp         96188 non-null  datetime64[ns]\n",
            " 4   order_approved_at                96188 non-null  datetime64[ns]\n",
            " 5   order_delivered_carrier_date     96188 non-null  datetime64[ns]\n",
            " 6   order_delivered_customer_date    96188 non-null  datetime64[ns]\n",
            " 7   order_estimated_delivery_date    96188 non-null  datetime64[ns]\n",
            " 8   order_purchase_year              96188 non-null  int64         \n",
            " 9   order_purchase_month             96188 non-null  int64         \n",
            " 10  order_purchase_month_name        96188 non-null  object        \n",
            " 11  order_purchase_year_month        96188 non-null  object        \n",
            " 12  order_purchase_date              96188 non-null  object        \n",
            " 13  order_purchase_day               96188 non-null  int64         \n",
            " 14  order_purchase_day_of_week       96188 non-null  int64         \n",
            " 15  order_purchase_day_of_week_name  96188 non-null  object        \n",
            " 16  order_purchase_hours             96188 non-null  category      \n",
            "dtypes: category(1), datetime64[ns](5), int64(4), object(7)\n",
            "memory usage: 12.6+ MB\n"
          ]
        }
      ]
    },
    {
      "cell_type": "code",
      "metadata": {
        "colab": {
          "base_uri": "https://localhost:8080/",
          "height": 226
        },
        "id": "yn92ezRX8ntY",
        "outputId": "4bd88278-5e56-4f25-d320-e9ffb14af049"
      },
      "source": [
        "orders_clean.head()"
      ],
      "execution_count": null,
      "outputs": [
        {
          "output_type": "execute_result",
          "data": {
            "text/html": [
              "<div>\n",
              "<style scoped>\n",
              "    .dataframe tbody tr th:only-of-type {\n",
              "        vertical-align: middle;\n",
              "    }\n",
              "\n",
              "    .dataframe tbody tr th {\n",
              "        vertical-align: top;\n",
              "    }\n",
              "\n",
              "    .dataframe thead th {\n",
              "        text-align: right;\n",
              "    }\n",
              "</style>\n",
              "<table border=\"1\" class=\"dataframe\">\n",
              "  <thead>\n",
              "    <tr style=\"text-align: right;\">\n",
              "      <th></th>\n",
              "      <th>order_id</th>\n",
              "      <th>customer_id</th>\n",
              "      <th>order_status</th>\n",
              "      <th>order_purchase_timestamp</th>\n",
              "      <th>order_approved_at</th>\n",
              "      <th>order_delivered_carrier_date</th>\n",
              "      <th>order_delivered_customer_date</th>\n",
              "      <th>order_estimated_delivery_date</th>\n",
              "      <th>order_purchase_year</th>\n",
              "      <th>order_purchase_month</th>\n",
              "      <th>order_purchase_month_name</th>\n",
              "      <th>order_purchase_year_month</th>\n",
              "      <th>order_purchase_date</th>\n",
              "      <th>order_purchase_day</th>\n",
              "      <th>order_purchase_day_of_week</th>\n",
              "      <th>order_purchase_day_of_week_name</th>\n",
              "      <th>order_purchase_hours</th>\n",
              "    </tr>\n",
              "  </thead>\n",
              "  <tbody>\n",
              "    <tr>\n",
              "      <th>0</th>\n",
              "      <td>e481f51cbdc54678b7cc49136f2d6af7</td>\n",
              "      <td>9ef432eb6251297304e76186b10a928d</td>\n",
              "      <td>delivered</td>\n",
              "      <td>2017-10-02 10:56:33</td>\n",
              "      <td>2017-10-02 11:07:15</td>\n",
              "      <td>2017-10-04 19:55:00</td>\n",
              "      <td>2017-10-10 21:25:13</td>\n",
              "      <td>2017-10-18</td>\n",
              "      <td>2017</td>\n",
              "      <td>10</td>\n",
              "      <td>Oct</td>\n",
              "      <td>201710</td>\n",
              "      <td>20171002</td>\n",
              "      <td>2</td>\n",
              "      <td>0</td>\n",
              "      <td>Mon</td>\n",
              "      <td>Morning</td>\n",
              "    </tr>\n",
              "    <tr>\n",
              "      <th>1</th>\n",
              "      <td>53cdb2fc8bc7dce0b6741e2150273451</td>\n",
              "      <td>b0830fb4747a6c6d20dea0b8c802d7ef</td>\n",
              "      <td>delivered</td>\n",
              "      <td>2018-07-24 20:41:37</td>\n",
              "      <td>2018-07-26 03:24:27</td>\n",
              "      <td>2018-07-26 14:31:00</td>\n",
              "      <td>2018-08-07 15:27:45</td>\n",
              "      <td>2018-08-13</td>\n",
              "      <td>2018</td>\n",
              "      <td>7</td>\n",
              "      <td>Jul</td>\n",
              "      <td>201807</td>\n",
              "      <td>20180724</td>\n",
              "      <td>24</td>\n",
              "      <td>1</td>\n",
              "      <td>Tue</td>\n",
              "      <td>Evening</td>\n",
              "    </tr>\n",
              "    <tr>\n",
              "      <th>2</th>\n",
              "      <td>47770eb9100c2d0c44946d9cf07ec65d</td>\n",
              "      <td>41ce2a54c0b03bf3443c3d931a367089</td>\n",
              "      <td>delivered</td>\n",
              "      <td>2018-08-08 08:38:49</td>\n",
              "      <td>2018-08-08 08:55:23</td>\n",
              "      <td>2018-08-08 13:50:00</td>\n",
              "      <td>2018-08-17 18:06:29</td>\n",
              "      <td>2018-09-04</td>\n",
              "      <td>2018</td>\n",
              "      <td>8</td>\n",
              "      <td>Aug</td>\n",
              "      <td>201808</td>\n",
              "      <td>20180808</td>\n",
              "      <td>8</td>\n",
              "      <td>2</td>\n",
              "      <td>Wed</td>\n",
              "      <td>Morning</td>\n",
              "    </tr>\n",
              "    <tr>\n",
              "      <th>3</th>\n",
              "      <td>949d5b44dbf5de918fe9c16f97b45f8a</td>\n",
              "      <td>f88197465ea7920adcdbec7375364d82</td>\n",
              "      <td>delivered</td>\n",
              "      <td>2017-11-18 19:28:06</td>\n",
              "      <td>2017-11-18 19:45:59</td>\n",
              "      <td>2017-11-22 13:39:59</td>\n",
              "      <td>2017-12-02 00:28:42</td>\n",
              "      <td>2017-12-15</td>\n",
              "      <td>2017</td>\n",
              "      <td>11</td>\n",
              "      <td>Nov</td>\n",
              "      <td>201711</td>\n",
              "      <td>20171118</td>\n",
              "      <td>18</td>\n",
              "      <td>5</td>\n",
              "      <td>Sat</td>\n",
              "      <td>Evening</td>\n",
              "    </tr>\n",
              "    <tr>\n",
              "      <th>4</th>\n",
              "      <td>ad21c59c0840e6cb83a9ceb5573f8159</td>\n",
              "      <td>8ab97904e6daea8866dbdbc4fb7aad2c</td>\n",
              "      <td>delivered</td>\n",
              "      <td>2018-02-13 21:18:39</td>\n",
              "      <td>2018-02-13 22:20:29</td>\n",
              "      <td>2018-02-14 19:46:34</td>\n",
              "      <td>2018-02-16 18:17:02</td>\n",
              "      <td>2018-02-26</td>\n",
              "      <td>2018</td>\n",
              "      <td>2</td>\n",
              "      <td>Feb</td>\n",
              "      <td>201802</td>\n",
              "      <td>20180213</td>\n",
              "      <td>13</td>\n",
              "      <td>1</td>\n",
              "      <td>Tue</td>\n",
              "      <td>Evening</td>\n",
              "    </tr>\n",
              "  </tbody>\n",
              "</table>\n",
              "</div>"
            ],
            "text/plain": [
              "                           order_id  ... order_purchase_hours\n",
              "0  e481f51cbdc54678b7cc49136f2d6af7  ...              Morning\n",
              "1  53cdb2fc8bc7dce0b6741e2150273451  ...              Evening\n",
              "2  47770eb9100c2d0c44946d9cf07ec65d  ...              Morning\n",
              "3  949d5b44dbf5de918fe9c16f97b45f8a  ...              Evening\n",
              "4  ad21c59c0840e6cb83a9ceb5573f8159  ...              Evening\n",
              "\n",
              "[5 rows x 17 columns]"
            ]
          },
          "metadata": {},
          "execution_count": 46
        }
      ]
    },
    {
      "cell_type": "code",
      "metadata": {
        "id": "couxHzZs4xUG"
      },
      "source": [
        "#Extracting Order date infos\n",
        "orders_clean['order_approved_date'] = orders_clean['order_approved_at'].apply(lambda x: x.strftime('%Y%m%d'))\n",
        "orders_clean['order_delivery_carrier_date'] = orders_clean['order_delivered_carrier_date'].apply(lambda x: x.strftime('%Y%m%d'))\n",
        "orders_clean['order_delivery_customer_estimated'] = orders_clean['order_estimated_delivery_date'].apply(lambda x: x.strftime('%Y%m%d'))\n",
        "orders_clean['order_delivery_customer_date'] = orders_clean['order_delivered_customer_date'].apply(lambda x: x.strftime('%Y%m%d'))\n",
        "\n",
        "#Footing Daylags\n",
        "orders_clean['placing_daylag'] = orders_clean['order_approved_date'].astype(int) - orders_clean['order_purchase_date'].astype(int) \n",
        "orders_clean['shipping_daylag'] = orders_clean['order_delivery_carrier_date'].astype(int) - orders_clean['order_approved_date'].astype(int) \n",
        "orders_clean['estimation_daylag'] = orders_clean['order_delivery_customer_date'].astype(int) - orders_clean['order_delivery_customer_estimated'].astype(int) \n",
        "orders_clean['carrier_daylag'] = orders_clean['order_delivery_customer_date'].astype(int) - orders_clean['order_delivery_carrier_date'].astype(int) \n"
      ],
      "execution_count": null,
      "outputs": []
    },
    {
      "cell_type": "code",
      "metadata": {
        "colab": {
          "base_uri": "https://localhost:8080/",
          "height": 677
        },
        "id": "5dHughaUBcAJ",
        "outputId": "702dfae7-6367-4991-da36-3b3df7cc82a6"
      },
      "source": [
        "#Prepare data for viz\n",
        "part_df = orders_clean[['placing_daylag', 'shipping_daylag', 'estimation_daylag', 'carrier_daylag', 'order_purchase_year_month']]\n",
        "part_df = part_df.groupby(by=['order_purchase_year_month']).mean()\n",
        "part_df.reset_index(inplace=True)\n",
        "\n",
        "part_df"
      ],
      "execution_count": null,
      "outputs": [
        {
          "output_type": "execute_result",
          "data": {
            "text/html": [
              "<div>\n",
              "<style scoped>\n",
              "    .dataframe tbody tr th:only-of-type {\n",
              "        vertical-align: middle;\n",
              "    }\n",
              "\n",
              "    .dataframe tbody tr th {\n",
              "        vertical-align: top;\n",
              "    }\n",
              "\n",
              "    .dataframe thead th {\n",
              "        text-align: right;\n",
              "    }\n",
              "</style>\n",
              "<table border=\"1\" class=\"dataframe\">\n",
              "  <thead>\n",
              "    <tr style=\"text-align: right;\">\n",
              "      <th></th>\n",
              "      <th>order_purchase_year_month</th>\n",
              "      <th>placing_daylag</th>\n",
              "      <th>shipping_daylag</th>\n",
              "      <th>estimation_daylag</th>\n",
              "      <th>carrier_daylag</th>\n",
              "    </tr>\n",
              "  </thead>\n",
              "  <tbody>\n",
              "    <tr>\n",
              "      <th>0</th>\n",
              "      <td>201701</td>\n",
              "      <td>3.656417</td>\n",
              "      <td>13.949198</td>\n",
              "      <td>-95.466578</td>\n",
              "      <td>40.898396</td>\n",
              "    </tr>\n",
              "    <tr>\n",
              "      <th>1</th>\n",
              "      <td>201702</td>\n",
              "      <td>2.078611</td>\n",
              "      <td>14.951249</td>\n",
              "      <td>-61.013406</td>\n",
              "      <td>29.867154</td>\n",
              "    </tr>\n",
              "    <tr>\n",
              "      <th>2</th>\n",
              "      <td>201703</td>\n",
              "      <td>1.063236</td>\n",
              "      <td>7.172820</td>\n",
              "      <td>-41.766693</td>\n",
              "      <td>32.124116</td>\n",
              "    </tr>\n",
              "    <tr>\n",
              "      <th>3</th>\n",
              "      <td>201704</td>\n",
              "      <td>2.224056</td>\n",
              "      <td>13.339991</td>\n",
              "      <td>-38.391229</td>\n",
              "      <td>41.145897</td>\n",
              "    </tr>\n",
              "    <tr>\n",
              "      <th>4</th>\n",
              "      <td>201705</td>\n",
              "      <td>1.500987</td>\n",
              "      <td>7.037518</td>\n",
              "      <td>-45.209873</td>\n",
              "      <td>25.626798</td>\n",
              "    </tr>\n",
              "    <tr>\n",
              "      <th>5</th>\n",
              "      <td>201706</td>\n",
              "      <td>1.445933</td>\n",
              "      <td>6.321212</td>\n",
              "      <td>-43.571611</td>\n",
              "      <td>28.596491</td>\n",
              "    </tr>\n",
              "    <tr>\n",
              "      <th>6</th>\n",
              "      <td>201707</td>\n",
              "      <td>2.052686</td>\n",
              "      <td>8.454029</td>\n",
              "      <td>-41.553202</td>\n",
              "      <td>27.588326</td>\n",
              "    </tr>\n",
              "    <tr>\n",
              "      <th>7</th>\n",
              "      <td>201708</td>\n",
              "      <td>1.524446</td>\n",
              "      <td>6.807298</td>\n",
              "      <td>-42.536370</td>\n",
              "      <td>25.135225</td>\n",
              "    </tr>\n",
              "    <tr>\n",
              "      <th>8</th>\n",
              "      <td>201709</td>\n",
              "      <td>1.271873</td>\n",
              "      <td>8.195710</td>\n",
              "      <td>-33.173536</td>\n",
              "      <td>31.235960</td>\n",
              "    </tr>\n",
              "    <tr>\n",
              "      <th>9</th>\n",
              "      <td>201710</td>\n",
              "      <td>1.721751</td>\n",
              "      <td>7.933899</td>\n",
              "      <td>-40.963600</td>\n",
              "      <td>32.295668</td>\n",
              "    </tr>\n",
              "    <tr>\n",
              "      <th>10</th>\n",
              "      <td>201711</td>\n",
              "      <td>2.655324</td>\n",
              "      <td>42.589874</td>\n",
              "      <td>108.015231</td>\n",
              "      <td>388.393798</td>\n",
              "    </tr>\n",
              "    <tr>\n",
              "      <th>11</th>\n",
              "      <td>201712</td>\n",
              "      <td>92.234899</td>\n",
              "      <td>868.584981</td>\n",
              "      <td>-3682.718121</td>\n",
              "      <td>2564.198984</td>\n",
              "    </tr>\n",
              "    <tr>\n",
              "      <th>12</th>\n",
              "      <td>201801</td>\n",
              "      <td>1.838591</td>\n",
              "      <td>8.773094</td>\n",
              "      <td>-48.457349</td>\n",
              "      <td>33.651719</td>\n",
              "    </tr>\n",
              "    <tr>\n",
              "      <th>13</th>\n",
              "      <td>201802</td>\n",
              "      <td>2.175744</td>\n",
              "      <td>9.740656</td>\n",
              "      <td>-34.027307</td>\n",
              "      <td>46.973760</td>\n",
              "    </tr>\n",
              "    <tr>\n",
              "      <th>14</th>\n",
              "      <td>201803</td>\n",
              "      <td>1.171498</td>\n",
              "      <td>9.314865</td>\n",
              "      <td>-20.848494</td>\n",
              "      <td>42.164787</td>\n",
              "    </tr>\n",
              "    <tr>\n",
              "      <th>15</th>\n",
              "      <td>201804</td>\n",
              "      <td>3.082524</td>\n",
              "      <td>6.294940</td>\n",
              "      <td>-41.213592</td>\n",
              "      <td>29.450868</td>\n",
              "    </tr>\n",
              "    <tr>\n",
              "      <th>16</th>\n",
              "      <td>201805</td>\n",
              "      <td>0.892725</td>\n",
              "      <td>6.575789</td>\n",
              "      <td>-35.087272</td>\n",
              "      <td>28.101793</td>\n",
              "    </tr>\n",
              "    <tr>\n",
              "      <th>17</th>\n",
              "      <td>201806</td>\n",
              "      <td>0.942257</td>\n",
              "      <td>7.369751</td>\n",
              "      <td>-62.796424</td>\n",
              "      <td>20.403215</td>\n",
              "    </tr>\n",
              "    <tr>\n",
              "      <th>18</th>\n",
              "      <td>201807</td>\n",
              "      <td>2.341455</td>\n",
              "      <td>7.860299</td>\n",
              "      <td>-40.919916</td>\n",
              "      <td>21.226608</td>\n",
              "    </tr>\n",
              "    <tr>\n",
              "      <th>19</th>\n",
              "      <td>201808</td>\n",
              "      <td>0.430798</td>\n",
              "      <td>2.175720</td>\n",
              "      <td>-29.225319</td>\n",
              "      <td>5.442765</td>\n",
              "    </tr>\n",
              "  </tbody>\n",
              "</table>\n",
              "</div>"
            ],
            "text/plain": [
              "   order_purchase_year_month  placing_daylag  ...  estimation_daylag  carrier_daylag\n",
              "0                     201701        3.656417  ...         -95.466578       40.898396\n",
              "1                     201702        2.078611  ...         -61.013406       29.867154\n",
              "2                     201703        1.063236  ...         -41.766693       32.124116\n",
              "3                     201704        2.224056  ...         -38.391229       41.145897\n",
              "4                     201705        1.500987  ...         -45.209873       25.626798\n",
              "5                     201706        1.445933  ...         -43.571611       28.596491\n",
              "6                     201707        2.052686  ...         -41.553202       27.588326\n",
              "7                     201708        1.524446  ...         -42.536370       25.135225\n",
              "8                     201709        1.271873  ...         -33.173536       31.235960\n",
              "9                     201710        1.721751  ...         -40.963600       32.295668\n",
              "10                    201711        2.655324  ...         108.015231      388.393798\n",
              "11                    201712       92.234899  ...       -3682.718121     2564.198984\n",
              "12                    201801        1.838591  ...         -48.457349       33.651719\n",
              "13                    201802        2.175744  ...         -34.027307       46.973760\n",
              "14                    201803        1.171498  ...         -20.848494       42.164787\n",
              "15                    201804        3.082524  ...         -41.213592       29.450868\n",
              "16                    201805        0.892725  ...         -35.087272       28.101793\n",
              "17                    201806        0.942257  ...         -62.796424       20.403215\n",
              "18                    201807        2.341455  ...         -40.919916       21.226608\n",
              "19                    201808        0.430798  ...         -29.225319        5.442765\n",
              "\n",
              "[20 rows x 5 columns]"
            ]
          },
          "metadata": {},
          "execution_count": 48
        }
      ]
    },
    {
      "cell_type": "code",
      "metadata": {
        "colab": {
          "base_uri": "https://localhost:8080/",
          "height": 516
        },
        "id": "Sd51n7MJ_cXp",
        "outputId": "394e3b45-ddec-4388-b1c9-dca874f3485d"
      },
      "source": [
        "plt.figure(figsize=(15,7)) # Figure size\n",
        "\n",
        "sns.lineplot(x='order_purchase_year_month',\n",
        "             y='placing_daylag',\n",
        "             data=part_df, \n",
        "             label='Placing Daylag',\n",
        "             marker='o') # Specify markers with marker argument\n",
        "\n",
        "sns.lineplot(x='order_purchase_year_month',\n",
        "             y='shipping_daylag',\n",
        "             data=part_df, \n",
        "             label='Shipping Daylag',\n",
        "             marker='o')\n",
        "\n",
        "sns.lineplot(x='order_purchase_year_month',\n",
        "             y='estimation_daylag',\n",
        "             data=part_df, \n",
        "             label='Estimation Daylag',\n",
        "             marker='o')\n",
        "\n",
        "sns.lineplot(x='order_purchase_year_month',\n",
        "             y='carrier_daylag',\n",
        "             data=part_df, \n",
        "             label='Carrier Daylag',\n",
        "             marker='o')\n",
        "\n",
        "\n",
        "plt.title('Average Daylag per Month\\n', fontsize=20) # Title\n",
        "plt.xticks(ticks=np.arange(0, 21, step=1), rotation=70) # All values in x-axis\n",
        "plt.show()"
      ],
      "execution_count": null,
      "outputs": [
        {
          "output_type": "display_data",
          "data": {
            "image/png": "[encoded data removed]",
            "text/plain": [
              "<Figure size 1080x504 with 1 Axes>"
            ]
          },
          "metadata": {
            "needs_background": "light"
          }
        }
      ]
    },
    {
      "cell_type": "markdown",
      "metadata": {
        "id": "P3mAom-QwWj4"
      },
      "source": [
        "As we could have expected : the placing daylag is relatively steady and close to zero over the time. \n",
        "\n"
      ]
    },
    {
      "cell_type": "markdown",
      "metadata": {
        "id": "nxkdN6FuxaHy"
      },
      "source": [
        "\n",
        "We would therefore gather the other daylags in a single indicator : \n",
        "* **Actual Lead Time (days)** : Number of days taken to deliver a product to the customer, from the moment an order has been placed in the system. "
      ]
    },
    {
      "cell_type": "code",
      "metadata": {
        "id": "UZ-baBBKwgog"
      },
      "source": [
        "# #Actual Lead Time\n",
        "# orders_clean['delai_de_livraison'] = orders_clean['order_delivery_customer_date'].astype(int) - orders_clean['order_approved_at'].astype(int) \n",
        "\n",
        "orders_clean['delivery_timing'] = (\n",
        "    orders_clean['order_delivered_customer_date'] -\n",
        "    orders_clean['order_purchase_timestamp']\n",
        ").apply(lambda x: x.days)"
      ],
      "execution_count": null,
      "outputs": []
    },
    {
      "cell_type": "code",
      "metadata": {
        "id": "GcIr72ne4lo-"
      },
      "source": [
        "# orders_clean.drop(columns={'actual_lead_time', 'delai_de_livraison'}, inplace=True)"
      ],
      "execution_count": null,
      "outputs": []
    },
    {
      "cell_type": "code",
      "metadata": {
        "colab": {
          "base_uri": "https://localhost:8080/",
          "height": 424
        },
        "id": "FEhxlgbOBFzj",
        "outputId": "e03276fc-4495-49a2-81d5-09486e02da30"
      },
      "source": [
        "orders_clean[['order_delivered_customer_date', 'order_purchase_timestamp', 'delivery_timing']]"
      ],
      "execution_count": null,
      "outputs": [
        {
          "output_type": "execute_result",
          "data": {
            "text/html": [
              "<div>\n",
              "<style scoped>\n",
              "    .dataframe tbody tr th:only-of-type {\n",
              "        vertical-align: middle;\n",
              "    }\n",
              "\n",
              "    .dataframe tbody tr th {\n",
              "        vertical-align: top;\n",
              "    }\n",
              "\n",
              "    .dataframe thead th {\n",
              "        text-align: right;\n",
              "    }\n",
              "</style>\n",
              "<table border=\"1\" class=\"dataframe\">\n",
              "  <thead>\n",
              "    <tr style=\"text-align: right;\">\n",
              "      <th></th>\n",
              "      <th>order_delivered_customer_date</th>\n",
              "      <th>order_purchase_timestamp</th>\n",
              "      <th>delivery_timing</th>\n",
              "    </tr>\n",
              "  </thead>\n",
              "  <tbody>\n",
              "    <tr>\n",
              "      <th>0</th>\n",
              "      <td>2017-10-10 21:25:13</td>\n",
              "      <td>2017-10-02 10:56:33</td>\n",
              "      <td>8</td>\n",
              "    </tr>\n",
              "    <tr>\n",
              "      <th>1</th>\n",
              "      <td>2018-08-07 15:27:45</td>\n",
              "      <td>2018-07-24 20:41:37</td>\n",
              "      <td>13</td>\n",
              "    </tr>\n",
              "    <tr>\n",
              "      <th>2</th>\n",
              "      <td>2018-08-17 18:06:29</td>\n",
              "      <td>2018-08-08 08:38:49</td>\n",
              "      <td>9</td>\n",
              "    </tr>\n",
              "    <tr>\n",
              "      <th>3</th>\n",
              "      <td>2017-12-02 00:28:42</td>\n",
              "      <td>2017-11-18 19:28:06</td>\n",
              "      <td>13</td>\n",
              "    </tr>\n",
              "    <tr>\n",
              "      <th>4</th>\n",
              "      <td>2018-02-16 18:17:02</td>\n",
              "      <td>2018-02-13 21:18:39</td>\n",
              "      <td>2</td>\n",
              "    </tr>\n",
              "    <tr>\n",
              "      <th>...</th>\n",
              "      <td>...</td>\n",
              "      <td>...</td>\n",
              "      <td>...</td>\n",
              "    </tr>\n",
              "    <tr>\n",
              "      <th>99436</th>\n",
              "      <td>2017-03-17 15:08:01</td>\n",
              "      <td>2017-03-09 09:54:05</td>\n",
              "      <td>8</td>\n",
              "    </tr>\n",
              "    <tr>\n",
              "      <th>99437</th>\n",
              "      <td>2018-02-28 17:37:56</td>\n",
              "      <td>2018-02-06 12:58:58</td>\n",
              "      <td>22</td>\n",
              "    </tr>\n",
              "    <tr>\n",
              "      <th>99438</th>\n",
              "      <td>2017-09-21 11:24:17</td>\n",
              "      <td>2017-08-27 14:46:43</td>\n",
              "      <td>24</td>\n",
              "    </tr>\n",
              "    <tr>\n",
              "      <th>99439</th>\n",
              "      <td>2018-01-25 23:32:54</td>\n",
              "      <td>2018-01-08 21:28:27</td>\n",
              "      <td>17</td>\n",
              "    </tr>\n",
              "    <tr>\n",
              "      <th>99440</th>\n",
              "      <td>2018-03-16 13:08:30</td>\n",
              "      <td>2018-03-08 20:57:30</td>\n",
              "      <td>7</td>\n",
              "    </tr>\n",
              "  </tbody>\n",
              "</table>\n",
              "<p>96188 rows × 3 columns</p>\n",
              "</div>"
            ],
            "text/plain": [
              "      order_delivered_customer_date order_purchase_timestamp  delivery_timing\n",
              "0               2017-10-10 21:25:13      2017-10-02 10:56:33                8\n",
              "1               2018-08-07 15:27:45      2018-07-24 20:41:37               13\n",
              "2               2018-08-17 18:06:29      2018-08-08 08:38:49                9\n",
              "3               2017-12-02 00:28:42      2017-11-18 19:28:06               13\n",
              "4               2018-02-16 18:17:02      2018-02-13 21:18:39                2\n",
              "...                             ...                      ...              ...\n",
              "99436           2017-03-17 15:08:01      2017-03-09 09:54:05                8\n",
              "99437           2018-02-28 17:37:56      2018-02-06 12:58:58               22\n",
              "99438           2017-09-21 11:24:17      2017-08-27 14:46:43               24\n",
              "99439           2018-01-25 23:32:54      2018-01-08 21:28:27               17\n",
              "99440           2018-03-16 13:08:30      2018-03-08 20:57:30                7\n",
              "\n",
              "[96188 rows x 3 columns]"
            ]
          },
          "metadata": {},
          "execution_count": 52
        }
      ]
    },
    {
      "cell_type": "code",
      "metadata": {
        "colab": {
          "base_uri": "https://localhost:8080/",
          "height": 352
        },
        "id": "hUpIJtGDY_JC",
        "outputId": "df96d215-656f-4f5a-e2e5-c0696404272e"
      },
      "source": [
        "sns.distplot(orders_clean['delivery_timing'],bins=20)"
      ],
      "execution_count": null,
      "outputs": [
        {
          "output_type": "stream",
          "name": "stderr",
          "text": [
            "/usr/local/lib/python3.7/dist-packages/seaborn/distributions.py:2619: FutureWarning: `distplot` is a deprecated function and will be removed in a future version. Please adapt your code to use either `displot` (a figure-level function with similar flexibility) or `histplot` (an axes-level function for histograms).\n",
            "  warnings.warn(msg, FutureWarning)\n"
          ]
        },
        {
          "output_type": "execute_result",
          "data": {
            "text/plain": [
              "<matplotlib.axes._subplots.AxesSubplot at 0x7f50331ab390>"
            ]
          },
          "metadata": {},
          "execution_count": 53
        },
        {
          "output_type": "display_data",
          "data": {
            "image/png": "[encoded data removed]",
            "text/plain": [
              "<Figure size 432x288 with 1 Axes>"
            ]
          },
          "metadata": {
            "needs_background": "light"
          }
        }
      ]
    },
    {
      "cell_type": "code",
      "metadata": {
        "colab": {
          "base_uri": "https://localhost:8080/",
          "height": 352
        },
        "id": "F49uLBehZOsD",
        "outputId": "5712ba53-663e-4e69-b031-830a60e5a45a"
      },
      "source": [
        "#check outliers\n",
        "sns.boxplot(orders_clean['delivery_timing'])"
      ],
      "execution_count": null,
      "outputs": [
        {
          "output_type": "stream",
          "name": "stderr",
          "text": [
            "/usr/local/lib/python3.7/dist-packages/seaborn/_decorators.py:43: FutureWarning: Pass the following variable as a keyword arg: x. From version 0.12, the only valid positional argument will be `data`, and passing other arguments without an explicit keyword will result in an error or misinterpretation.\n",
            "  FutureWarning\n"
          ]
        },
        {
          "output_type": "execute_result",
          "data": {
            "text/plain": [
              "<matplotlib.axes._subplots.AxesSubplot at 0x7f5032f58710>"
            ]
          },
          "metadata": {},
          "execution_count": 54
        },
        {
          "output_type": "display_data",
          "data": {
            "image/png": "[encoded data removed]",
            "text/plain": [
              "<Figure size 432x288 with 1 Axes>"
            ]
          },
          "metadata": {
            "needs_background": "light"
          }
        }
      ]
    },
    {
      "cell_type": "code",
      "metadata": {
        "colab": {
          "base_uri": "https://localhost:8080/",
          "height": 352
        },
        "id": "fFaa17-pZga5",
        "outputId": "28eae739-bb0e-490d-ba46-ef5dce5aef90"
      },
      "source": [
        "#remove outliers\n",
        "z = np.abs(stats.zscore(orders_clean['delivery_timing']))\n",
        "orders_clean_filtered = orders_clean[(z < 3)]\n",
        "orders_clean_outliers = orders_clean[(z > 3)]\n",
        "sns.boxplot(orders_clean_filtered['delivery_timing'])"
      ],
      "execution_count": null,
      "outputs": [
        {
          "output_type": "stream",
          "name": "stderr",
          "text": [
            "/usr/local/lib/python3.7/dist-packages/seaborn/_decorators.py:43: FutureWarning: Pass the following variable as a keyword arg: x. From version 0.12, the only valid positional argument will be `data`, and passing other arguments without an explicit keyword will result in an error or misinterpretation.\n",
            "  FutureWarning\n"
          ]
        },
        {
          "output_type": "execute_result",
          "data": {
            "text/plain": [
              "<matplotlib.axes._subplots.AxesSubplot at 0x7f5032cf6810>"
            ]
          },
          "metadata": {},
          "execution_count": 55
        },
        {
          "output_type": "display_data",
          "data": {
            "image/png": "[encoded data removed]",
            "text/plain": [
              "<Figure size 432x288 with 1 Axes>"
            ]
          },
          "metadata": {
            "needs_background": "light"
          }
        }
      ]
    },
    {
      "cell_type": "code",
      "metadata": {
        "colab": {
          "base_uri": "https://localhost:8080/"
        },
        "id": "uLES__7OjVXL",
        "outputId": "2c0d57c1-2f2e-4c75-bb28-abeed59eacbf"
      },
      "source": [
        "orders_clean_filtered['delivery_timing'].describe()"
      ],
      "execution_count": null,
      "outputs": [
        {
          "output_type": "execute_result",
          "data": {
            "text/plain": [
              "count    94595.000000\n",
              "mean        11.359903\n",
              "std          7.315954\n",
              "min          0.000000\n",
              "25%          6.000000\n",
              "50%         10.000000\n",
              "75%         15.000000\n",
              "max         40.000000\n",
              "Name: delivery_timing, dtype: float64"
            ]
          },
          "metadata": {},
          "execution_count": 56
        }
      ]
    },
    {
      "cell_type": "code",
      "metadata": {
        "colab": {
          "base_uri": "https://localhost:8080/"
        },
        "id": "EZJcp2W5ipZN",
        "outputId": "44a20a4f-e550-4766-d74c-98abd9b2bbad"
      },
      "source": [
        "orders_clean_outliers.shape[0] / orders_clean.shape[0] * 100"
      ],
      "execution_count": null,
      "outputs": [
        {
          "output_type": "execute_result",
          "data": {
            "text/plain": [
              "1.6561317420052397"
            ]
          },
          "metadata": {},
          "execution_count": 57
        }
      ]
    },
    {
      "cell_type": "markdown",
      "metadata": {
        "id": "W_4xvfTCa7oG"
      },
      "source": [
        "It seems decent to remove 2.5% of entries as outliers. We will proceed this way. "
      ]
    },
    {
      "cell_type": "code",
      "metadata": {
        "id": "3kcB2LEscMOg"
      },
      "source": [
        "orders_clean = orders_clean_filtered"
      ],
      "execution_count": null,
      "outputs": []
    },
    {
      "cell_type": "code",
      "metadata": {
        "colab": {
          "base_uri": "https://localhost:8080/",
          "height": 352
        },
        "id": "BKzONNhglHIt",
        "outputId": "b8f97c5c-522e-4ef5-af84-2329281feba4"
      },
      "source": [
        "#check for outliers again\n",
        "sns.boxplot(orders_clean['delivery_timing'])"
      ],
      "execution_count": null,
      "outputs": [
        {
          "output_type": "stream",
          "name": "stderr",
          "text": [
            "/usr/local/lib/python3.7/dist-packages/seaborn/_decorators.py:43: FutureWarning: Pass the following variable as a keyword arg: x. From version 0.12, the only valid positional argument will be `data`, and passing other arguments without an explicit keyword will result in an error or misinterpretation.\n",
            "  FutureWarning\n"
          ]
        },
        {
          "output_type": "execute_result",
          "data": {
            "text/plain": [
              "<matplotlib.axes._subplots.AxesSubplot at 0x7f50330275d0>"
            ]
          },
          "metadata": {},
          "execution_count": 59
        },
        {
          "output_type": "display_data",
          "data": {
            "image/png": "[encoded data removed]",
            "text/plain": [
              "<Figure size 432x288 with 1 Axes>"
            ]
          },
          "metadata": {
            "needs_background": "light"
          }
        }
      ]
    },
    {
      "cell_type": "markdown",
      "metadata": {
        "id": "L2yM27eXlPWe"
      },
      "source": [
        "Since there still seems to have some heavy outliers that could add noise to our data, we will remove them using the same rule as before (items > Z score > 3)"
      ]
    },
    {
      "cell_type": "code",
      "metadata": {
        "colab": {
          "base_uri": "https://localhost:8080/",
          "height": 352
        },
        "id": "R7uRtrWXiWmP",
        "outputId": "793985f6-6e4f-471b-fe45-432697bbd7b1"
      },
      "source": [
        "#remove outliers\n",
        "z = np.abs(stats.zscore(orders_clean['delivery_timing']))\n",
        "orders_clean_filtered = orders_clean[(z < 3)]\n",
        "orders_clean_outliers = orders_clean[(z > 3)]\n",
        "sns.boxplot(orders_clean_filtered['delivery_timing'])"
      ],
      "execution_count": null,
      "outputs": [
        {
          "output_type": "stream",
          "name": "stderr",
          "text": [
            "/usr/local/lib/python3.7/dist-packages/seaborn/_decorators.py:43: FutureWarning: Pass the following variable as a keyword arg: x. From version 0.12, the only valid positional argument will be `data`, and passing other arguments without an explicit keyword will result in an error or misinterpretation.\n",
            "  FutureWarning\n"
          ]
        },
        {
          "output_type": "execute_result",
          "data": {
            "text/plain": [
              "<matplotlib.axes._subplots.AxesSubplot at 0x7f5032f103d0>"
            ]
          },
          "metadata": {},
          "execution_count": 60
        },
        {
          "output_type": "display_data",
          "data": {
            "image/png": "[encoded data removed]",
            "text/plain": [
              "<Figure size 432x288 with 1 Axes>"
            ]
          },
          "metadata": {
            "needs_background": "light"
          }
        }
      ]
    },
    {
      "cell_type": "code",
      "metadata": {
        "colab": {
          "base_uri": "https://localhost:8080/"
        },
        "id": "g7Yqc33hify_",
        "outputId": "03eeeced-e5a4-4621-9585-a806d4231c90"
      },
      "source": [
        "orders_clean_outliers.shape[0] / orders_clean.shape[0] * 100"
      ],
      "execution_count": null,
      "outputs": [
        {
          "output_type": "execute_result",
          "data": {
            "text/plain": [
              "1.5539933400285426"
            ]
          },
          "metadata": {},
          "execution_count": 61
        }
      ]
    },
    {
      "cell_type": "markdown",
      "metadata": {
        "id": "cGo4Rz3olk1z"
      },
      "source": [
        "Number of outliers removed also seems consistent. We proceed this way. "
      ]
    },
    {
      "cell_type": "code",
      "metadata": {
        "id": "7VXI1OC-lu_P"
      },
      "source": [
        "orders_clean = orders_clean_filtered"
      ],
      "execution_count": null,
      "outputs": []
    },
    {
      "cell_type": "code",
      "metadata": {
        "colab": {
          "base_uri": "https://localhost:8080/"
        },
        "id": "ZoRVP7u6l4cH",
        "outputId": "7c0a897e-ee42-4d2a-d4d0-e1c5b1e361d3"
      },
      "source": [
        "orders_clean['delivery_timing'].describe()"
      ],
      "execution_count": null,
      "outputs": [
        {
          "output_type": "execute_result",
          "data": {
            "text/plain": [
              "count    93125.000000\n",
              "mean        10.963264\n",
              "std          6.647042\n",
              "min          0.000000\n",
              "25%          6.000000\n",
              "50%         10.000000\n",
              "75%         14.000000\n",
              "max         33.000000\n",
              "Name: delivery_timing, dtype: float64"
            ]
          },
          "metadata": {},
          "execution_count": 63
        }
      ]
    },
    {
      "cell_type": "markdown",
      "metadata": {
        "id": "Ly50d3vabFUf"
      },
      "source": [
        "##Customers"
      ]
    },
    {
      "cell_type": "code",
      "metadata": {
        "colab": {
          "base_uri": "https://localhost:8080/",
          "height": 424
        },
        "id": "Xp9ejE5uh4wJ",
        "outputId": "63a38a39-6d97-406c-89ad-2733ec6fb597"
      },
      "source": [
        "#customer by region / state / city\n",
        "\n",
        "customers_raw"
      ],
      "execution_count": null,
      "outputs": [
        {
          "output_type": "execute_result",
          "data": {
            "text/html": [
              "<div>\n",
              "<style scoped>\n",
              "    .dataframe tbody tr th:only-of-type {\n",
              "        vertical-align: middle;\n",
              "    }\n",
              "\n",
              "    .dataframe tbody tr th {\n",
              "        vertical-align: top;\n",
              "    }\n",
              "\n",
              "    .dataframe thead th {\n",
              "        text-align: right;\n",
              "    }\n",
              "</style>\n",
              "<table border=\"1\" class=\"dataframe\">\n",
              "  <thead>\n",
              "    <tr style=\"text-align: right;\">\n",
              "      <th></th>\n",
              "      <th>customer_id</th>\n",
              "      <th>customer_unique_id</th>\n",
              "      <th>customer_zip_code_prefix</th>\n",
              "      <th>customer_city</th>\n",
              "      <th>customer_state</th>\n",
              "    </tr>\n",
              "  </thead>\n",
              "  <tbody>\n",
              "    <tr>\n",
              "      <th>0</th>\n",
              "      <td>06b8999e2fba1a1fbc88172c00ba8bc7</td>\n",
              "      <td>861eff4711a542e4b93843c6dd7febb0</td>\n",
              "      <td>14409</td>\n",
              "      <td>franca</td>\n",
              "      <td>SP</td>\n",
              "    </tr>\n",
              "    <tr>\n",
              "      <th>1</th>\n",
              "      <td>18955e83d337fd6b2def6b18a428ac77</td>\n",
              "      <td>290c77bc529b7ac935b93aa66c333dc3</td>\n",
              "      <td>09790</td>\n",
              "      <td>sao bernardo do campo</td>\n",
              "      <td>SP</td>\n",
              "    </tr>\n",
              "    <tr>\n",
              "      <th>2</th>\n",
              "      <td>4e7b3e00288586ebd08712fdd0374a03</td>\n",
              "      <td>060e732b5b29e8181a18229c7b0b2b5e</td>\n",
              "      <td>01151</td>\n",
              "      <td>sao paulo</td>\n",
              "      <td>SP</td>\n",
              "    </tr>\n",
              "    <tr>\n",
              "      <th>3</th>\n",
              "      <td>b2b6027bc5c5109e529d4dc6358b12c3</td>\n",
              "      <td>259dac757896d24d7702b9acbbff3f3c</td>\n",
              "      <td>08775</td>\n",
              "      <td>mogi das cruzes</td>\n",
              "      <td>SP</td>\n",
              "    </tr>\n",
              "    <tr>\n",
              "      <th>4</th>\n",
              "      <td>4f2d8ab171c80ec8364f7c12e35b23ad</td>\n",
              "      <td>345ecd01c38d18a9036ed96c73b8d066</td>\n",
              "      <td>13056</td>\n",
              "      <td>campinas</td>\n",
              "      <td>SP</td>\n",
              "    </tr>\n",
              "    <tr>\n",
              "      <th>...</th>\n",
              "      <td>...</td>\n",
              "      <td>...</td>\n",
              "      <td>...</td>\n",
              "      <td>...</td>\n",
              "      <td>...</td>\n",
              "    </tr>\n",
              "    <tr>\n",
              "      <th>99436</th>\n",
              "      <td>17ddf5dd5d51696bb3d7c6291687be6f</td>\n",
              "      <td>1a29b476fee25c95fbafc67c5ac95cf8</td>\n",
              "      <td>03937</td>\n",
              "      <td>sao paulo</td>\n",
              "      <td>SP</td>\n",
              "    </tr>\n",
              "    <tr>\n",
              "      <th>99437</th>\n",
              "      <td>e7b71a9017aa05c9a7fd292d714858e8</td>\n",
              "      <td>d52a67c98be1cf6a5c84435bd38d095d</td>\n",
              "      <td>06764</td>\n",
              "      <td>taboao da serra</td>\n",
              "      <td>SP</td>\n",
              "    </tr>\n",
              "    <tr>\n",
              "      <th>99438</th>\n",
              "      <td>5e28dfe12db7fb50a4b2f691faecea5e</td>\n",
              "      <td>e9f50caf99f032f0bf3c55141f019d99</td>\n",
              "      <td>60115</td>\n",
              "      <td>fortaleza</td>\n",
              "      <td>CE</td>\n",
              "    </tr>\n",
              "    <tr>\n",
              "      <th>99439</th>\n",
              "      <td>56b18e2166679b8a959d72dd06da27f9</td>\n",
              "      <td>73c2643a0a458b49f58cea58833b192e</td>\n",
              "      <td>92120</td>\n",
              "      <td>canoas</td>\n",
              "      <td>RS</td>\n",
              "    </tr>\n",
              "    <tr>\n",
              "      <th>99440</th>\n",
              "      <td>274fa6071e5e17fe303b9748641082c8</td>\n",
              "      <td>84732c5050c01db9b23e19ba39899398</td>\n",
              "      <td>06703</td>\n",
              "      <td>cotia</td>\n",
              "      <td>SP</td>\n",
              "    </tr>\n",
              "  </tbody>\n",
              "</table>\n",
              "<p>99441 rows × 5 columns</p>\n",
              "</div>"
            ],
            "text/plain": [
              "                            customer_id  ... customer_state\n",
              "0      06b8999e2fba1a1fbc88172c00ba8bc7  ...             SP\n",
              "1      18955e83d337fd6b2def6b18a428ac77  ...             SP\n",
              "2      4e7b3e00288586ebd08712fdd0374a03  ...             SP\n",
              "3      b2b6027bc5c5109e529d4dc6358b12c3  ...             SP\n",
              "4      4f2d8ab171c80ec8364f7c12e35b23ad  ...             SP\n",
              "...                                 ...  ...            ...\n",
              "99436  17ddf5dd5d51696bb3d7c6291687be6f  ...             SP\n",
              "99437  e7b71a9017aa05c9a7fd292d714858e8  ...             SP\n",
              "99438  5e28dfe12db7fb50a4b2f691faecea5e  ...             CE\n",
              "99439  56b18e2166679b8a959d72dd06da27f9  ...             RS\n",
              "99440  274fa6071e5e17fe303b9748641082c8  ...             SP\n",
              "\n",
              "[99441 rows x 5 columns]"
            ]
          },
          "metadata": {},
          "execution_count": 64
        }
      ]
    },
    {
      "cell_type": "markdown",
      "metadata": {
        "id": "pFwsF9XDh4pY"
      },
      "source": [
        "##Products"
      ]
    },
    {
      "cell_type": "code",
      "metadata": {
        "colab": {
          "base_uri": "https://localhost:8080/",
          "height": 444
        },
        "id": "RKPr4Iy0h4ZT",
        "outputId": "e337512b-d6e7-4184-f85b-a0cc3e88da07"
      },
      "source": [
        "products_portuguese_raw"
      ],
      "execution_count": null,
      "outputs": [
        {
          "output_type": "execute_result",
          "data": {
            "text/html": [
              "<div>\n",
              "<style scoped>\n",
              "    .dataframe tbody tr th:only-of-type {\n",
              "        vertical-align: middle;\n",
              "    }\n",
              "\n",
              "    .dataframe tbody tr th {\n",
              "        vertical-align: top;\n",
              "    }\n",
              "\n",
              "    .dataframe thead th {\n",
              "        text-align: right;\n",
              "    }\n",
              "</style>\n",
              "<table border=\"1\" class=\"dataframe\">\n",
              "  <thead>\n",
              "    <tr style=\"text-align: right;\">\n",
              "      <th></th>\n",
              "      <th>product_id</th>\n",
              "      <th>product_category_name</th>\n",
              "      <th>product_name_lenght</th>\n",
              "      <th>product_description_lenght</th>\n",
              "      <th>product_photos_qty</th>\n",
              "      <th>product_weight_g</th>\n",
              "      <th>product_length_cm</th>\n",
              "      <th>product_height_cm</th>\n",
              "      <th>product_width_cm</th>\n",
              "    </tr>\n",
              "  </thead>\n",
              "  <tbody>\n",
              "    <tr>\n",
              "      <th>0</th>\n",
              "      <td>1e9e8ef04dbcff4541ed26657ea517e5</td>\n",
              "      <td>perfumaria</td>\n",
              "      <td>40.0</td>\n",
              "      <td>287.0</td>\n",
              "      <td>1.0</td>\n",
              "      <td>225.0</td>\n",
              "      <td>16.0</td>\n",
              "      <td>10.0</td>\n",
              "      <td>14.0</td>\n",
              "    </tr>\n",
              "    <tr>\n",
              "      <th>1</th>\n",
              "      <td>3aa071139cb16b67ca9e5dea641aaa2f</td>\n",
              "      <td>artes</td>\n",
              "      <td>44.0</td>\n",
              "      <td>276.0</td>\n",
              "      <td>1.0</td>\n",
              "      <td>1000.0</td>\n",
              "      <td>30.0</td>\n",
              "      <td>18.0</td>\n",
              "      <td>20.0</td>\n",
              "    </tr>\n",
              "    <tr>\n",
              "      <th>2</th>\n",
              "      <td>96bd76ec8810374ed1b65e291975717f</td>\n",
              "      <td>esporte_lazer</td>\n",
              "      <td>46.0</td>\n",
              "      <td>250.0</td>\n",
              "      <td>1.0</td>\n",
              "      <td>154.0</td>\n",
              "      <td>18.0</td>\n",
              "      <td>9.0</td>\n",
              "      <td>15.0</td>\n",
              "    </tr>\n",
              "    <tr>\n",
              "      <th>3</th>\n",
              "      <td>cef67bcfe19066a932b7673e239eb23d</td>\n",
              "      <td>bebes</td>\n",
              "      <td>27.0</td>\n",
              "      <td>261.0</td>\n",
              "      <td>1.0</td>\n",
              "      <td>371.0</td>\n",
              "      <td>26.0</td>\n",
              "      <td>4.0</td>\n",
              "      <td>26.0</td>\n",
              "    </tr>\n",
              "    <tr>\n",
              "      <th>4</th>\n",
              "      <td>9dc1a7de274444849c219cff195d0b71</td>\n",
              "      <td>utilidades_domesticas</td>\n",
              "      <td>37.0</td>\n",
              "      <td>402.0</td>\n",
              "      <td>4.0</td>\n",
              "      <td>625.0</td>\n",
              "      <td>20.0</td>\n",
              "      <td>17.0</td>\n",
              "      <td>13.0</td>\n",
              "    </tr>\n",
              "    <tr>\n",
              "      <th>...</th>\n",
              "      <td>...</td>\n",
              "      <td>...</td>\n",
              "      <td>...</td>\n",
              "      <td>...</td>\n",
              "      <td>...</td>\n",
              "      <td>...</td>\n",
              "      <td>...</td>\n",
              "      <td>...</td>\n",
              "      <td>...</td>\n",
              "    </tr>\n",
              "    <tr>\n",
              "      <th>32946</th>\n",
              "      <td>a0b7d5a992ccda646f2d34e418fff5a0</td>\n",
              "      <td>moveis_decoracao</td>\n",
              "      <td>45.0</td>\n",
              "      <td>67.0</td>\n",
              "      <td>2.0</td>\n",
              "      <td>12300.0</td>\n",
              "      <td>40.0</td>\n",
              "      <td>40.0</td>\n",
              "      <td>40.0</td>\n",
              "    </tr>\n",
              "    <tr>\n",
              "      <th>32947</th>\n",
              "      <td>bf4538d88321d0fd4412a93c974510e6</td>\n",
              "      <td>construcao_ferramentas_iluminacao</td>\n",
              "      <td>41.0</td>\n",
              "      <td>971.0</td>\n",
              "      <td>1.0</td>\n",
              "      <td>1700.0</td>\n",
              "      <td>16.0</td>\n",
              "      <td>19.0</td>\n",
              "      <td>16.0</td>\n",
              "    </tr>\n",
              "    <tr>\n",
              "      <th>32948</th>\n",
              "      <td>9a7c6041fa9592d9d9ef6cfe62a71f8c</td>\n",
              "      <td>cama_mesa_banho</td>\n",
              "      <td>50.0</td>\n",
              "      <td>799.0</td>\n",
              "      <td>1.0</td>\n",
              "      <td>1400.0</td>\n",
              "      <td>27.0</td>\n",
              "      <td>7.0</td>\n",
              "      <td>27.0</td>\n",
              "    </tr>\n",
              "    <tr>\n",
              "      <th>32949</th>\n",
              "      <td>83808703fc0706a22e264b9d75f04a2e</td>\n",
              "      <td>informatica_acessorios</td>\n",
              "      <td>60.0</td>\n",
              "      <td>156.0</td>\n",
              "      <td>2.0</td>\n",
              "      <td>700.0</td>\n",
              "      <td>31.0</td>\n",
              "      <td>13.0</td>\n",
              "      <td>20.0</td>\n",
              "    </tr>\n",
              "    <tr>\n",
              "      <th>32950</th>\n",
              "      <td>106392145fca363410d287a815be6de4</td>\n",
              "      <td>cama_mesa_banho</td>\n",
              "      <td>58.0</td>\n",
              "      <td>309.0</td>\n",
              "      <td>1.0</td>\n",
              "      <td>2083.0</td>\n",
              "      <td>12.0</td>\n",
              "      <td>2.0</td>\n",
              "      <td>7.0</td>\n",
              "    </tr>\n",
              "  </tbody>\n",
              "</table>\n",
              "<p>32951 rows × 9 columns</p>\n",
              "</div>"
            ],
            "text/plain": [
              "                             product_id  ... product_width_cm\n",
              "0      1e9e8ef04dbcff4541ed26657ea517e5  ...             14.0\n",
              "1      3aa071139cb16b67ca9e5dea641aaa2f  ...             20.0\n",
              "2      96bd76ec8810374ed1b65e291975717f  ...             15.0\n",
              "3      cef67bcfe19066a932b7673e239eb23d  ...             26.0\n",
              "4      9dc1a7de274444849c219cff195d0b71  ...             13.0\n",
              "...                                 ...  ...              ...\n",
              "32946  a0b7d5a992ccda646f2d34e418fff5a0  ...             40.0\n",
              "32947  bf4538d88321d0fd4412a93c974510e6  ...             16.0\n",
              "32948  9a7c6041fa9592d9d9ef6cfe62a71f8c  ...             27.0\n",
              "32949  83808703fc0706a22e264b9d75f04a2e  ...             20.0\n",
              "32950  106392145fca363410d287a815be6de4  ...              7.0\n",
              "\n",
              "[32951 rows x 9 columns]"
            ]
          },
          "metadata": {},
          "execution_count": 68
        }
      ]
    },
    {
      "cell_type": "markdown",
      "metadata": {
        "id": "lH67azNkBDtE"
      },
      "source": [
        "##Payments"
      ]
    },
    {
      "cell_type": "code",
      "metadata": {
        "id": "m4-utJazgMcy"
      },
      "source": [
        "#Delete baskets equals to zero\n",
        "#OK none"
      ],
      "execution_count": null,
      "outputs": []
    },
    {
      "cell_type": "markdown",
      "metadata": {
        "id": "opFXvd2w_bt0"
      },
      "source": [
        "##Reviews"
      ]
    },
    {
      "cell_type": "code",
      "metadata": {
        "colab": {
          "base_uri": "https://localhost:8080/",
          "height": 224
        },
        "id": "7cuNx5jq_duj",
        "outputId": "f551772c-2c2f-4e9e-b9ce-78e58363b5ae"
      },
      "source": [
        "reviews_raw.head()"
      ],
      "execution_count": null,
      "outputs": [
        {
          "output_type": "execute_result",
          "data": {
            "text/html": [
              "<div>\n",
              "<style scoped>\n",
              "    .dataframe tbody tr th:only-of-type {\n",
              "        vertical-align: middle;\n",
              "    }\n",
              "\n",
              "    .dataframe tbody tr th {\n",
              "        vertical-align: top;\n",
              "    }\n",
              "\n",
              "    .dataframe thead th {\n",
              "        text-align: right;\n",
              "    }\n",
              "</style>\n",
              "<table border=\"1\" class=\"dataframe\">\n",
              "  <thead>\n",
              "    <tr style=\"text-align: right;\">\n",
              "      <th></th>\n",
              "      <th>review_id</th>\n",
              "      <th>order_id</th>\n",
              "      <th>review_score</th>\n",
              "      <th>review_comment_title</th>\n",
              "      <th>review_comment_message</th>\n",
              "      <th>review_creation_date</th>\n",
              "      <th>review_answer_timestamp</th>\n",
              "    </tr>\n",
              "  </thead>\n",
              "  <tbody>\n",
              "    <tr>\n",
              "      <th>0</th>\n",
              "      <td>7bc2406110b926393aa56f80a40eba40</td>\n",
              "      <td>73fc7af87114b39712e6da79b0a377eb</td>\n",
              "      <td>4</td>\n",
              "      <td>NaN</td>\n",
              "      <td>NaN</td>\n",
              "      <td>2018-01-18</td>\n",
              "      <td>2018-01-18 21:46:59</td>\n",
              "    </tr>\n",
              "    <tr>\n",
              "      <th>1</th>\n",
              "      <td>80e641a11e56f04c1ad469d5645fdfde</td>\n",
              "      <td>a548910a1c6147796b98fdf73dbeba33</td>\n",
              "      <td>5</td>\n",
              "      <td>NaN</td>\n",
              "      <td>NaN</td>\n",
              "      <td>2018-03-10</td>\n",
              "      <td>2018-03-11 03:05:13</td>\n",
              "    </tr>\n",
              "    <tr>\n",
              "      <th>2</th>\n",
              "      <td>228ce5500dc1d8e020d8d1322874b6f0</td>\n",
              "      <td>f9e4b658b201a9f2ecdecbb34bed034b</td>\n",
              "      <td>5</td>\n",
              "      <td>NaN</td>\n",
              "      <td>NaN</td>\n",
              "      <td>2018-02-17</td>\n",
              "      <td>2018-02-18 14:36:24</td>\n",
              "    </tr>\n",
              "    <tr>\n",
              "      <th>3</th>\n",
              "      <td>e64fb393e7b32834bb789ff8bb30750e</td>\n",
              "      <td>658677c97b385a9be170737859d3511b</td>\n",
              "      <td>5</td>\n",
              "      <td>NaN</td>\n",
              "      <td>Recebi bem antes do prazo estipulado.</td>\n",
              "      <td>2017-04-21</td>\n",
              "      <td>2017-04-21 22:02:06</td>\n",
              "    </tr>\n",
              "    <tr>\n",
              "      <th>4</th>\n",
              "      <td>f7c4243c7fe1938f181bec41a392bdeb</td>\n",
              "      <td>8e6bfb81e283fa7e4f11123a3fb894f1</td>\n",
              "      <td>5</td>\n",
              "      <td>NaN</td>\n",
              "      <td>Parabéns lojas lannister adorei comprar pela I...</td>\n",
              "      <td>2018-03-01</td>\n",
              "      <td>2018-03-02 10:26:53</td>\n",
              "    </tr>\n",
              "  </tbody>\n",
              "</table>\n",
              "</div>"
            ],
            "text/plain": [
              "                          review_id  ... review_answer_timestamp\n",
              "0  7bc2406110b926393aa56f80a40eba40  ...     2018-01-18 21:46:59\n",
              "1  80e641a11e56f04c1ad469d5645fdfde  ...     2018-03-11 03:05:13\n",
              "2  228ce5500dc1d8e020d8d1322874b6f0  ...     2018-02-18 14:36:24\n",
              "3  e64fb393e7b32834bb789ff8bb30750e  ...     2017-04-21 22:02:06\n",
              "4  f7c4243c7fe1938f181bec41a392bdeb  ...     2018-03-02 10:26:53\n",
              "\n",
              "[5 rows x 7 columns]"
            ]
          },
          "metadata": {},
          "execution_count": 70
        }
      ]
    },
    {
      "cell_type": "markdown",
      "metadata": {
        "id": "r_3l_vlS2U6z"
      },
      "source": [
        "#Export"
      ]
    },
    {
      "cell_type": "code",
      "metadata": {
        "id": "_XLc-uD32cLN"
      },
      "source": [
        "path = \"/content/drive/MyDrive/Colab Notebooks/3_Projets OC/Projet 5/raw data/\"\n",
        "\n",
        "#Paths \n",
        "orders_exp = path + \"olist_orders_dataset_cleaned.csv\"\n",
        "\n",
        "#Export\n",
        "orders_clean.to_csv(orders_exp, index=False)\n"
      ],
      "execution_count": null,
      "outputs": []
    },
    {
      "cell_type": "code",
      "metadata": {
        "id": "GfLh3q7i6tB4",
        "colab": {
          "base_uri": "https://localhost:8080/",
          "height": 226
        },
        "outputId": "d67fd8bd-c897-4cab-9337-4f9d5d8e255e"
      },
      "source": [
        "orders_clean.head()"
      ],
      "execution_count": null,
      "outputs": [
        {
          "output_type": "execute_result",
          "data": {
            "text/html": [
              "<div>\n",
              "<style scoped>\n",
              "    .dataframe tbody tr th:only-of-type {\n",
              "        vertical-align: middle;\n",
              "    }\n",
              "\n",
              "    .dataframe tbody tr th {\n",
              "        vertical-align: top;\n",
              "    }\n",
              "\n",
              "    .dataframe thead th {\n",
              "        text-align: right;\n",
              "    }\n",
              "</style>\n",
              "<table border=\"1\" class=\"dataframe\">\n",
              "  <thead>\n",
              "    <tr style=\"text-align: right;\">\n",
              "      <th></th>\n",
              "      <th>order_id</th>\n",
              "      <th>customer_id</th>\n",
              "      <th>order_status</th>\n",
              "      <th>order_purchase_timestamp</th>\n",
              "      <th>order_approved_at</th>\n",
              "      <th>order_delivered_carrier_date</th>\n",
              "      <th>order_delivered_customer_date</th>\n",
              "      <th>order_estimated_delivery_date</th>\n",
              "      <th>order_purchase_year</th>\n",
              "      <th>order_purchase_month</th>\n",
              "      <th>order_purchase_month_name</th>\n",
              "      <th>order_purchase_year_month</th>\n",
              "      <th>order_purchase_date</th>\n",
              "      <th>order_purchase_day</th>\n",
              "      <th>order_purchase_day_of_week</th>\n",
              "      <th>order_purchase_day_of_week_name</th>\n",
              "      <th>order_purchase_hours</th>\n",
              "      <th>order_approved_date</th>\n",
              "      <th>order_delivery_carrier_date</th>\n",
              "      <th>order_delivery_customer_estimated</th>\n",
              "      <th>order_delivery_customer_date</th>\n",
              "      <th>placing_daylag</th>\n",
              "      <th>shipping_daylag</th>\n",
              "      <th>estimation_daylag</th>\n",
              "      <th>carrier_daylag</th>\n",
              "      <th>delivery_timing</th>\n",
              "    </tr>\n",
              "  </thead>\n",
              "  <tbody>\n",
              "    <tr>\n",
              "      <th>0</th>\n",
              "      <td>e481f51cbdc54678b7cc49136f2d6af7</td>\n",
              "      <td>9ef432eb6251297304e76186b10a928d</td>\n",
              "      <td>delivered</td>\n",
              "      <td>2017-10-02 10:56:33</td>\n",
              "      <td>2017-10-02 11:07:15</td>\n",
              "      <td>2017-10-04 19:55:00</td>\n",
              "      <td>2017-10-10 21:25:13</td>\n",
              "      <td>2017-10-18</td>\n",
              "      <td>2017</td>\n",
              "      <td>10</td>\n",
              "      <td>Oct</td>\n",
              "      <td>201710</td>\n",
              "      <td>20171002</td>\n",
              "      <td>2</td>\n",
              "      <td>0</td>\n",
              "      <td>Mon</td>\n",
              "      <td>Morning</td>\n",
              "      <td>20171002</td>\n",
              "      <td>20171004</td>\n",
              "      <td>20171018</td>\n",
              "      <td>20171010</td>\n",
              "      <td>0</td>\n",
              "      <td>2</td>\n",
              "      <td>-8</td>\n",
              "      <td>6</td>\n",
              "      <td>8</td>\n",
              "    </tr>\n",
              "    <tr>\n",
              "      <th>1</th>\n",
              "      <td>53cdb2fc8bc7dce0b6741e2150273451</td>\n",
              "      <td>b0830fb4747a6c6d20dea0b8c802d7ef</td>\n",
              "      <td>delivered</td>\n",
              "      <td>2018-07-24 20:41:37</td>\n",
              "      <td>2018-07-26 03:24:27</td>\n",
              "      <td>2018-07-26 14:31:00</td>\n",
              "      <td>2018-08-07 15:27:45</td>\n",
              "      <td>2018-08-13</td>\n",
              "      <td>2018</td>\n",
              "      <td>7</td>\n",
              "      <td>Jul</td>\n",
              "      <td>201807</td>\n",
              "      <td>20180724</td>\n",
              "      <td>24</td>\n",
              "      <td>1</td>\n",
              "      <td>Tue</td>\n",
              "      <td>Evening</td>\n",
              "      <td>20180726</td>\n",
              "      <td>20180726</td>\n",
              "      <td>20180813</td>\n",
              "      <td>20180807</td>\n",
              "      <td>2</td>\n",
              "      <td>0</td>\n",
              "      <td>-6</td>\n",
              "      <td>81</td>\n",
              "      <td>13</td>\n",
              "    </tr>\n",
              "    <tr>\n",
              "      <th>2</th>\n",
              "      <td>47770eb9100c2d0c44946d9cf07ec65d</td>\n",
              "      <td>41ce2a54c0b03bf3443c3d931a367089</td>\n",
              "      <td>delivered</td>\n",
              "      <td>2018-08-08 08:38:49</td>\n",
              "      <td>2018-08-08 08:55:23</td>\n",
              "      <td>2018-08-08 13:50:00</td>\n",
              "      <td>2018-08-17 18:06:29</td>\n",
              "      <td>2018-09-04</td>\n",
              "      <td>2018</td>\n",
              "      <td>8</td>\n",
              "      <td>Aug</td>\n",
              "      <td>201808</td>\n",
              "      <td>20180808</td>\n",
              "      <td>8</td>\n",
              "      <td>2</td>\n",
              "      <td>Wed</td>\n",
              "      <td>Morning</td>\n",
              "      <td>20180808</td>\n",
              "      <td>20180808</td>\n",
              "      <td>20180904</td>\n",
              "      <td>20180817</td>\n",
              "      <td>0</td>\n",
              "      <td>0</td>\n",
              "      <td>-87</td>\n",
              "      <td>9</td>\n",
              "      <td>9</td>\n",
              "    </tr>\n",
              "    <tr>\n",
              "      <th>3</th>\n",
              "      <td>949d5b44dbf5de918fe9c16f97b45f8a</td>\n",
              "      <td>f88197465ea7920adcdbec7375364d82</td>\n",
              "      <td>delivered</td>\n",
              "      <td>2017-11-18 19:28:06</td>\n",
              "      <td>2017-11-18 19:45:59</td>\n",
              "      <td>2017-11-22 13:39:59</td>\n",
              "      <td>2017-12-02 00:28:42</td>\n",
              "      <td>2017-12-15</td>\n",
              "      <td>2017</td>\n",
              "      <td>11</td>\n",
              "      <td>Nov</td>\n",
              "      <td>201711</td>\n",
              "      <td>20171118</td>\n",
              "      <td>18</td>\n",
              "      <td>5</td>\n",
              "      <td>Sat</td>\n",
              "      <td>Evening</td>\n",
              "      <td>20171118</td>\n",
              "      <td>20171122</td>\n",
              "      <td>20171215</td>\n",
              "      <td>20171202</td>\n",
              "      <td>0</td>\n",
              "      <td>4</td>\n",
              "      <td>-13</td>\n",
              "      <td>80</td>\n",
              "      <td>13</td>\n",
              "    </tr>\n",
              "    <tr>\n",
              "      <th>4</th>\n",
              "      <td>ad21c59c0840e6cb83a9ceb5573f8159</td>\n",
              "      <td>8ab97904e6daea8866dbdbc4fb7aad2c</td>\n",
              "      <td>delivered</td>\n",
              "      <td>2018-02-13 21:18:39</td>\n",
              "      <td>2018-02-13 22:20:29</td>\n",
              "      <td>2018-02-14 19:46:34</td>\n",
              "      <td>2018-02-16 18:17:02</td>\n",
              "      <td>2018-02-26</td>\n",
              "      <td>2018</td>\n",
              "      <td>2</td>\n",
              "      <td>Feb</td>\n",
              "      <td>201802</td>\n",
              "      <td>20180213</td>\n",
              "      <td>13</td>\n",
              "      <td>1</td>\n",
              "      <td>Tue</td>\n",
              "      <td>Evening</td>\n",
              "      <td>20180213</td>\n",
              "      <td>20180214</td>\n",
              "      <td>20180226</td>\n",
              "      <td>20180216</td>\n",
              "      <td>0</td>\n",
              "      <td>1</td>\n",
              "      <td>-10</td>\n",
              "      <td>2</td>\n",
              "      <td>2</td>\n",
              "    </tr>\n",
              "  </tbody>\n",
              "</table>\n",
              "</div>"
            ],
            "text/plain": [
              "                           order_id  ... delivery_timing\n",
              "0  e481f51cbdc54678b7cc49136f2d6af7  ...               8\n",
              "1  53cdb2fc8bc7dce0b6741e2150273451  ...              13\n",
              "2  47770eb9100c2d0c44946d9cf07ec65d  ...               9\n",
              "3  949d5b44dbf5de918fe9c16f97b45f8a  ...              13\n",
              "4  ad21c59c0840e6cb83a9ceb5573f8159  ...               2\n",
              "\n",
              "[5 rows x 26 columns]"
            ]
          },
          "metadata": {},
          "execution_count": 73
        }
      ]
    },
    {
      "cell_type": "code",
      "metadata": {
        "colab": {
          "base_uri": "https://localhost:8080/",
          "height": 206
        },
        "id": "5YjDdEXUzLm6",
        "outputId": "cb89a98c-01ce-4b1d-f0af-deb055d72059"
      },
      "source": [
        "order_items_raw.head()"
      ],
      "execution_count": null,
      "outputs": [
        {
          "output_type": "execute_result",
          "data": {
            "text/html": [
              "<div>\n",
              "<style scoped>\n",
              "    .dataframe tbody tr th:only-of-type {\n",
              "        vertical-align: middle;\n",
              "    }\n",
              "\n",
              "    .dataframe tbody tr th {\n",
              "        vertical-align: top;\n",
              "    }\n",
              "\n",
              "    .dataframe thead th {\n",
              "        text-align: right;\n",
              "    }\n",
              "</style>\n",
              "<table border=\"1\" class=\"dataframe\">\n",
              "  <thead>\n",
              "    <tr style=\"text-align: right;\">\n",
              "      <th></th>\n",
              "      <th>order_id</th>\n",
              "      <th>order_item_id</th>\n",
              "      <th>product_id</th>\n",
              "      <th>seller_id</th>\n",
              "      <th>shipping_limit_date</th>\n",
              "      <th>price</th>\n",
              "      <th>freight_value</th>\n",
              "    </tr>\n",
              "  </thead>\n",
              "  <tbody>\n",
              "    <tr>\n",
              "      <th>0</th>\n",
              "      <td>00010242fe8c5a6d1ba2dd792cb16214</td>\n",
              "      <td>1.0</td>\n",
              "      <td>4244733e06e7ecb4970a6e2683c13e61</td>\n",
              "      <td>48436dade18ac8b2bce089ec2a041202</td>\n",
              "      <td>2017-09-19 09:45:35</td>\n",
              "      <td>58.90</td>\n",
              "      <td>13.29</td>\n",
              "    </tr>\n",
              "    <tr>\n",
              "      <th>1</th>\n",
              "      <td>00018f77f2f0320c557190d7a144bdd3</td>\n",
              "      <td>1.0</td>\n",
              "      <td>e5f2d52b802189ee658865ca93d83a8f</td>\n",
              "      <td>dd7ddc04e1b6c2c614352b383efe2d36</td>\n",
              "      <td>2017-05-03 11:05:13</td>\n",
              "      <td>239.90</td>\n",
              "      <td>19.93</td>\n",
              "    </tr>\n",
              "    <tr>\n",
              "      <th>2</th>\n",
              "      <td>000229ec398224ef6ca0657da4fc703e</td>\n",
              "      <td>1.0</td>\n",
              "      <td>c777355d18b72b67abbeef9df44fd0fd</td>\n",
              "      <td>5b51032eddd242adc84c38acab88f23d</td>\n",
              "      <td>2018-01-18 14:48:30</td>\n",
              "      <td>199.00</td>\n",
              "      <td>17.87</td>\n",
              "    </tr>\n",
              "    <tr>\n",
              "      <th>3</th>\n",
              "      <td>00024acbcdf0a6daa1e931b038114c75</td>\n",
              "      <td>1.0</td>\n",
              "      <td>7634da152a4610f1595efa32f14722fc</td>\n",
              "      <td>9d7a1d34a5052409006425275ba1c2b4</td>\n",
              "      <td>2018-08-15 10:10:18</td>\n",
              "      <td>12.99</td>\n",
              "      <td>12.79</td>\n",
              "    </tr>\n",
              "    <tr>\n",
              "      <th>4</th>\n",
              "      <td>00042b26cf59d7ce69dfabb4e55b4fd9</td>\n",
              "      <td>1.0</td>\n",
              "      <td>ac6c3623068f30de03045865e4e10089</td>\n",
              "      <td>df560393f3a51e74553ab94004ba5c87</td>\n",
              "      <td>2017-02-13 13:57:51</td>\n",
              "      <td>199.90</td>\n",
              "      <td>18.14</td>\n",
              "    </tr>\n",
              "  </tbody>\n",
              "</table>\n",
              "</div>"
            ],
            "text/plain": [
              "                           order_id  order_item_id  ...   price freight_value\n",
              "0  00010242fe8c5a6d1ba2dd792cb16214            1.0  ...   58.90         13.29\n",
              "1  00018f77f2f0320c557190d7a144bdd3            1.0  ...  239.90         19.93\n",
              "2  000229ec398224ef6ca0657da4fc703e            1.0  ...  199.00         17.87\n",
              "3  00024acbcdf0a6daa1e931b038114c75            1.0  ...   12.99         12.79\n",
              "4  00042b26cf59d7ce69dfabb4e55b4fd9            1.0  ...  199.90         18.14\n",
              "\n",
              "[5 rows x 7 columns]"
            ]
          },
          "metadata": {},
          "execution_count": 74
        }
      ]
    }
  ]
}