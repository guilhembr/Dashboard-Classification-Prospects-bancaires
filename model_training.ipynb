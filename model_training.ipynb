{
 "cells": [
  {
   "cell_type": "code",
   "execution_count": 174,
   "metadata": {},
   "outputs": [],
   "source": [
    "# numpy and pandas for data manipulation\n",
    "import numpy as np\n",
    "import pandas as pd \n",
    "\n",
    "# sklearn preprocessing for dealing with categorical variables\n",
    "from sklearn.preprocessing import OneHotEncoder\n",
    "\n",
    "# File system manangement\n",
    "import os\n",
    "\n",
    "# matplotlib and seaborn for plotting\n",
    "import matplotlib.pyplot as plt\n",
    "import seaborn as sns\n",
    "\n",
    "# modeling\n",
    "from sklearn.model_selection import train_test_split\n",
    "from sklearn.pipeline import Pipeline\n",
    "from sklearn.pipeline import make_pipeline\n",
    "from sklearn.preprocessing import StandardScaler\n",
    "from sklearn.impute import SimpleImputer\n",
    "\n",
    "from sklearn_pandas import DataFrameMapper\n",
    "\n",
    "from sklearn.model_selection import *\n",
    "import sklearn.metrics\n",
    "from sklearn.metrics import confusion_matrix, ConfusionMatrixDisplay\n",
    "from sklearn.metrics import roc_curve\n",
    "from sklearn.metrics import RocCurveDisplay\n",
    "\n",
    "from sklearn.dummy import DummyClassifier\n",
    "from sklearn.linear_model import LogisticRegression\n",
    "from sklearn.tree import DecisionTreeClassifier\n",
    "from sklearn.ensemble import RandomForestClassifier\n",
    "\n",
    "from sklearn.feature_selection import RFECV\n",
    "from sklearn.metrics import fbeta_score, make_scorer\n",
    "\n",
    "#explainability\n",
    "import shap\n",
    "\n",
    "#serialization\n",
    "import joblib"
   ]
  },
  {
   "cell_type": "code",
   "execution_count": 175,
   "metadata": {},
   "outputs": [],
   "source": [
    "#read the data \n",
    "app_train = pd.read_csv(\"../raw_data/application_train.csv\").astype(\"object\")\n"
   ]
  },
  {
   "cell_type": "markdown",
   "metadata": {},
   "source": [
    "# Features Types"
   ]
  },
  {
   "cell_type": "markdown",
   "metadata": {},
   "source": [
    "We need to convert variables that are not correctly cast as of float in the raw data : "
   ]
  },
  {
   "cell_type": "code",
   "execution_count": 176,
   "metadata": {},
   "outputs": [],
   "source": [
    "def convert_dtypes_func(df):\n",
    "    #List the columns to be converted to float\n",
    "    list_columns_to_convert_to_float = (\"CNT_CHILDREN\" \n",
    "                                ,\"AMT_INCOME_TOTAL\" \n",
    "                                ,\"AMT_CREDIT\" \n",
    "                                ,\"AMT_ANNUITY\" \n",
    "                                ,\"AMT_GOODS_PRICE\" \n",
    "                                ,\"DAYS_BIRTH\"\n",
    "                                ,\"DAYS_EMPLOYED\" \n",
    "                                ,\"DAYS_REGISTRATION\" \n",
    "                                ,\"DAYS_ID_PUBLISH\"\n",
    "                                ,\"OWN_CAR_AGE\"\n",
    "                                ,\"EXT_SOURCE_1               \"\n",
    "                                ,\"EXT_SOURCE_2               \"\n",
    "                                ,\"EXT_SOURCE_3               \"\n",
    "                                ,\"APARTMENTS_AVG             \"\n",
    "                                ,\"BASEMENTAREA_AVG           \"\n",
    "                                ,\"YEARS_BEGINEXPLUATATION_AVG\"\n",
    "                                ,\"YEARS_BUILD_AVG            \"\n",
    "                                ,\"COMMONAREA_AVG             \"\n",
    "                                ,\"ELEVATORS_AVG              \"\n",
    "                                ,\"ENTRANCES_AVG              \"\n",
    "                                ,\"FLOORSMAX_AVG              \"\n",
    "                                ,\"FLOORSMIN_AVG              \"\n",
    "                                ,\"LANDAREA_AVG               \"\n",
    "                                ,\"LIVINGAPARTMENTS_AVG       \"\n",
    "                                ,\"LIVINGAREA_AVG             \"\n",
    "                                ,\"NONLIVINGAPARTMENTS_AVG    \"\n",
    "                                ,\"NONLIVINGAREA_AVG          \"\n",
    "                                ,\"APARTMENTS_MODE            \"\n",
    "                                ,\"BASEMENTAREA_MODE          \"\n",
    "                                ,\"YEARS_BEGINEXPLUATATION_MODE\"\n",
    "                                ,\"YEARS_BUILD_MODE           \"\n",
    "                                ,\"COMMONAREA_MODE            \"\n",
    "                                ,\"ELEVATORS_MODE             \"\n",
    "                                ,\"ENTRANCES_MODE             \"\n",
    "                                ,\"FLOORSMAX_MODE             \"\n",
    "                                ,\"FLOORSMIN_MODE             \"\n",
    "                                ,\"LANDAREA_MODE              \"\n",
    "                                ,\"LIVINGAPARTMENTS_MODE      \"\n",
    "                                ,\"LIVINGAREA_MODE            \"\n",
    "                                ,\"NONLIVINGAPARTMENTS_MODE   \"\n",
    "                                ,\"NONLIVINGAREA_MODE         \"\n",
    "                                ,\"APARTMENTS_MEDI            \"\n",
    "                                ,\"BASEMENTAREA_MEDI          \"\n",
    "                                ,\"YEARS_BEGINEXPLUATATION_MEDI\"\n",
    "                                ,\"YEARS_BUILD_MEDI           \"\n",
    "                                ,\"COMMONAREA_MEDI            \"\n",
    "                                ,\"ELEVATORS_MEDI             \"\n",
    "                                ,\"ENTRANCES_MEDI             \"\n",
    "                                ,\"FLOORSMAX_MEDI             \"\n",
    "                                ,\"FLOORSMIN_MEDI             \"\n",
    "                                ,\"LANDAREA_MEDI              \"\n",
    "                                ,\"LIVINGAPARTMENTS_MEDI      \"\n",
    "                                ,\"LIVINGAREA_MEDI            \"\n",
    "                                ,\"NONLIVINGAPARTMENTS_MEDI   \"\n",
    "                                ,\"NONLIVINGAREA_MEDI         \"\n",
    "                                ,\"TOTALAREA_MODE             \"\n",
    "                                ,\"OBS_30_CNT_SOCIAL_CIRCLE   \"\n",
    "                                ,\"DEF_30_CNT_SOCIAL_CIRCLE   \"\n",
    "                                ,\"OBS_60_CNT_SOCIAL_CIRCLE   \"\n",
    "                                ,\"DEF_60_CNT_SOCIAL_CIRCLE   \"\n",
    "                                ,\"DAYS_LAST_PHONE_CHANGE     \"\n",
    "                                ,\"AMT_REQ_CREDIT_BUREAU_HOUR\"\n",
    "                                ,\"AMT_REQ_CREDIT_BUREAU_DAY \"\n",
    "                                ,\"AMT_REQ_CREDIT_BUREAU_WEEK\"\n",
    "                                ,\"AMT_REQ_CREDIT_BUREAU_MON \"\n",
    "                                ,\"AMT_REQ_CREDIT_BUREAU_QRT \"\n",
    "                                ,\"AMT_REQ_CREDIT_BUREAU_YEAR\")       \n",
    "\n",
    "    #remove spaces in the list created\n",
    "    list_columns_to_convert_to_float = [s.strip() for s in list_columns_to_convert_to_float]       \n",
    "    \n",
    "    convert_count = 0\n",
    "\n",
    "    #convert object columns to float\n",
    "    for col in list_columns_to_convert_to_float:\n",
    "        df[col] = df[col].astype(float)\n",
    "        \n",
    "        # Keep track of how many columns were label encoded\n",
    "        convert_count += 1\n",
    "\n",
    "    print('%d object columns were converted to int.' % convert_count)\n",
    "    \n",
    "    return df"
   ]
  },
  {
   "cell_type": "code",
   "execution_count": 177,
   "metadata": {},
   "outputs": [
    {
     "name": "stdout",
     "output_type": "stream",
     "text": [
      "67 object columns were converted to int.\n"
     ]
    }
   ],
   "source": [
    "app_train = convert_dtypes_func(app_train)"
   ]
  },
  {
   "cell_type": "markdown",
   "metadata": {},
   "source": [
    "# Feature Engineering"
   ]
  },
  {
   "cell_type": "code",
   "execution_count": 181,
   "metadata": {},
   "outputs": [],
   "source": [
    "def feature_eng(df):\n",
    "\n",
    "    # Create an anomalous flag column\n",
    "    df['DAYS_EMPLOYED_ANOM'] = df[\"DAYS_EMPLOYED\"] == 365243\n",
    "\n",
    "    # Replace the anomalous values with nan\n",
    "    df['DAYS_EMPLOYED'].replace({365243: np.nan}, inplace = True)\n",
    "\n",
    "    #correct sign of Days Birth\n",
    "    df[\"DAYS_BIRTH\"] = abs(df[\"DAYS_BIRTH\"])\n",
    "    df['AGE_INT'] = round((df['DAYS_BIRTH'] / 365).astype(float),2)\n",
    "\n",
    "    #footing financial ratios\n",
    "    df['annuity_income_ratio'] = round((df['AMT_INCOME_TOTAL'] / df['AMT_ANNUITY']).astype(float),2)\n",
    "    df['credit_annuity_ratio'] = round((df['AMT_CREDIT'] / df['AMT_ANNUITY']).astype(float),2)\n",
    "    df['credit_goods_price_ratio'] = round((df['AMT_CREDIT'] / df['AMT_GOODS_PRICE']).astype(float),2)\n",
    "    df['credit_downpayment'] = round((df['AMT_GOODS_PRICE'] - df['AMT_CREDIT']).astype(float),2)\n",
    " \n",
    "    print('Feature engineering success')\n",
    "   \n",
    "    return df"
   ]
  },
  {
   "cell_type": "code",
   "execution_count": 182,
   "metadata": {},
   "outputs": [
    {
     "name": "stdout",
     "output_type": "stream",
     "text": [
      "Feature engineering success\n"
     ]
    }
   ],
   "source": [
    "app_train = feature_eng(app_train)"
   ]
  },
  {
   "cell_type": "markdown",
   "metadata": {},
   "source": [
    "# Feature Selection"
   ]
  },
  {
   "cell_type": "code",
   "execution_count": null,
   "metadata": {},
   "outputs": [],
   "source": [
    "def df_feature_selection(df):\n",
    "    columns_list = df.columns.to_list()\n",
    "\n",
    "    columns_to_drop_intersec = (['DAYS_BIRTH',\n",
    "    'REGION_RATING_CLIENT_W_CITY',\n",
    "    'BASEMENTAREA_MODE',\n",
    "    'YEARS_BUILD_MODE',\n",
    "    'COMMONAREA_MODE',\n",
    "    'ELEVATORS_MODE',\n",
    "    'ENTRANCES_MODE',\n",
    "    'FLOORSMAX_MODE',\n",
    "    'LANDAREA_MODE',\n",
    "    'LIVINGAPARTMENTS_MODE',\n",
    "    'NONLIVINGAPARTMENTS_MODE',\n",
    "    'NONLIVINGAREA_MODE',\n",
    "    'APARTMENTS_MEDI',\n",
    "    'BASEMENTAREA_MEDI',\n",
    "    'YEARS_BEGINEXPLUATATION_MEDI',\n",
    "    'YEARS_BUILD_MEDI',\n",
    "    'COMMONAREA_MEDI',\n",
    "    'ELEVATORS_MEDI',\n",
    "    'ENTRANCES_MEDI',\n",
    "    'FLOORSMAX_MEDI',\n",
    "    'FLOORSMIN_MEDI',\n",
    "    'LIVINGAPARTMENTS_MEDI',\n",
    "    'LIVINGAREA_MEDI',\n",
    "    'NONLIVINGAPARTMENTS_MEDI',\n",
    "    'NONLIVINGAREA_MEDI',\n",
    "    'OBS_60_CNT_SOCIAL_CIRCLE'])\n",
    "\n",
    "    #Drop columns\n",
    "    df_selec_col = pd.DataFrame(data=df, columns=columns_list).drop(columns_to_drop_intersec, axis=1)\n",
    "    \n",
    "    print('Feature selection success')\n",
    "\n",
    "    return df_selec_col"
   ]
  },
  {
   "cell_type": "code",
   "execution_count": null,
   "metadata": {},
   "outputs": [
    {
     "name": "stdout",
     "output_type": "stream",
     "text": [
      "Feature selection success\n"
     ]
    }
   ],
   "source": [
    "app_train = df_feature_selection(app_train)"
   ]
  },
  {
   "cell_type": "markdown",
   "metadata": {},
   "source": [
    "# Imputation"
   ]
  },
  {
   "cell_type": "code",
   "execution_count": 186,
   "metadata": {},
   "outputs": [],
   "source": [
    "#keep id into a separate serie\n",
    "user_id = app_train[['SK_ID_CURR']]\n",
    "\n",
    "#create list of features by type\n",
    "cat_features = app_train.select_dtypes(include=['object']).drop(['SK_ID_CURR','TARGET'], axis=1)\n",
    "num_features = app_train.select_dtypes(exclude=['object'])\n",
    "\n",
    "#Mean Imputation of missing values\n",
    "imp_mean = SimpleImputer()\n",
    "num_array = num_features.to_numpy()\n",
    "num_array = imp_mean.fit_transform(num_array)"
   ]
  },
  {
   "cell_type": "markdown",
   "metadata": {},
   "source": [
    "# Encoding - Standardization - Imputation"
   ]
  },
  {
   "cell_type": "code",
   "execution_count": 105,
   "metadata": {},
   "outputs": [
    {
     "ename": "ValueError",
     "evalue": "Input contains infinity or a value too large for dtype('float64').",
     "output_type": "error",
     "traceback": [
      "\u001b[0;31m---------------------------------------------------------------------------\u001b[0m",
      "\u001b[0;31mValueError\u001b[0m                                Traceback (most recent call last)",
      "\u001b[1;32m/Users/guilhemberthou/dev/P7_Scoring/model_training.ipynb Cell 14'\u001b[0m in \u001b[0;36m<cell line: 16>\u001b[0;34m()\u001b[0m\n\u001b[1;32m     <a href='vscode-notebook-cell:/Users/guilhemberthou/dev/P7_Scoring/model_training.ipynb#ch0000013?line=13'>14</a>\u001b[0m imp_mean \u001b[39m=\u001b[39m SimpleImputer()\n\u001b[1;32m     <a href='vscode-notebook-cell:/Users/guilhemberthou/dev/P7_Scoring/model_training.ipynb#ch0000013?line=14'>15</a>\u001b[0m num_array \u001b[39m=\u001b[39m num_features\u001b[39m.\u001b[39mto_numpy()\n\u001b[0;32m---> <a href='vscode-notebook-cell:/Users/guilhemberthou/dev/P7_Scoring/model_training.ipynb#ch0000013?line=15'>16</a>\u001b[0m num_array \u001b[39m=\u001b[39m imp_mean\u001b[39m.\u001b[39;49mfit_transform(num_array)\n\u001b[1;32m     <a href='vscode-notebook-cell:/Users/guilhemberthou/dev/P7_Scoring/model_training.ipynb#ch0000013?line=17'>18</a>\u001b[0m \u001b[39m#Standard Scaling numerical variables\u001b[39;00m\n\u001b[1;32m     <a href='vscode-notebook-cell:/Users/guilhemberthou/dev/P7_Scoring/model_training.ipynb#ch0000013?line=18'>19</a>\u001b[0m scaler \u001b[39m=\u001b[39m StandardScaler()\n",
      "File \u001b[0;32m~/dev/P7_Scoring/myenv3/lib/python3.8/site-packages/sklearn/base.py:852\u001b[0m, in \u001b[0;36mTransformerMixin.fit_transform\u001b[0;34m(self, X, y, **fit_params)\u001b[0m\n\u001b[1;32m    <a href='file:///Users/guilhemberthou/dev/P7_Scoring/myenv3/lib/python3.8/site-packages/sklearn/base.py?line=847'>848</a>\u001b[0m \u001b[39m# non-optimized default implementation; override when a better\u001b[39;00m\n\u001b[1;32m    <a href='file:///Users/guilhemberthou/dev/P7_Scoring/myenv3/lib/python3.8/site-packages/sklearn/base.py?line=848'>849</a>\u001b[0m \u001b[39m# method is possible for a given clustering algorithm\u001b[39;00m\n\u001b[1;32m    <a href='file:///Users/guilhemberthou/dev/P7_Scoring/myenv3/lib/python3.8/site-packages/sklearn/base.py?line=849'>850</a>\u001b[0m \u001b[39mif\u001b[39;00m y \u001b[39mis\u001b[39;00m \u001b[39mNone\u001b[39;00m:\n\u001b[1;32m    <a href='file:///Users/guilhemberthou/dev/P7_Scoring/myenv3/lib/python3.8/site-packages/sklearn/base.py?line=850'>851</a>\u001b[0m     \u001b[39m# fit method of arity 1 (unsupervised transformation)\u001b[39;00m\n\u001b[0;32m--> <a href='file:///Users/guilhemberthou/dev/P7_Scoring/myenv3/lib/python3.8/site-packages/sklearn/base.py?line=851'>852</a>\u001b[0m     \u001b[39mreturn\u001b[39;00m \u001b[39mself\u001b[39;49m\u001b[39m.\u001b[39;49mfit(X, \u001b[39m*\u001b[39;49m\u001b[39m*\u001b[39;49mfit_params)\u001b[39m.\u001b[39mtransform(X)\n\u001b[1;32m    <a href='file:///Users/guilhemberthou/dev/P7_Scoring/myenv3/lib/python3.8/site-packages/sklearn/base.py?line=852'>853</a>\u001b[0m \u001b[39melse\u001b[39;00m:\n\u001b[1;32m    <a href='file:///Users/guilhemberthou/dev/P7_Scoring/myenv3/lib/python3.8/site-packages/sklearn/base.py?line=853'>854</a>\u001b[0m     \u001b[39m# fit method of arity 2 (supervised transformation)\u001b[39;00m\n\u001b[1;32m    <a href='file:///Users/guilhemberthou/dev/P7_Scoring/myenv3/lib/python3.8/site-packages/sklearn/base.py?line=854'>855</a>\u001b[0m     \u001b[39mreturn\u001b[39;00m \u001b[39mself\u001b[39m\u001b[39m.\u001b[39mfit(X, y, \u001b[39m*\u001b[39m\u001b[39m*\u001b[39mfit_params)\u001b[39m.\u001b[39mtransform(X)\n",
      "File \u001b[0;32m~/dev/P7_Scoring/myenv3/lib/python3.8/site-packages/sklearn/impute/_base.py:319\u001b[0m, in \u001b[0;36mSimpleImputer.fit\u001b[0;34m(self, X, y)\u001b[0m\n\u001b[1;32m    <a href='file:///Users/guilhemberthou/dev/P7_Scoring/myenv3/lib/python3.8/site-packages/sklearn/impute/_base.py?line=301'>302</a>\u001b[0m \u001b[39mdef\u001b[39;00m \u001b[39mfit\u001b[39m(\u001b[39mself\u001b[39m, X, y\u001b[39m=\u001b[39m\u001b[39mNone\u001b[39;00m):\n\u001b[1;32m    <a href='file:///Users/guilhemberthou/dev/P7_Scoring/myenv3/lib/python3.8/site-packages/sklearn/impute/_base.py?line=302'>303</a>\u001b[0m     \u001b[39m\"\"\"Fit the imputer on `X`.\u001b[39;00m\n\u001b[1;32m    <a href='file:///Users/guilhemberthou/dev/P7_Scoring/myenv3/lib/python3.8/site-packages/sklearn/impute/_base.py?line=303'>304</a>\u001b[0m \n\u001b[1;32m    <a href='file:///Users/guilhemberthou/dev/P7_Scoring/myenv3/lib/python3.8/site-packages/sklearn/impute/_base.py?line=304'>305</a>\u001b[0m \u001b[39m    Parameters\u001b[39;00m\n\u001b[0;32m   (...)\u001b[0m\n\u001b[1;32m    <a href='file:///Users/guilhemberthou/dev/P7_Scoring/myenv3/lib/python3.8/site-packages/sklearn/impute/_base.py?line=316'>317</a>\u001b[0m \u001b[39m        Fitted estimator.\u001b[39;00m\n\u001b[1;32m    <a href='file:///Users/guilhemberthou/dev/P7_Scoring/myenv3/lib/python3.8/site-packages/sklearn/impute/_base.py?line=317'>318</a>\u001b[0m \u001b[39m    \"\"\"\u001b[39;00m\n\u001b[0;32m--> <a href='file:///Users/guilhemberthou/dev/P7_Scoring/myenv3/lib/python3.8/site-packages/sklearn/impute/_base.py?line=318'>319</a>\u001b[0m     X \u001b[39m=\u001b[39m \u001b[39mself\u001b[39;49m\u001b[39m.\u001b[39;49m_validate_input(X, in_fit\u001b[39m=\u001b[39;49m\u001b[39mTrue\u001b[39;49;00m)\n\u001b[1;32m    <a href='file:///Users/guilhemberthou/dev/P7_Scoring/myenv3/lib/python3.8/site-packages/sklearn/impute/_base.py?line=320'>321</a>\u001b[0m     \u001b[39m# default fill_value is 0 for numerical input and \"missing_value\"\u001b[39;00m\n\u001b[1;32m    <a href='file:///Users/guilhemberthou/dev/P7_Scoring/myenv3/lib/python3.8/site-packages/sklearn/impute/_base.py?line=321'>322</a>\u001b[0m     \u001b[39m# otherwise\u001b[39;00m\n\u001b[1;32m    <a href='file:///Users/guilhemberthou/dev/P7_Scoring/myenv3/lib/python3.8/site-packages/sklearn/impute/_base.py?line=322'>323</a>\u001b[0m     \u001b[39mif\u001b[39;00m \u001b[39mself\u001b[39m\u001b[39m.\u001b[39mfill_value \u001b[39mis\u001b[39;00m \u001b[39mNone\u001b[39;00m:\n",
      "File \u001b[0;32m~/dev/P7_Scoring/myenv3/lib/python3.8/site-packages/sklearn/impute/_base.py:287\u001b[0m, in \u001b[0;36mSimpleImputer._validate_input\u001b[0;34m(self, X, in_fit)\u001b[0m\n\u001b[1;32m    <a href='file:///Users/guilhemberthou/dev/P7_Scoring/myenv3/lib/python3.8/site-packages/sklearn/impute/_base.py?line=284'>285</a>\u001b[0m         \u001b[39mraise\u001b[39;00m new_ve \u001b[39mfrom\u001b[39;00m \u001b[39mNone\u001b[39m\n\u001b[1;32m    <a href='file:///Users/guilhemberthou/dev/P7_Scoring/myenv3/lib/python3.8/site-packages/sklearn/impute/_base.py?line=285'>286</a>\u001b[0m     \u001b[39melse\u001b[39;00m:\n\u001b[0;32m--> <a href='file:///Users/guilhemberthou/dev/P7_Scoring/myenv3/lib/python3.8/site-packages/sklearn/impute/_base.py?line=286'>287</a>\u001b[0m         \u001b[39mraise\u001b[39;00m ve\n\u001b[1;32m    <a href='file:///Users/guilhemberthou/dev/P7_Scoring/myenv3/lib/python3.8/site-packages/sklearn/impute/_base.py?line=288'>289</a>\u001b[0m _check_inputs_dtype(X, \u001b[39mself\u001b[39m\u001b[39m.\u001b[39mmissing_values)\n\u001b[1;32m    <a href='file:///Users/guilhemberthou/dev/P7_Scoring/myenv3/lib/python3.8/site-packages/sklearn/impute/_base.py?line=289'>290</a>\u001b[0m \u001b[39mif\u001b[39;00m X\u001b[39m.\u001b[39mdtype\u001b[39m.\u001b[39mkind \u001b[39mnot\u001b[39;00m \u001b[39min\u001b[39;00m (\u001b[39m\"\u001b[39m\u001b[39mi\u001b[39m\u001b[39m\"\u001b[39m, \u001b[39m\"\u001b[39m\u001b[39mu\u001b[39m\u001b[39m\"\u001b[39m, \u001b[39m\"\u001b[39m\u001b[39mf\u001b[39m\u001b[39m\"\u001b[39m, \u001b[39m\"\u001b[39m\u001b[39mO\u001b[39m\u001b[39m\"\u001b[39m):\n",
      "File \u001b[0;32m~/dev/P7_Scoring/myenv3/lib/python3.8/site-packages/sklearn/impute/_base.py:270\u001b[0m, in \u001b[0;36mSimpleImputer._validate_input\u001b[0;34m(self, X, in_fit)\u001b[0m\n\u001b[1;32m    <a href='file:///Users/guilhemberthou/dev/P7_Scoring/myenv3/lib/python3.8/site-packages/sklearn/impute/_base.py?line=266'>267</a>\u001b[0m     force_all_finite \u001b[39m=\u001b[39m \u001b[39m\"\u001b[39m\u001b[39mallow-nan\u001b[39m\u001b[39m\"\u001b[39m\n\u001b[1;32m    <a href='file:///Users/guilhemberthou/dev/P7_Scoring/myenv3/lib/python3.8/site-packages/sklearn/impute/_base.py?line=268'>269</a>\u001b[0m \u001b[39mtry\u001b[39;00m:\n\u001b[0;32m--> <a href='file:///Users/guilhemberthou/dev/P7_Scoring/myenv3/lib/python3.8/site-packages/sklearn/impute/_base.py?line=269'>270</a>\u001b[0m     X \u001b[39m=\u001b[39m \u001b[39mself\u001b[39;49m\u001b[39m.\u001b[39;49m_validate_data(\n\u001b[1;32m    <a href='file:///Users/guilhemberthou/dev/P7_Scoring/myenv3/lib/python3.8/site-packages/sklearn/impute/_base.py?line=270'>271</a>\u001b[0m         X,\n\u001b[1;32m    <a href='file:///Users/guilhemberthou/dev/P7_Scoring/myenv3/lib/python3.8/site-packages/sklearn/impute/_base.py?line=271'>272</a>\u001b[0m         reset\u001b[39m=\u001b[39;49min_fit,\n\u001b[1;32m    <a href='file:///Users/guilhemberthou/dev/P7_Scoring/myenv3/lib/python3.8/site-packages/sklearn/impute/_base.py?line=272'>273</a>\u001b[0m         accept_sparse\u001b[39m=\u001b[39;49m\u001b[39m\"\u001b[39;49m\u001b[39mcsc\u001b[39;49m\u001b[39m\"\u001b[39;49m,\n\u001b[1;32m    <a href='file:///Users/guilhemberthou/dev/P7_Scoring/myenv3/lib/python3.8/site-packages/sklearn/impute/_base.py?line=273'>274</a>\u001b[0m         dtype\u001b[39m=\u001b[39;49mdtype,\n\u001b[1;32m    <a href='file:///Users/guilhemberthou/dev/P7_Scoring/myenv3/lib/python3.8/site-packages/sklearn/impute/_base.py?line=274'>275</a>\u001b[0m         force_all_finite\u001b[39m=\u001b[39;49mforce_all_finite,\n\u001b[1;32m    <a href='file:///Users/guilhemberthou/dev/P7_Scoring/myenv3/lib/python3.8/site-packages/sklearn/impute/_base.py?line=275'>276</a>\u001b[0m         copy\u001b[39m=\u001b[39;49m\u001b[39mself\u001b[39;49m\u001b[39m.\u001b[39;49mcopy,\n\u001b[1;32m    <a href='file:///Users/guilhemberthou/dev/P7_Scoring/myenv3/lib/python3.8/site-packages/sklearn/impute/_base.py?line=276'>277</a>\u001b[0m     )\n\u001b[1;32m    <a href='file:///Users/guilhemberthou/dev/P7_Scoring/myenv3/lib/python3.8/site-packages/sklearn/impute/_base.py?line=277'>278</a>\u001b[0m \u001b[39mexcept\u001b[39;00m \u001b[39mValueError\u001b[39;00m \u001b[39mas\u001b[39;00m ve:\n\u001b[1;32m    <a href='file:///Users/guilhemberthou/dev/P7_Scoring/myenv3/lib/python3.8/site-packages/sklearn/impute/_base.py?line=278'>279</a>\u001b[0m     \u001b[39mif\u001b[39;00m \u001b[39m\"\u001b[39m\u001b[39mcould not convert\u001b[39m\u001b[39m\"\u001b[39m \u001b[39min\u001b[39;00m \u001b[39mstr\u001b[39m(ve):\n",
      "File \u001b[0;32m~/dev/P7_Scoring/myenv3/lib/python3.8/site-packages/sklearn/base.py:566\u001b[0m, in \u001b[0;36mBaseEstimator._validate_data\u001b[0;34m(self, X, y, reset, validate_separately, **check_params)\u001b[0m\n\u001b[1;32m    <a href='file:///Users/guilhemberthou/dev/P7_Scoring/myenv3/lib/python3.8/site-packages/sklearn/base.py?line=563'>564</a>\u001b[0m     \u001b[39mraise\u001b[39;00m \u001b[39mValueError\u001b[39;00m(\u001b[39m\"\u001b[39m\u001b[39mValidation should be done on X, y or both.\u001b[39m\u001b[39m\"\u001b[39m)\n\u001b[1;32m    <a href='file:///Users/guilhemberthou/dev/P7_Scoring/myenv3/lib/python3.8/site-packages/sklearn/base.py?line=564'>565</a>\u001b[0m \u001b[39melif\u001b[39;00m \u001b[39mnot\u001b[39;00m no_val_X \u001b[39mand\u001b[39;00m no_val_y:\n\u001b[0;32m--> <a href='file:///Users/guilhemberthou/dev/P7_Scoring/myenv3/lib/python3.8/site-packages/sklearn/base.py?line=565'>566</a>\u001b[0m     X \u001b[39m=\u001b[39m check_array(X, \u001b[39m*\u001b[39;49m\u001b[39m*\u001b[39;49mcheck_params)\n\u001b[1;32m    <a href='file:///Users/guilhemberthou/dev/P7_Scoring/myenv3/lib/python3.8/site-packages/sklearn/base.py?line=566'>567</a>\u001b[0m     out \u001b[39m=\u001b[39m X\n\u001b[1;32m    <a href='file:///Users/guilhemberthou/dev/P7_Scoring/myenv3/lib/python3.8/site-packages/sklearn/base.py?line=567'>568</a>\u001b[0m \u001b[39melif\u001b[39;00m no_val_X \u001b[39mand\u001b[39;00m \u001b[39mnot\u001b[39;00m no_val_y:\n",
      "File \u001b[0;32m~/dev/P7_Scoring/myenv3/lib/python3.8/site-packages/sklearn/utils/validation.py:800\u001b[0m, in \u001b[0;36mcheck_array\u001b[0;34m(array, accept_sparse, accept_large_sparse, dtype, order, copy, force_all_finite, ensure_2d, allow_nd, ensure_min_samples, ensure_min_features, estimator)\u001b[0m\n\u001b[1;32m    <a href='file:///Users/guilhemberthou/dev/P7_Scoring/myenv3/lib/python3.8/site-packages/sklearn/utils/validation.py?line=793'>794</a>\u001b[0m         \u001b[39mraise\u001b[39;00m \u001b[39mValueError\u001b[39;00m(\n\u001b[1;32m    <a href='file:///Users/guilhemberthou/dev/P7_Scoring/myenv3/lib/python3.8/site-packages/sklearn/utils/validation.py?line=794'>795</a>\u001b[0m             \u001b[39m\"\u001b[39m\u001b[39mFound array with dim \u001b[39m\u001b[39m%d\u001b[39;00m\u001b[39m. \u001b[39m\u001b[39m%s\u001b[39;00m\u001b[39m expected <= 2.\u001b[39m\u001b[39m\"\u001b[39m\n\u001b[1;32m    <a href='file:///Users/guilhemberthou/dev/P7_Scoring/myenv3/lib/python3.8/site-packages/sklearn/utils/validation.py?line=795'>796</a>\u001b[0m             \u001b[39m%\u001b[39m (array\u001b[39m.\u001b[39mndim, estimator_name)\n\u001b[1;32m    <a href='file:///Users/guilhemberthou/dev/P7_Scoring/myenv3/lib/python3.8/site-packages/sklearn/utils/validation.py?line=796'>797</a>\u001b[0m         )\n\u001b[1;32m    <a href='file:///Users/guilhemberthou/dev/P7_Scoring/myenv3/lib/python3.8/site-packages/sklearn/utils/validation.py?line=798'>799</a>\u001b[0m     \u001b[39mif\u001b[39;00m force_all_finite:\n\u001b[0;32m--> <a href='file:///Users/guilhemberthou/dev/P7_Scoring/myenv3/lib/python3.8/site-packages/sklearn/utils/validation.py?line=799'>800</a>\u001b[0m         _assert_all_finite(array, allow_nan\u001b[39m=\u001b[39;49mforce_all_finite \u001b[39m==\u001b[39;49m \u001b[39m\"\u001b[39;49m\u001b[39mallow-nan\u001b[39;49m\u001b[39m\"\u001b[39;49m)\n\u001b[1;32m    <a href='file:///Users/guilhemberthou/dev/P7_Scoring/myenv3/lib/python3.8/site-packages/sklearn/utils/validation.py?line=801'>802</a>\u001b[0m \u001b[39mif\u001b[39;00m ensure_min_samples \u001b[39m>\u001b[39m \u001b[39m0\u001b[39m:\n\u001b[1;32m    <a href='file:///Users/guilhemberthou/dev/P7_Scoring/myenv3/lib/python3.8/site-packages/sklearn/utils/validation.py?line=802'>803</a>\u001b[0m     n_samples \u001b[39m=\u001b[39m _num_samples(array)\n",
      "File \u001b[0;32m~/dev/P7_Scoring/myenv3/lib/python3.8/site-packages/sklearn/utils/validation.py:114\u001b[0m, in \u001b[0;36m_assert_all_finite\u001b[0;34m(X, allow_nan, msg_dtype)\u001b[0m\n\u001b[1;32m    <a href='file:///Users/guilhemberthou/dev/P7_Scoring/myenv3/lib/python3.8/site-packages/sklearn/utils/validation.py?line=106'>107</a>\u001b[0m     \u001b[39mif\u001b[39;00m (\n\u001b[1;32m    <a href='file:///Users/guilhemberthou/dev/P7_Scoring/myenv3/lib/python3.8/site-packages/sklearn/utils/validation.py?line=107'>108</a>\u001b[0m         allow_nan\n\u001b[1;32m    <a href='file:///Users/guilhemberthou/dev/P7_Scoring/myenv3/lib/python3.8/site-packages/sklearn/utils/validation.py?line=108'>109</a>\u001b[0m         \u001b[39mand\u001b[39;00m np\u001b[39m.\u001b[39misinf(X)\u001b[39m.\u001b[39many()\n\u001b[1;32m    <a href='file:///Users/guilhemberthou/dev/P7_Scoring/myenv3/lib/python3.8/site-packages/sklearn/utils/validation.py?line=109'>110</a>\u001b[0m         \u001b[39mor\u001b[39;00m \u001b[39mnot\u001b[39;00m allow_nan\n\u001b[1;32m    <a href='file:///Users/guilhemberthou/dev/P7_Scoring/myenv3/lib/python3.8/site-packages/sklearn/utils/validation.py?line=110'>111</a>\u001b[0m         \u001b[39mand\u001b[39;00m \u001b[39mnot\u001b[39;00m np\u001b[39m.\u001b[39misfinite(X)\u001b[39m.\u001b[39mall()\n\u001b[1;32m    <a href='file:///Users/guilhemberthou/dev/P7_Scoring/myenv3/lib/python3.8/site-packages/sklearn/utils/validation.py?line=111'>112</a>\u001b[0m     ):\n\u001b[1;32m    <a href='file:///Users/guilhemberthou/dev/P7_Scoring/myenv3/lib/python3.8/site-packages/sklearn/utils/validation.py?line=112'>113</a>\u001b[0m         type_err \u001b[39m=\u001b[39m \u001b[39m\"\u001b[39m\u001b[39minfinity\u001b[39m\u001b[39m\"\u001b[39m \u001b[39mif\u001b[39;00m allow_nan \u001b[39melse\u001b[39;00m \u001b[39m\"\u001b[39m\u001b[39mNaN, infinity\u001b[39m\u001b[39m\"\u001b[39m\n\u001b[0;32m--> <a href='file:///Users/guilhemberthou/dev/P7_Scoring/myenv3/lib/python3.8/site-packages/sklearn/utils/validation.py?line=113'>114</a>\u001b[0m         \u001b[39mraise\u001b[39;00m \u001b[39mValueError\u001b[39;00m(\n\u001b[1;32m    <a href='file:///Users/guilhemberthou/dev/P7_Scoring/myenv3/lib/python3.8/site-packages/sklearn/utils/validation.py?line=114'>115</a>\u001b[0m             msg_err\u001b[39m.\u001b[39mformat(\n\u001b[1;32m    <a href='file:///Users/guilhemberthou/dev/P7_Scoring/myenv3/lib/python3.8/site-packages/sklearn/utils/validation.py?line=115'>116</a>\u001b[0m                 type_err, msg_dtype \u001b[39mif\u001b[39;00m msg_dtype \u001b[39mis\u001b[39;00m \u001b[39mnot\u001b[39;00m \u001b[39mNone\u001b[39;00m \u001b[39melse\u001b[39;00m X\u001b[39m.\u001b[39mdtype\n\u001b[1;32m    <a href='file:///Users/guilhemberthou/dev/P7_Scoring/myenv3/lib/python3.8/site-packages/sklearn/utils/validation.py?line=116'>117</a>\u001b[0m             )\n\u001b[1;32m    <a href='file:///Users/guilhemberthou/dev/P7_Scoring/myenv3/lib/python3.8/site-packages/sklearn/utils/validation.py?line=117'>118</a>\u001b[0m         )\n\u001b[1;32m    <a href='file:///Users/guilhemberthou/dev/P7_Scoring/myenv3/lib/python3.8/site-packages/sklearn/utils/validation.py?line=118'>119</a>\u001b[0m \u001b[39m# for object dtype data, we only check for NaNs (GH-13254)\u001b[39;00m\n\u001b[1;32m    <a href='file:///Users/guilhemberthou/dev/P7_Scoring/myenv3/lib/python3.8/site-packages/sklearn/utils/validation.py?line=119'>120</a>\u001b[0m \u001b[39melif\u001b[39;00m X\u001b[39m.\u001b[39mdtype \u001b[39m==\u001b[39m np\u001b[39m.\u001b[39mdtype(\u001b[39m\"\u001b[39m\u001b[39mobject\u001b[39m\u001b[39m\"\u001b[39m) \u001b[39mand\u001b[39;00m \u001b[39mnot\u001b[39;00m allow_nan:\n",
      "\u001b[0;31mValueError\u001b[0m: Input contains infinity or a value too large for dtype('float64')."
     ]
    }
   ],
   "source": [
    "#One hot encoding categorical variables\n",
    "ohe = OneHotEncoder(handle_unknown='ignore')\n",
    "cat_array = ohe.fit_transform(cat_features).todense()\n",
    "cat_array = np.asarray(cat_array)\n",
    "\n",
    "#Standard Scaling numerical variables\n",
    "scaler = StandardScaler()\n",
    "num_array = num_features.to_numpy()\n",
    "num_array = scaler.fit_transform(num_array)\n",
    "\n",
    "#concatenate\n",
    "X = np.concatenate([cat_array, num_array], axis=1)\n",
    "y = app_train['TARGET'].astype(int)\n",
    "\n",
    "#dataframe\n",
    "df_train = pd.concat([user_id, cat_features, num_features], axis=1)\n",
    "df_train = df_train.astype('object')\n"
   ]
  },
  {
   "cell_type": "code",
   "execution_count": null,
   "metadata": {},
   "outputs": [
    {
     "data": {
      "text/plain": [
       "LogisticRegression(C=0.005, class_weight='balanced', max_iter=1000)"
      ]
     },
     "execution_count": 34,
     "metadata": {},
     "output_type": "execute_result"
    }
   ],
   "source": [
    "#Model with best params\n",
    "model = LogisticRegression(class_weight = 'balanced', C=0.005, max_iter=1000)\n",
    "\n",
    "#fit\n",
    "model.fit(X,y)"
   ]
  },
  {
   "cell_type": "markdown",
   "metadata": {},
   "source": [
    "# Serialization"
   ]
  },
  {
   "cell_type": "code",
   "execution_count": null,
   "metadata": {},
   "outputs": [
    {
     "data": {
      "text/plain": [
       "['bin/model.joblib']"
      ]
     },
     "execution_count": 35,
     "metadata": {},
     "output_type": "execute_result"
    }
   ],
   "source": [
    "joblib.dump(ohe, 'bin/ohe.joblib') #into a folder bin (for binary)\n",
    "joblib.dump(imp_mean, 'bin/imp_mean.joblib')\n",
    "joblib.dump(scaler, 'bin/scaler.joblib')\n",
    "joblib.dump(model, 'bin/model.joblib')"
   ]
  },
  {
   "cell_type": "markdown",
   "metadata": {},
   "source": [
    "# Export DataSet"
   ]
  },
  {
   "cell_type": "markdown",
   "metadata": {},
   "source": [
    "Export pre-processed dataset to be used for Dashboard Streamlit (on which heroku deployed model will predicting scoring) : "
   ]
  },
  {
   "cell_type": "code",
   "execution_count": 76,
   "metadata": {},
   "outputs": [
    {
     "name": "stdout",
     "output_type": "stream",
     "text": [
      "67 object columns were converted to int.\n",
      "Feature engineering success\n",
      "Feature selection success\n",
      "df_test exported to dashboard_data folder.\n"
     ]
    }
   ],
   "source": [
    "app_test = pd.read_csv(\"../raw_data/application_test.csv\").astype(\"object\")\n",
    "\n",
    "app_test_converted = convert_dtypes_func(app_test)\n",
    "app_test_eng = feature_eng(app_test)\n",
    "app_test_selec_col = df_feature_selection(app_test_eng)\n",
    "\n",
    "df_test = app_test_selec_col.sample(frac=0.05, random_state=0)\n",
    "df_test = df_test.astype('object')\n",
    "\n",
    "df_test.to_csv(\"./dashboard_data/df_test.csv\", index=False)\n",
    "\n",
    "print('df_test exported to dashboard_data folder.')\n"
   ]
  },
  {
   "cell_type": "markdown",
   "metadata": {},
   "source": [
    "# Pydantic Documentation"
   ]
  },
  {
   "cell_type": "code",
   "execution_count": 101,
   "metadata": {},
   "outputs": [],
   "source": [
    "from pydantic import BaseModel, create_model, Field, ValidationError\n",
    "\n",
    "model = {}\n",
    "for i in range(len(df_train.dtypes)):\n",
    "    name = df_train.dtypes.index[i]\n",
    "    var_type = type(df_train.iloc[0, i])\n",
    "    model.update({name: (var_type, Field(...))})"
   ]
  },
  {
   "cell_type": "code",
   "execution_count": 102,
   "metadata": {},
   "outputs": [],
   "source": [
    "del model[\"SK_ID_CURR\"]"
   ]
  },
  {
   "cell_type": "code",
   "execution_count": 104,
   "metadata": {},
   "outputs": [],
   "source": [
    "data_dict = joblib.dump(model, 'bin/data_dict.joblib')"
   ]
  },
  {
   "cell_type": "code",
   "execution_count": 39,
   "metadata": {},
   "outputs": [],
   "source": [
    "colonnes_scoring_predicted = [\"CODE_GENDER\",\n",
    "                              \"NAME_EDUCATION_TYPE\",\n",
    "                              \"DAYS_EMPLOYED\"\n",
    "                              \"EXT_SOURCE_1\",\n",
    "                              \"EXT_SOURCE_2\",\n",
    "                              \"EXT_SOURCE_3\",\n",
    "                              \"credit_downpayment\",\n",
    "                              \"AMT_INCOME_TOTAL\",\n",
    "                              \"annuity_income_ratio\",\n",
    "                              ]"
   ]
  },
  {
   "cell_type": "code",
   "execution_count": 40,
   "metadata": {},
   "outputs": [
    {
     "data": {
      "text/plain": [
       "['OWN_CAR_AGE', 'AGE_INT']"
      ]
     },
     "execution_count": 40,
     "metadata": {},
     "output_type": "execute_result"
    }
   ],
   "source": [
    "liste = [i for i in df_test.columns.to_list()]\n",
    "matching = [s for s in liste if \"AGE\" in s]\n",
    "matching"
   ]
  },
  {
   "cell_type": "code",
   "execution_count": 41,
   "metadata": {},
   "outputs": [
    {
     "data": {
      "text/plain": [
       "[1613, 824]"
      ]
     },
     "execution_count": 41,
     "metadata": {},
     "output_type": "execute_result"
    }
   ],
   "source": [
    "liste_value = df_test['CODE_GENDER'].value_counts().tolist()\n",
    "liste_value"
   ]
  },
  {
   "cell_type": "code",
   "execution_count": 42,
   "metadata": {},
   "outputs": [],
   "source": [
    "list_cat_features = [\"NAME_CONTRACT_TYPE\",\n",
    "    \"CODE_GENDER\",\n",
    "    \"FLAG_OWN_CAR\",\n",
    "    \"FLAG_OWN_REALTY\",\n",
    "    \"NAME_TYPE_SUITE\",\n",
    "    \"NAME_INCOME_TYPE\",\n",
    "    \"NAME_EDUCATION_TYPE\",\n",
    "    \"NAME_FAMILY_STATUS\",\n",
    "    \"NAME_HOUSING_TYPE\",\n",
    "    \"REGION_POPULATION_RELATIVE\",\n",
    "    \"FLAG_MOBIL\",\n",
    "    \"FLAG_EMP_PHONE\",\n",
    "    \"FLAG_WORK_PHONE\",\n",
    "    \"FLAG_CONT_MOBILE\",\n",
    "    \"FLAG_PHONE\",\n",
    "    \"FLAG_EMAIL\",\n",
    "    \"OCCUPATION_TYPE\",\n",
    "    \"CNT_FAM_MEMBERS\",\n",
    "    \"REGION_RATING_CLIENT\",\n",
    "    \"WEEKDAY_APPR_PROCESS_START\",\n",
    "    \"HOUR_APPR_PROCESS_START\",\n",
    "    \"REG_REGION_NOT_LIVE_REGION\",\n",
    "    \"REG_REGION_NOT_WORK_REGION\",\n",
    "    \"LIVE_REGION_NOT_WORK_REGION\",\n",
    "    \"REG_CITY_NOT_LIVE_CITY\",\n",
    "    \"REG_CITY_NOT_WORK_CITY\",\n",
    "    \"LIVE_CITY_NOT_WORK_CITY\",\n",
    "    \"ORGANIZATION_TYPE\",\n",
    "    \"FONDKAPREMONT_MODE\",\n",
    "    \"HOUSETYPE_MODE\",\n",
    "    \"WALLSMATERIAL_MODE\",\n",
    "    \"EMERGENCYSTATE_MODE\",\n",
    "    \"FLAG_DOCUMENT_2\",\n",
    "    \"FLAG_DOCUMENT_3\",\n",
    "    \"FLAG_DOCUMENT_4\",\n",
    "    \"FLAG_DOCUMENT_5\",\n",
    "    \"FLAG_DOCUMENT_6\",\n",
    "    \"FLAG_DOCUMENT_7\",\n",
    "    \"FLAG_DOCUMENT_8\",\n",
    "    \"FLAG_DOCUMENT_9\",\n",
    "    \"FLAG_DOCUMENT_10\",\n",
    "    \"FLAG_DOCUMENT_11\",\n",
    "    \"FLAG_DOCUMENT_12\",\n",
    "    \"FLAG_DOCUMENT_13\",\n",
    "    \"FLAG_DOCUMENT_14\",\n",
    "    \"FLAG_DOCUMENT_15\",\n",
    "    \"FLAG_DOCUMENT_16\",\n",
    "    \"FLAG_DOCUMENT_17\",\n",
    "    \"FLAG_DOCUMENT_18\",\n",
    "    \"FLAG_DOCUMENT_19\",\n",
    "    \"FLAG_DOCUMENT_20\",\n",
    "    \"FLAG_DOCUMENT_21\"\n",
    "]\n",
    "list_num_features = [\n",
    "    \"CNT_CHILDREN\",\n",
    "    \"AMT_INCOME_TOTAL\",\n",
    "    \"AMT_CREDIT\",\n",
    "    \"AMT_ANNUITY\",\n",
    "    \"AMT_GOODS_PRICE\",\n",
    "    \"DAYS_EMPLOYED\",\n",
    "    \"DAYS_REGISTRATION\",\n",
    "    \"DAYS_ID_PUBLISH\",\n",
    "    \"OWN_CAR_AGE\",\n",
    "    \"EXT_SOURCE_1\",\n",
    "    \"EXT_SOURCE_2\",\n",
    "    \"EXT_SOURCE_3\",\n",
    "    \"APARTMENTS_AVG\",\n",
    "    \"BASEMENTAREA_AVG\",\n",
    "    \"YEARS_BEGINEXPLUATATION_AVG\",\n",
    "    \"YEARS_BUILD_AVG\",\n",
    "    \"COMMONAREA_AVG\",\n",
    "    \"ELEVATORS_AVG\",\n",
    "    \"ENTRANCES_AVG\",\n",
    "    \"FLOORSMAX_AVG\",\n",
    "    \"FLOORSMIN_AVG\",\n",
    "    \"LANDAREA_AVG\",\n",
    "    \"LIVINGAPARTMENTS_AVG\",\n",
    "    \"LIVINGAREA_AVG\",\n",
    "    \"NONLIVINGAPARTMENTS_AVG\",\n",
    "    \"NONLIVINGAREA_AVG\",\n",
    "    \"APARTMENTS_MODE\",\n",
    "    \"YEARS_BEGINEXPLUATATION_MODE\",\n",
    "    \"FLOORSMIN_MODE\",\n",
    "    \"LIVINGAREA_MODE\",\n",
    "    \"LANDAREA_MEDI\",\n",
    "    \"TOTALAREA_MODE\",\n",
    "    \"OBS_30_CNT_SOCIAL_CIRCLE\",\n",
    "    \"DEF_30_CNT_SOCIAL_CIRCLE\",\n",
    "    \"DEF_60_CNT_SOCIAL_CIRCLE\",\n",
    "    \"DAYS_LAST_PHONE_CHANGE\",\n",
    "    \"AMT_REQ_CREDIT_BUREAU_HOUR\",\n",
    "    \"AMT_REQ_CREDIT_BUREAU_DAY\",\n",
    "    \"AMT_REQ_CREDIT_BUREAU_WEEK\",\n",
    "    \"AMT_REQ_CREDIT_BUREAU_MON\",\n",
    "    \"AMT_REQ_CREDIT_BUREAU_QRT\",\n",
    "    \"AMT_REQ_CREDIT_BUREAU_YEAR\",\n",
    "    \"DAYS_EMPLOYED_ANOM\",\n",
    "    \"AGE_INT\",\n",
    "    \"annuity_income_ratio\",\n",
    "    \"credit_annuity_ratio\",\n",
    "    \"credit_goods_price_ratio\",\n",
    "    \"credit_downpayment\"\n",
    "]"
   ]
  },
  {
   "cell_type": "code",
   "execution_count": 53,
   "metadata": {},
   "outputs": [],
   "source": [
    "df_test = pd.read_csv(\"./dashboard_data/df_test.csv\")\n",
    "list_cat_features = [\"NAME_CONTRACT_TYPE\",\n",
    "    \"CODE_GENDER\",\n",
    "    \"FLAG_OWN_CAR\",\n",
    "    \"FLAG_OWN_REALTY\",\n",
    "    \"NAME_TYPE_SUITE\",\n",
    "    \"NAME_INCOME_TYPE\",\n",
    "    \"NAME_EDUCATION_TYPE\",\n",
    "    \"NAME_FAMILY_STATUS\",\n",
    "    \"NAME_HOUSING_TYPE\",\n",
    "    \"REGION_POPULATION_RELATIVE\",\n",
    "    \"FLAG_MOBIL\",\n",
    "    \"FLAG_EMP_PHONE\",\n",
    "    \"FLAG_WORK_PHONE\",\n",
    "    \"FLAG_CONT_MOBILE\",\n",
    "    \"FLAG_PHONE\",\n",
    "    \"FLAG_EMAIL\",\n",
    "    \"OCCUPATION_TYPE\",\n",
    "    \"CNT_FAM_MEMBERS\",\n",
    "    \"REGION_RATING_CLIENT\",\n",
    "    \"WEEKDAY_APPR_PROCESS_START\",\n",
    "    \"HOUR_APPR_PROCESS_START\",\n",
    "    \"REG_REGION_NOT_LIVE_REGION\",\n",
    "    \"REG_REGION_NOT_WORK_REGION\",\n",
    "    \"LIVE_REGION_NOT_WORK_REGION\",\n",
    "    \"REG_CITY_NOT_LIVE_CITY\",\n",
    "    \"REG_CITY_NOT_WORK_CITY\",\n",
    "    \"LIVE_CITY_NOT_WORK_CITY\",\n",
    "    \"ORGANIZATION_TYPE\",\n",
    "    \"FONDKAPREMONT_MODE\",\n",
    "    \"HOUSETYPE_MODE\",\n",
    "    \"WALLSMATERIAL_MODE\",\n",
    "    \"EMERGENCYSTATE_MODE\",\n",
    "    \"FLAG_DOCUMENT_2\",\n",
    "    \"FLAG_DOCUMENT_3\",\n",
    "    \"FLAG_DOCUMENT_4\",\n",
    "    \"FLAG_DOCUMENT_5\",\n",
    "    \"FLAG_DOCUMENT_6\",\n",
    "    \"FLAG_DOCUMENT_7\",\n",
    "    \"FLAG_DOCUMENT_8\",\n",
    "    \"FLAG_DOCUMENT_9\",\n",
    "    \"FLAG_DOCUMENT_10\",\n",
    "    \"FLAG_DOCUMENT_11\",\n",
    "    \"FLAG_DOCUMENT_12\",\n",
    "    \"FLAG_DOCUMENT_13\",\n",
    "    \"FLAG_DOCUMENT_14\",\n",
    "    \"FLAG_DOCUMENT_15\",\n",
    "    \"FLAG_DOCUMENT_16\",\n",
    "    \"FLAG_DOCUMENT_17\",\n",
    "    \"FLAG_DOCUMENT_18\",\n",
    "    \"FLAG_DOCUMENT_19\",\n",
    "    \"FLAG_DOCUMENT_20\",\n",
    "    \"FLAG_DOCUMENT_21\"\n",
    "]\n",
    "list_num_features = [\n",
    "    \"CNT_CHILDREN\",\n",
    "    \"AMT_INCOME_TOTAL\",\n",
    "    \"AMT_CREDIT\",\n",
    "    \"AMT_ANNUITY\",\n",
    "    \"AMT_GOODS_PRICE\",\n",
    "    \"DAYS_EMPLOYED\",\n",
    "    \"DAYS_REGISTRATION\",\n",
    "    \"DAYS_ID_PUBLISH\",\n",
    "    \"OWN_CAR_AGE\",\n",
    "    \"EXT_SOURCE_1\",\n",
    "    \"EXT_SOURCE_2\",\n",
    "    \"EXT_SOURCE_3\",\n",
    "    \"APARTMENTS_AVG\",\n",
    "    \"BASEMENTAREA_AVG\",\n",
    "    \"YEARS_BEGINEXPLUATATION_AVG\",\n",
    "    \"YEARS_BUILD_AVG\",\n",
    "    \"COMMONAREA_AVG\",\n",
    "    \"ELEVATORS_AVG\",\n",
    "    \"ENTRANCES_AVG\",\n",
    "    \"FLOORSMAX_AVG\",\n",
    "    \"FLOORSMIN_AVG\",\n",
    "    \"LANDAREA_AVG\",\n",
    "    \"LIVINGAPARTMENTS_AVG\",\n",
    "    \"LIVINGAREA_AVG\",\n",
    "    \"NONLIVINGAPARTMENTS_AVG\",\n",
    "    \"NONLIVINGAREA_AVG\",\n",
    "    \"APARTMENTS_MODE\",\n",
    "    \"YEARS_BEGINEXPLUATATION_MODE\",\n",
    "    \"FLOORSMIN_MODE\",\n",
    "    \"LIVINGAREA_MODE\",\n",
    "    \"LANDAREA_MEDI\",\n",
    "    \"TOTALAREA_MODE\",\n",
    "    \"OBS_30_CNT_SOCIAL_CIRCLE\",\n",
    "    \"DEF_30_CNT_SOCIAL_CIRCLE\",\n",
    "    \"DEF_60_CNT_SOCIAL_CIRCLE\",\n",
    "    \"DAYS_LAST_PHONE_CHANGE\",\n",
    "    \"AMT_REQ_CREDIT_BUREAU_HOUR\",\n",
    "    \"AMT_REQ_CREDIT_BUREAU_DAY\",\n",
    "    \"AMT_REQ_CREDIT_BUREAU_WEEK\",\n",
    "    \"AMT_REQ_CREDIT_BUREAU_MON\",\n",
    "    \"AMT_REQ_CREDIT_BUREAU_QRT\",\n",
    "    \"AMT_REQ_CREDIT_BUREAU_YEAR\",\n",
    "    \"DAYS_EMPLOYED_ANOM\",\n",
    "    \"AGE_INT\",\n",
    "    \"annuity_income_ratio\",\n",
    "    \"credit_annuity_ratio\",\n",
    "    \"credit_goods_price_ratio\",\n",
    "    \"credit_downpayment\"\n",
    "]\n",
    "df = df_test[[c for c in df_test.columns if c in list_cat_features or list_num_features]]"
   ]
  },
  {
   "cell_type": "code",
   "execution_count": 54,
   "metadata": {},
   "outputs": [],
   "source": [
    "data_dict = joblib.load(\"./bin/data_dict.joblib\")\n",
    "ohe = joblib.load(\"./bin/ohe.joblib\")\n",
    "imp_mean = joblib.load(\"./bin/imp_mean.joblib\")\n",
    "scaler = joblib.load(\"./bin/scaler.joblib\")\n",
    "model = joblib.load(\"./bin/model.joblib\")"
   ]
  },
  {
   "cell_type": "code",
   "execution_count": 56,
   "metadata": {},
   "outputs": [],
   "source": [
    "ScoringModel = create_model(\n",
    "    \"ScoringModel\",\n",
    "    **data_dict,\n",
    "    __base__=BaseModel,\n",
    ")\n",
    "ScoringModel.update_forward_refs()\n"
   ]
  },
  {
   "cell_type": "code",
   "execution_count": 62,
   "metadata": {},
   "outputs": [
    {
     "ename": "TypeError",
     "evalue": "'ModelMetaclass' object is not iterable",
     "output_type": "error",
     "traceback": [
      "\u001b[0;31m---------------------------------------------------------------------------\u001b[0m",
      "\u001b[0;31mTypeError\u001b[0m                                 Traceback (most recent call last)",
      "\u001b[1;32m/Users/guilhemberthou/dev/P7_Scoring/model_training.ipynb Cell 31'\u001b[0m in \u001b[0;36m<cell line: 1>\u001b[0;34m()\u001b[0m\n\u001b[0;32m----> <a href='vscode-notebook-cell:/Users/guilhemberthou/dev/P7_Scoring/model_training.ipynb#ch0000043?line=0'>1</a>\u001b[0m \u001b[39mdict\u001b[39;49m(ScoringModel)\n",
      "\u001b[0;31mTypeError\u001b[0m: 'ModelMetaclass' object is not iterable"
     ]
    }
   ],
   "source": [
    "dict(ScoringModel) \n"
   ]
  },
  {
   "cell_type": "code",
   "execution_count": 61,
   "metadata": {},
   "outputs": [
    {
     "data": {
      "text/plain": [
       "pydantic.main.ModelMetaclass"
      ]
     },
     "execution_count": 61,
     "metadata": {},
     "output_type": "execute_result"
    }
   ],
   "source": [
    "[np.newaxis, :].shape"
   ]
  },
  {
   "cell_type": "code",
   "execution_count": null,
   "metadata": {},
   "outputs": [],
   "source": []
  }
 ],
 "metadata": {
  "interpreter": {
   "hash": "31f2aee4e71d21fbe5cf8b01ff0e069b9275f58929596ceb00d14d90e3e16cd6"
  },
  "kernelspec": {
   "display_name": "Python 3.8.2 64-bit",
   "language": "python",
   "name": "python3"
  },
  "language_info": {
   "codemirror_mode": {
    "name": "ipython",
    "version": 3
   },
   "file_extension": ".py",
   "mimetype": "text/x-python",
   "name": "python",
   "nbconvert_exporter": "python",
   "pygments_lexer": "ipython3",
   "version": "3.8.9"
  },
  "orig_nbformat": 4
 },
 "nbformat": 4,
 "nbformat_minor": 2
}
