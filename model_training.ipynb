{
 "cells": [
  {
   "cell_type": "code",
   "execution_count": 474,
   "metadata": {},
   "outputs": [],
   "source": [
    "# numpy and pandas for data manipulation\n",
    "import numpy as np\n",
    "import pandas as pd \n",
    "\n",
    "# sklearn preprocessing for dealing with categorical variables\n",
    "from sklearn.preprocessing import OneHotEncoder\n",
    "\n",
    "# modeling\n",
    "from sklearn.preprocessing import StandardScaler\n",
    "from sklearn.impute import SimpleImputer\n",
    "from sklearn.model_selection import *\n",
    "from sklearn.linear_model import LogisticRegression\n",
    "\n",
    "#explainability\n",
    "import shap\n",
    "\n",
    "#serialization\n",
    "import joblib"
   ]
  },
  {
   "cell_type": "code",
   "execution_count": 475,
   "metadata": {},
   "outputs": [],
   "source": [
    "#read the data \n",
    "app_train = pd.read_csv(\"../raw_data/application_train.csv\").astype(\"object\")"
   ]
  },
  {
   "cell_type": "markdown",
   "metadata": {},
   "source": [
    "# Features Types"
   ]
  },
  {
   "cell_type": "markdown",
   "metadata": {},
   "source": [
    "We need to convert variables that are not correctly cast as of float in the raw data : "
   ]
  },
  {
   "cell_type": "code",
   "execution_count": 476,
   "metadata": {},
   "outputs": [],
   "source": [
    "def convert_dtypes_func(df):\n",
    "    #List the columns to be converted to float\n",
    "    list_columns_to_convert_to_float = (\"CNT_CHILDREN\" \n",
    "                                ,\"AMT_INCOME_TOTAL\" \n",
    "                                ,\"AMT_CREDIT\" \n",
    "                                ,\"AMT_ANNUITY\" \n",
    "                                ,\"AMT_GOODS_PRICE\" \n",
    "                                ,\"DAYS_BIRTH\"\n",
    "                                ,\"DAYS_EMPLOYED\" \n",
    "                                ,\"DAYS_REGISTRATION\" \n",
    "                                ,\"DAYS_ID_PUBLISH\"\n",
    "                                ,\"OWN_CAR_AGE\"\n",
    "                                ,\"EXT_SOURCE_1               \"\n",
    "                                ,\"EXT_SOURCE_2               \"\n",
    "                                ,\"EXT_SOURCE_3               \"\n",
    "                                ,\"APARTMENTS_AVG             \"\n",
    "                                ,\"BASEMENTAREA_AVG           \"\n",
    "                                ,\"YEARS_BEGINEXPLUATATION_AVG\"\n",
    "                                ,\"YEARS_BUILD_AVG            \"\n",
    "                                ,\"COMMONAREA_AVG             \"\n",
    "                                ,\"ELEVATORS_AVG              \"\n",
    "                                ,\"ENTRANCES_AVG              \"\n",
    "                                ,\"FLOORSMAX_AVG              \"\n",
    "                                ,\"FLOORSMIN_AVG              \"\n",
    "                                ,\"LANDAREA_AVG               \"\n",
    "                                ,\"LIVINGAPARTMENTS_AVG       \"\n",
    "                                ,\"LIVINGAREA_AVG             \"\n",
    "                                ,\"NONLIVINGAPARTMENTS_AVG    \"\n",
    "                                ,\"NONLIVINGAREA_AVG          \"\n",
    "                                ,\"APARTMENTS_MODE            \"\n",
    "                                ,\"BASEMENTAREA_MODE          \"\n",
    "                                ,\"YEARS_BEGINEXPLUATATION_MODE\"\n",
    "                                ,\"YEARS_BUILD_MODE           \"\n",
    "                                ,\"COMMONAREA_MODE            \"\n",
    "                                ,\"ELEVATORS_MODE             \"\n",
    "                                ,\"ENTRANCES_MODE             \"\n",
    "                                ,\"FLOORSMAX_MODE             \"\n",
    "                                ,\"FLOORSMIN_MODE             \"\n",
    "                                ,\"LANDAREA_MODE              \"\n",
    "                                ,\"LIVINGAPARTMENTS_MODE      \"\n",
    "                                ,\"LIVINGAREA_MODE            \"\n",
    "                                ,\"NONLIVINGAPARTMENTS_MODE   \"\n",
    "                                ,\"NONLIVINGAREA_MODE         \"\n",
    "                                ,\"APARTMENTS_MEDI            \"\n",
    "                                ,\"BASEMENTAREA_MEDI          \"\n",
    "                                ,\"YEARS_BEGINEXPLUATATION_MEDI\"\n",
    "                                ,\"YEARS_BUILD_MEDI           \"\n",
    "                                ,\"COMMONAREA_MEDI            \"\n",
    "                                ,\"ELEVATORS_MEDI             \"\n",
    "                                ,\"ENTRANCES_MEDI             \"\n",
    "                                ,\"FLOORSMAX_MEDI             \"\n",
    "                                ,\"FLOORSMIN_MEDI             \"\n",
    "                                ,\"LANDAREA_MEDI              \"\n",
    "                                ,\"LIVINGAPARTMENTS_MEDI      \"\n",
    "                                ,\"LIVINGAREA_MEDI            \"\n",
    "                                ,\"NONLIVINGAPARTMENTS_MEDI   \"\n",
    "                                ,\"NONLIVINGAREA_MEDI         \"\n",
    "                                ,\"TOTALAREA_MODE             \"\n",
    "                                ,\"OBS_30_CNT_SOCIAL_CIRCLE   \"\n",
    "                                ,\"DEF_30_CNT_SOCIAL_CIRCLE   \"\n",
    "                                ,\"OBS_60_CNT_SOCIAL_CIRCLE   \"\n",
    "                                ,\"DEF_60_CNT_SOCIAL_CIRCLE   \"\n",
    "                                ,\"DAYS_LAST_PHONE_CHANGE     \"\n",
    "                                ,\"AMT_REQ_CREDIT_BUREAU_HOUR\"\n",
    "                                ,\"AMT_REQ_CREDIT_BUREAU_DAY \"\n",
    "                                ,\"AMT_REQ_CREDIT_BUREAU_WEEK\"\n",
    "                                ,\"AMT_REQ_CREDIT_BUREAU_MON \"\n",
    "                                ,\"AMT_REQ_CREDIT_BUREAU_QRT \"\n",
    "                                ,\"AMT_REQ_CREDIT_BUREAU_YEAR\")       \n",
    "\n",
    "    #remove spaces in the list created\n",
    "    list_columns_to_convert_to_float = [s.strip() for s in list_columns_to_convert_to_float]       \n",
    "    \n",
    "    convert_count = 0\n",
    "\n",
    "    #convert object columns to float\n",
    "    for col in list_columns_to_convert_to_float:\n",
    "        df[col] = df[col].astype(float)\n",
    "        \n",
    "        # Keep track of how many columns were label encoded\n",
    "        convert_count += 1\n",
    "\n",
    "    print('%d object columns were converted to int.' % convert_count)\n",
    "    \n",
    "    return df"
   ]
  },
  {
   "cell_type": "code",
   "execution_count": 477,
   "metadata": {},
   "outputs": [
    {
     "name": "stdout",
     "output_type": "stream",
     "text": [
      "67 object columns were converted to int.\n"
     ]
    }
   ],
   "source": [
    "app_train = convert_dtypes_func(app_train)"
   ]
  },
  {
   "cell_type": "markdown",
   "metadata": {},
   "source": [
    "# Feature Engineering"
   ]
  },
  {
   "cell_type": "code",
   "execution_count": 478,
   "metadata": {},
   "outputs": [],
   "source": [
    "def feature_eng(df):\n",
    "\n",
    "    # Create an anomalous flag column\n",
    "    df['DAYS_EMPLOYED_ANOM'] = df[\"DAYS_EMPLOYED\"] == 365243\n",
    "\n",
    "    # Replace the anomalous values with nan\n",
    "    df['DAYS_EMPLOYED'].replace({365243: np.nan}, inplace = True)\n",
    "\n",
    "    #correct sign of Days Birth\n",
    "    df[\"DAYS_BIRTH\"] = abs(df[\"DAYS_BIRTH\"])\n",
    "    df['AGE_INT'] = round((df['DAYS_BIRTH'] / 365).astype(float),2)\n",
    "\n",
    "    #footing financial ratios\n",
    "    df['annuity_income_ratio'] = round((df['AMT_INCOME_TOTAL'] / df['AMT_ANNUITY']).astype(float),2)\n",
    "    df['credit_annuity_ratio'] = round((df['AMT_CREDIT'] / df['AMT_ANNUITY']).astype(float),2)\n",
    "    df['credit_goods_price_ratio'] = round((df['AMT_CREDIT'] / df['AMT_GOODS_PRICE']).astype(float),2)\n",
    "    df['credit_downpayment'] = round((df['AMT_GOODS_PRICE'] - df['AMT_CREDIT']).astype(float),2)\n",
    " \n",
    "    print('Feature engineering success')\n",
    "   \n",
    "    return df"
   ]
  },
  {
   "cell_type": "code",
   "execution_count": 479,
   "metadata": {},
   "outputs": [
    {
     "name": "stdout",
     "output_type": "stream",
     "text": [
      "Feature engineering success\n"
     ]
    }
   ],
   "source": [
    "app_train = feature_eng(app_train)"
   ]
  },
  {
   "cell_type": "markdown",
   "metadata": {},
   "source": [
    "# Feature Selection"
   ]
  },
  {
   "cell_type": "code",
   "execution_count": 480,
   "metadata": {},
   "outputs": [],
   "source": [
    "def df_feature_selection(df):\n",
    "    columns_list = df.columns.to_list()\n",
    "\n",
    "    columns_to_drop_intersec = (['DAYS_BIRTH',\n",
    "    'REGION_RATING_CLIENT_W_CITY',\n",
    "    'BASEMENTAREA_MODE',\n",
    "    'YEARS_BUILD_MODE',\n",
    "    'COMMONAREA_MODE',\n",
    "    'ELEVATORS_MODE',\n",
    "    'ENTRANCES_MODE',\n",
    "    'FLOORSMAX_MODE',\n",
    "    'LANDAREA_MODE',\n",
    "    'LIVINGAPARTMENTS_MODE',\n",
    "    'NONLIVINGAPARTMENTS_MODE',\n",
    "    'NONLIVINGAREA_MODE',\n",
    "    'APARTMENTS_MEDI',\n",
    "    'BASEMENTAREA_MEDI',\n",
    "    'YEARS_BEGINEXPLUATATION_MEDI',\n",
    "    'YEARS_BUILD_MEDI',\n",
    "    'COMMONAREA_MEDI',\n",
    "    'ELEVATORS_MEDI',\n",
    "    'ENTRANCES_MEDI',\n",
    "    'FLOORSMAX_MEDI',\n",
    "    'FLOORSMIN_MEDI',\n",
    "    'LIVINGAPARTMENTS_MEDI',\n",
    "    'LIVINGAREA_MEDI',\n",
    "    'NONLIVINGAPARTMENTS_MEDI',\n",
    "    'NONLIVINGAREA_MEDI',\n",
    "    'OBS_60_CNT_SOCIAL_CIRCLE',\n",
    "    \"DAYS_EMPLOYED_ANOM\"])\n",
    "\n",
    "    #Drop columns\n",
    "    df_selec_col = pd.DataFrame(data=df, columns=columns_list).drop(columns_to_drop_intersec, axis=1)\n",
    "    \n",
    "    print('Feature selection success')\n",
    "\n",
    "    return df_selec_col"
   ]
  },
  {
   "cell_type": "code",
   "execution_count": 481,
   "metadata": {},
   "outputs": [
    {
     "name": "stdout",
     "output_type": "stream",
     "text": [
      "Feature selection success\n"
     ]
    }
   ],
   "source": [
    "app_train = df_feature_selection(app_train)"
   ]
  },
  {
   "cell_type": "markdown",
   "metadata": {},
   "source": [
    "# Imputation - Encoding - Standardization - Imputation"
   ]
  },
  {
   "cell_type": "code",
   "execution_count": 482,
   "metadata": {},
   "outputs": [],
   "source": [
    "#keep id into a separate serie\n",
    "user_id = app_train[['SK_ID_CURR']]\n",
    "\n",
    "#create df of features by type\n",
    "cat_features = app_train.select_dtypes(include=['object']).drop(['SK_ID_CURR','TARGET'], axis=1)\n",
    "num_features = app_train.select_dtypes(exclude=['object'])\n",
    "\n",
    "#imputation\n",
    "categorical_imputer = SimpleImputer(missing_values=np.nan, strategy=\"most_frequent\")\n",
    "cat_features = categorical_imputer.fit_transform(cat_features)\n",
    "\n",
    "simple_imputer = SimpleImputer(missing_values=np.nan, strategy=\"median\")\n",
    "num_features = simple_imputer.fit_transform(num_features)\n",
    "\n",
    "#One hot encoding categorical variables\n",
    "ohe = OneHotEncoder(handle_unknown='ignore')\n",
    "cat_array = ohe.fit_transform(cat_features).todense()\n",
    "cat_array = np.asarray(cat_array)\n",
    "\n",
    "#Standard Scaling numerical variables\n",
    "scaler = StandardScaler()\n",
    "num_array = scaler.fit_transform(num_features)\n",
    "\n",
    "#concatenate\n",
    "X = np.concatenate([cat_array, num_array], axis=1)\n",
    "y = app_train['TARGET'].astype(int)"
   ]
  },
  {
   "cell_type": "code",
   "execution_count": 483,
   "metadata": {},
   "outputs": [
    {
     "data": {
      "text/plain": [
       "LogisticRegression(C=0.005, class_weight='balanced', max_iter=1000)"
      ]
     },
     "execution_count": 483,
     "metadata": {},
     "output_type": "execute_result"
    }
   ],
   "source": [
    "#Model with best params\n",
    "model = LogisticRegression(class_weight = 'balanced', C=0.005, max_iter=1000)\n",
    "\n",
    "#fit\n",
    "model.fit(X,y)"
   ]
  },
  {
   "cell_type": "markdown",
   "metadata": {},
   "source": [
    "# Serialization"
   ]
  },
  {
   "cell_type": "code",
   "execution_count": 484,
   "metadata": {},
   "outputs": [
    {
     "data": {
      "text/plain": [
       "['bin/model.joblib']"
      ]
     },
     "execution_count": 484,
     "metadata": {},
     "output_type": "execute_result"
    }
   ],
   "source": [
    "joblib.dump(ohe, 'bin/ohe.joblib') #into a folder bin (for binary)\n",
    "joblib.dump(categorical_imputer, 'bin/categorical_imputer.joblib')\n",
    "joblib.dump(simple_imputer, 'bin/simple_imputer.joblib')\n",
    "joblib.dump(scaler, 'bin/scaler.joblib')\n",
    "joblib.dump(model, 'bin/model.joblib')\n"
   ]
  },
  {
   "cell_type": "markdown",
   "metadata": {},
   "source": [
    "# Export DataSet"
   ]
  },
  {
   "cell_type": "markdown",
   "metadata": {},
   "source": [
    "Export pre-processed dataset to be used for Dashboard Streamlit (on which heroku deployed model will predicting scoring) : "
   ]
  },
  {
   "cell_type": "code",
   "execution_count": 485,
   "metadata": {},
   "outputs": [
    {
     "name": "stdout",
     "output_type": "stream",
     "text": [
      "67 object columns were converted to int.\n",
      "Feature engineering success\n",
      "Feature selection success\n",
      "df_test exported to dashboard_data folder.\n"
     ]
    }
   ],
   "source": [
    "app_test = pd.read_csv(\"../raw_data/application_test.csv\").astype(\"object\")\n",
    "\n",
    "app_test_converted = convert_dtypes_func(app_test)\n",
    "app_test_eng = feature_eng(app_test)\n",
    "app_test_selec_col = df_feature_selection(app_test_eng)\n",
    "\n",
    "df_test = app_test_selec_col.sample(frac=0.05, random_state=0)\n",
    "df_test = df_test.astype('object')\n",
    "\n",
    "df_test.to_csv(\"./dashboard_data/df_test.csv\", index=False)\n",
    "\n",
    "print('df_test exported to dashboard_data folder.')\n"
   ]
  },
  {
   "cell_type": "markdown",
   "metadata": {},
   "source": [
    "# Pydantic Documentation"
   ]
  },
  {
   "cell_type": "code",
   "execution_count": 486,
   "metadata": {},
   "outputs": [],
   "source": [
    "from pydantic import BaseModel, create_model, Field, ValidationError\n",
    "\n",
    "model = {}\n",
    "for i in range(len(app_train.dtypes)):\n",
    "    name = app_train.dtypes.index[i]\n",
    "    var_type = type(app_train.iloc[0, i])\n",
    "    model.update({name: (var_type, Field(...))})"
   ]
  },
  {
   "cell_type": "code",
   "execution_count": 487,
   "metadata": {},
   "outputs": [],
   "source": [
    "del model[\"SK_ID_CURR\"]\n",
    "del model[\"TARGET\"]\n",
    "del model[\"DAYS_EMPLOYED_ANOM\"]"
   ]
  },
  {
   "cell_type": "code",
   "execution_count": 488,
   "metadata": {},
   "outputs": [],
   "source": [
    "data_dict = joblib.dump(model, 'bin/data_dict.joblib')"
   ]
  },
  {
   "cell_type": "code",
   "execution_count": 39,
   "metadata": {},
   "outputs": [],
   "source": [
    "colonnes_scoring_predicted = [\"CODE_GENDER\",\n",
    "                              \"NAME_EDUCATION_TYPE\",\n",
    "                              \"DAYS_EMPLOYED\"\n",
    "                              \"EXT_SOURCE_1\",\n",
    "                              \"EXT_SOURCE_2\",\n",
    "                              \"EXT_SOURCE_3\",\n",
    "                              \"credit_downpayment\",\n",
    "                              \"AMT_INCOME_TOTAL\",\n",
    "                              \"annuity_income_ratio\",\n",
    "                              ]"
   ]
  },
  {
   "cell_type": "code",
   "execution_count": 40,
   "metadata": {},
   "outputs": [
    {
     "data": {
      "text/plain": [
       "['OWN_CAR_AGE', 'AGE_INT']"
      ]
     },
     "execution_count": 40,
     "metadata": {},
     "output_type": "execute_result"
    }
   ],
   "source": [
    "liste = [i for i in df_test.columns.to_list()]\n",
    "matching = [s for s in liste if \"AGE\" in s]\n",
    "matching"
   ]
  },
  {
   "cell_type": "code",
   "execution_count": 41,
   "metadata": {},
   "outputs": [
    {
     "data": {
      "text/plain": [
       "[1613, 824]"
      ]
     },
     "execution_count": 41,
     "metadata": {},
     "output_type": "execute_result"
    }
   ],
   "source": [
    "liste_value = df_test['CODE_GENDER'].value_counts().tolist()\n",
    "liste_value"
   ]
  },
  {
   "cell_type": "code",
   "execution_count": null,
   "metadata": {},
   "outputs": [],
   "source": [
    "df_test = pd.read_csv(\"./dashboard_data/df_test.csv\")"
   ]
  },
  {
   "cell_type": "code",
   "execution_count": 358,
   "metadata": {},
   "outputs": [],
   "source": [
    "list_cat_features = [\"NAME_CONTRACT_TYPE\",\n",
    "    \"CODE_GENDER\",\n",
    "    \"FLAG_OWN_CAR\",\n",
    "    \"FLAG_OWN_REALTY\",\n",
    "    \"NAME_TYPE_SUITE\",\n",
    "    \"NAME_INCOME_TYPE\",\n",
    "    \"NAME_EDUCATION_TYPE\",\n",
    "    \"NAME_FAMILY_STATUS\",\n",
    "    \"NAME_HOUSING_TYPE\",\n",
    "    \"REGION_POPULATION_RELATIVE\",\n",
    "    \"FLAG_MOBIL\",\n",
    "    \"FLAG_EMP_PHONE\",\n",
    "    \"FLAG_WORK_PHONE\",\n",
    "    \"FLAG_CONT_MOBILE\",\n",
    "    \"FLAG_PHONE\",\n",
    "    \"FLAG_EMAIL\",\n",
    "    \"OCCUPATION_TYPE\",\n",
    "    \"CNT_FAM_MEMBERS\",\n",
    "    \"REGION_RATING_CLIENT\",\n",
    "    \"WEEKDAY_APPR_PROCESS_START\",\n",
    "    \"HOUR_APPR_PROCESS_START\",\n",
    "    \"REG_REGION_NOT_LIVE_REGION\",\n",
    "    \"REG_REGION_NOT_WORK_REGION\",\n",
    "    \"LIVE_REGION_NOT_WORK_REGION\",\n",
    "    \"REG_CITY_NOT_LIVE_CITY\",\n",
    "    \"REG_CITY_NOT_WORK_CITY\",\n",
    "    \"LIVE_CITY_NOT_WORK_CITY\",\n",
    "    \"ORGANIZATION_TYPE\",\n",
    "    \"FONDKAPREMONT_MODE\",\n",
    "    \"HOUSETYPE_MODE\",\n",
    "    \"WALLSMATERIAL_MODE\",\n",
    "    \"EMERGENCYSTATE_MODE\",\n",
    "    \"FLAG_DOCUMENT_2\",\n",
    "    \"FLAG_DOCUMENT_3\",\n",
    "    \"FLAG_DOCUMENT_4\",\n",
    "    \"FLAG_DOCUMENT_5\",\n",
    "    \"FLAG_DOCUMENT_6\",\n",
    "    \"FLAG_DOCUMENT_7\",\n",
    "    \"FLAG_DOCUMENT_8\",\n",
    "    \"FLAG_DOCUMENT_9\",\n",
    "    \"FLAG_DOCUMENT_10\",\n",
    "    \"FLAG_DOCUMENT_11\",\n",
    "    \"FLAG_DOCUMENT_12\",\n",
    "    \"FLAG_DOCUMENT_13\",\n",
    "    \"FLAG_DOCUMENT_14\",\n",
    "    \"FLAG_DOCUMENT_15\",\n",
    "    \"FLAG_DOCUMENT_16\",\n",
    "    \"FLAG_DOCUMENT_17\",\n",
    "    \"FLAG_DOCUMENT_18\",\n",
    "    \"FLAG_DOCUMENT_19\",\n",
    "    \"FLAG_DOCUMENT_20\",\n",
    "    \"FLAG_DOCUMENT_21\"\n",
    "]\n",
    "list_num_features = [\n",
    "    \"CNT_CHILDREN\",\n",
    "    \"AMT_INCOME_TOTAL\",\n",
    "    \"AMT_CREDIT\",\n",
    "    \"AMT_ANNUITY\",\n",
    "    \"AMT_GOODS_PRICE\",\n",
    "    \"DAYS_EMPLOYED\",\n",
    "    \"DAYS_REGISTRATION\",\n",
    "    \"DAYS_ID_PUBLISH\",\n",
    "    \"OWN_CAR_AGE\",\n",
    "    \"EXT_SOURCE_1\",\n",
    "    \"EXT_SOURCE_2\",\n",
    "    \"EXT_SOURCE_3\",\n",
    "    \"APARTMENTS_AVG\",\n",
    "    \"BASEMENTAREA_AVG\",\n",
    "    \"YEARS_BEGINEXPLUATATION_AVG\",\n",
    "    \"YEARS_BUILD_AVG\",\n",
    "    \"COMMONAREA_AVG\",\n",
    "    \"ELEVATORS_AVG\",\n",
    "    \"ENTRANCES_AVG\",\n",
    "    \"FLOORSMAX_AVG\",\n",
    "    \"FLOORSMIN_AVG\",\n",
    "    \"LANDAREA_AVG\",\n",
    "    \"LIVINGAPARTMENTS_AVG\",\n",
    "    \"LIVINGAREA_AVG\",\n",
    "    \"NONLIVINGAPARTMENTS_AVG\",\n",
    "    \"NONLIVINGAREA_AVG\",\n",
    "    \"APARTMENTS_MODE\",\n",
    "    \"YEARS_BEGINEXPLUATATION_MODE\",\n",
    "    \"FLOORSMIN_MODE\",\n",
    "    \"LIVINGAREA_MODE\",\n",
    "    \"LANDAREA_MEDI\",\n",
    "    \"TOTALAREA_MODE\",\n",
    "    \"OBS_30_CNT_SOCIAL_CIRCLE\",\n",
    "    \"DEF_30_CNT_SOCIAL_CIRCLE\",\n",
    "    \"DEF_60_CNT_SOCIAL_CIRCLE\",\n",
    "    \"DAYS_LAST_PHONE_CHANGE\",\n",
    "    \"AMT_REQ_CREDIT_BUREAU_HOUR\",\n",
    "    \"AMT_REQ_CREDIT_BUREAU_DAY\",\n",
    "    \"AMT_REQ_CREDIT_BUREAU_WEEK\",\n",
    "    \"AMT_REQ_CREDIT_BUREAU_MON\",\n",
    "    \"AMT_REQ_CREDIT_BUREAU_QRT\",\n",
    "    \"AMT_REQ_CREDIT_BUREAU_YEAR\",\n",
    "    \"AGE_INT\",\n",
    "    \"annuity_income_ratio\",\n",
    "    \"credit_annuity_ratio\",\n",
    "    \"credit_goods_price_ratio\",\n",
    "    \"credit_downpayment\"\n",
    "]\n"
   ]
  },
  {
   "cell_type": "code",
   "execution_count": 489,
   "metadata": {},
   "outputs": [],
   "source": [
    "from pydantic import BaseModel, create_model\n",
    "\n",
    "data_dict = joblib.load(\"./bin/data_dict.joblib\")\n",
    "ohe = joblib.load(\"./bin/ohe.joblib\")\n",
    "categorical_imputer = joblib.load(\"./bin/categorical_imputer.joblib\")\n",
    "simple_imputer = joblib.load(\"./bin/simple_imputer.joblib\")\n",
    "scaler = joblib.load(\"./bin/scaler.joblib\")\n",
    "model = joblib.load(\"./bin/model.joblib\")\n"
   ]
  },
  {
   "cell_type": "code",
   "execution_count": 495,
   "metadata": {},
   "outputs": [
    {
     "data": {
      "text/plain": [
       "dict"
      ]
     },
     "execution_count": 495,
     "metadata": {},
     "output_type": "execute_result"
    }
   ],
   "source": [
    "type(data_dict)"
   ]
  },
  {
   "cell_type": "code",
   "execution_count": 490,
   "metadata": {},
   "outputs": [],
   "source": [
    "ScoringModel = create_model(\n",
    "    \"ScoringModel\",\n",
    "    **data_dict,\n",
    "    __base__=BaseModel,\n",
    ")"
   ]
  },
  {
   "cell_type": "code",
   "execution_count": 497,
   "metadata": {},
   "outputs": [
    {
     "ename": "TypeError",
     "evalue": "dict() takes exactly 1 positional argument (0 given)",
     "output_type": "error",
     "traceback": [
      "\u001b[0;31m---------------------------------------------------------------------------\u001b[0m",
      "\u001b[0;31mTypeError\u001b[0m                                 Traceback (most recent call last)",
      "\u001b[1;32m/Users/guilhemberthou/dev/P7_Scoring/model_training.ipynb Cell 33'\u001b[0m in \u001b[0;36m<cell line: 1>\u001b[0;34m()\u001b[0m\n\u001b[0;32m----> <a href='vscode-notebook-cell:/Users/guilhemberthou/dev/P7_Scoring/model_training.ipynb#ch0000119?line=0'>1</a>\u001b[0m \u001b[39mprint\u001b[39m(ScoringModel\u001b[39m.\u001b[39;49mdict())\n",
      "File \u001b[0;32m~/dev/P7_Scoring/myenv3/lib/python3.8/site-packages/pydantic/main.py:413\u001b[0m, in \u001b[0;36mpydantic.main.BaseModel.dict\u001b[0;34m()\u001b[0m\n",
      "\u001b[0;31mTypeError\u001b[0m: dict() takes exactly 1 positional argument (0 given)"
     ]
    }
   ],
   "source": [
    "print(ScoringModel.dict())"
   ]
  },
  {
   "cell_type": "code",
   "execution_count": 491,
   "metadata": {},
   "outputs": [
    {
     "ename": "TypeError",
     "evalue": "dict() takes exactly 1 positional argument (0 given)",
     "output_type": "error",
     "traceback": [
      "\u001b[0;31m---------------------------------------------------------------------------\u001b[0m",
      "\u001b[0;31mTypeError\u001b[0m                                 Traceback (most recent call last)",
      "\u001b[1;32m/Users/guilhemberthou/dev/P7_Scoring/model_training.ipynb Cell 32'\u001b[0m in \u001b[0;36m<cell line: 3>\u001b[0;34m()\u001b[0m\n\u001b[1;32m      <a href='vscode-notebook-cell:/Users/guilhemberthou/dev/P7_Scoring/model_training.ipynb#ch0000108?line=0'>1</a>\u001b[0m ScoringModel\u001b[39m.\u001b[39mupdate_forward_refs()\n\u001b[0;32m----> <a href='vscode-notebook-cell:/Users/guilhemberthou/dev/P7_Scoring/model_training.ipynb#ch0000108?line=2'>3</a>\u001b[0m item_dict \u001b[39m=\u001b[39m ScoringModel\u001b[39m.\u001b[39;49mdict()\n\u001b[1;32m      <a href='vscode-notebook-cell:/Users/guilhemberthou/dev/P7_Scoring/model_training.ipynb#ch0000108?line=4'>5</a>\u001b[0m df \u001b[39m=\u001b[39m pd\u001b[39m.\u001b[39mDataFrame(data\u001b[39m=\u001b[39m[item_dict\u001b[39m.\u001b[39mvalues()], columns\u001b[39m=\u001b[39mitem_dict\u001b[39m.\u001b[39mkeys())\n\u001b[1;32m      <a href='vscode-notebook-cell:/Users/guilhemberthou/dev/P7_Scoring/model_training.ipynb#ch0000108?line=5'>6</a>\u001b[0m df \u001b[39m=\u001b[39m df\u001b[39m.\u001b[39mastype(\u001b[39mobject\u001b[39m)\n",
      "File \u001b[0;32m~/dev/P7_Scoring/myenv3/lib/python3.8/site-packages/pydantic/main.py:413\u001b[0m, in \u001b[0;36mpydantic.main.BaseModel.dict\u001b[0;34m()\u001b[0m\n",
      "\u001b[0;31mTypeError\u001b[0m: dict() takes exactly 1 positional argument (0 given)"
     ]
    }
   ],
   "source": [
    "ScoringModel.update_forward_refs()\n",
    "\n",
    "item_dict = ScoringModel.dict()\n",
    "\n",
    "df = pd.DataFrame(data=[item_dict.values()], columns=item_dict.keys())\n",
    "df = df.astype(object)\n",
    "\n",
    "cat_array = categorical_imputer.transform(df[list_cat_features])\n",
    "cat_array = ohe.transform(cat_array).todense()\n",
    "\n",
    "num_array = simple_imputer.transform(df[list_num_features])\n",
    "# num_array = df[list_num_features].to_numpy()\n",
    "num_array = scaler.transform(num_array)\n",
    "\n",
    "X = np.concatenate[cat_array, num_array]\n",
    "X = np.asarray(X)"
   ]
  }
 ],
 "metadata": {
  "interpreter": {
   "hash": "31f2aee4e71d21fbe5cf8b01ff0e069b9275f58929596ceb00d14d90e3e16cd6"
  },
  "kernelspec": {
   "display_name": "Python 3.8.2 64-bit",
   "language": "python",
   "name": "python3"
  },
  "language_info": {
   "codemirror_mode": {
    "name": "ipython",
    "version": 3
   },
   "file_extension": ".py",
   "mimetype": "text/x-python",
   "name": "python",
   "nbconvert_exporter": "python",
   "pygments_lexer": "ipython3",
   "version": "3.8.9"
  },
  "orig_nbformat": 4
 },
 "nbformat": 4,
 "nbformat_minor": 2
}
